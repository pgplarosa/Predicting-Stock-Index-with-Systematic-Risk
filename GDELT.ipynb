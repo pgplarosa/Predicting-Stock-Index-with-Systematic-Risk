{
 "cells": [
  {
   "cell_type": "markdown",
   "id": "d34b2701",
   "metadata": {},
   "source": [
    "## Install Dependencies"
   ]
  },
  {
   "cell_type": "code",
   "execution_count": 1,
   "id": "30732f5a",
   "metadata": {},
   "outputs": [
    {
     "data": {
      "application/vnd.jupyter.widget-view+json": {
       "model_id": "c79808386b124eb1856d86622c283e45",
       "version_major": 2,
       "version_minor": 0
      },
      "text/plain": [
       "VBox()"
      ]
     },
     "metadata": {},
     "output_type": "display_data"
    },
    {
     "name": "stdout",
     "output_type": "stream",
     "text": [
      "Starting Spark application\n"
     ]
    },
    {
     "data": {
      "text/html": [
       "<table>\n",
       "<tr><th>ID</th><th>YARN Application ID</th><th>Kind</th><th>State</th><th>Spark UI</th><th>Driver log</th><th>Current session?</th></tr><tr><td>1</td><td>application_1646879473112_0003</td><td>pyspark</td><td>idle</td><td><a target=\"_blank\" href=\"http://ip-172-31-5-230.ec2.internal:20888/proxy/application_1646879473112_0003/\" class=\"emr-proxy-link\" emr-resource=\"j-1031TV8SU1WH3\n",
       "\" application-id=\"application_1646879473112_0003\">Link</a></td><td><a target=\"_blank\" href=\"http://ip-172-31-11-188.ec2.internal:8042/node/containerlogs/container_1646879473112_0003_01_000001/livy\" >Link</a></td><td>✔</td></tr></table>"
      ],
      "text/plain": [
       "<IPython.core.display.HTML object>"
      ]
     },
     "metadata": {},
     "output_type": "display_data"
    },
    {
     "data": {
      "application/vnd.jupyter.widget-view+json": {
       "model_id": "",
       "version_major": 2,
       "version_minor": 0
      },
      "text/plain": [
       "FloatProgress(value=0.0, bar_style='info', description='Progress:', layout=Layout(height='25px', width='50%'),…"
      ]
     },
     "metadata": {},
     "output_type": "display_data"
    },
    {
     "name": "stdout",
     "output_type": "stream",
     "text": [
      "SparkSession available as 'spark'.\n"
     ]
    },
    {
     "data": {
      "application/vnd.jupyter.widget-view+json": {
       "model_id": "",
       "version_major": 2,
       "version_minor": 0
      },
      "text/plain": [
       "FloatProgress(value=0.0, bar_style='info', description='Progress:', layout=Layout(height='25px', width='50%'),…"
      ]
     },
     "metadata": {},
     "output_type": "display_data"
    },
    {
     "name": "stdout",
     "output_type": "stream",
     "text": [
      "Collecting pip==22.0.4\n",
      "  Using cached https://files.pythonhosted.org/packages/4d/16/0a14ca596f30316efd412a60bdfac02a7259bf8673d4d917dc60b9a21812/pip-22.0.4-py3-none-any.whl\n",
      "Installing collected packages: pip\n",
      "  Found existing installation: pip 9.0.1\n",
      "    Uninstalling pip-9.0.1:\n",
      "      Successfully uninstalled pip-9.0.1\n",
      "Successfully installed pip-22.0.4\n",
      "\n",
      "  Cache entry deserialization failed, entry ignored"
     ]
    }
   ],
   "source": [
    "sc.install_pypi_package('pip==22.0.4')\n",
    "sc.install_pypi_package('fsspec')\n",
    "sc.install_pypi_package('s3fs')\n",
    "sc.install_pypi_package(\"pandas==0.25.1\")"
   ]
  },
  {
   "cell_type": "code",
   "execution_count": 12,
   "id": "b735d948",
   "metadata": {
    "scrolled": true
   },
   "outputs": [
    {
     "data": {
      "application/vnd.jupyter.widget-view+json": {
       "model_id": "a218ce7e5d8f4dc3bb048548eb0a0ca8",
       "version_major": 2,
       "version_minor": 0
      },
      "text/plain": [
       "VBox()"
      ]
     },
     "metadata": {},
     "output_type": "display_data"
    },
    {
     "name": "stderr",
     "output_type": "stream",
     "text": [
      "An error was encountered:\n",
      "Invalid status code '404' from http://localhost:8998/sessions/1 with error payload: {\"msg\":\"Session '1' not found.\"}\n"
     ]
    }
   ],
   "source": [
    "sc.list_packages()"
   ]
  },
  {
   "cell_type": "markdown",
   "id": "e152b3e9",
   "metadata": {},
   "source": [
    "## Import Packages"
   ]
  },
  {
   "cell_type": "code",
   "execution_count": 5,
   "id": "82f6688e",
   "metadata": {},
   "outputs": [
    {
     "data": {
      "application/vnd.jupyter.widget-view+json": {
       "model_id": "",
       "version_major": 2,
       "version_minor": 0
      },
      "text/plain": [
       "VBox()"
      ]
     },
     "metadata": {},
     "output_type": "display_data"
    },
    {
     "data": {
      "application/vnd.jupyter.widget-view+json": {
       "model_id": "",
       "version_major": 2,
       "version_minor": 0
      },
      "text/plain": [
       "FloatProgress(value=0.0, bar_style='info', description='Progress:', layout=Layout(height='25px', width='50%'),…"
      ]
     },
     "metadata": {},
     "output_type": "display_data"
    }
   ],
   "source": [
    "import s3fs\n",
    "import fsspec\n",
    "import pandas as pd\n",
    "from pyspark.sql import Window\n",
    "from pyspark.sql import functions as F"
   ]
  },
  {
   "cell_type": "markdown",
   "id": "5c25fc9b",
   "metadata": {},
   "source": [
    "## Load Header Names"
   ]
  },
  {
   "cell_type": "code",
   "execution_count": 6,
   "id": "308a5f27",
   "metadata": {},
   "outputs": [
    {
     "data": {
      "application/vnd.jupyter.widget-view+json": {
       "model_id": "",
       "version_major": 2,
       "version_minor": 0
      },
      "text/plain": [
       "VBox()"
      ]
     },
     "metadata": {},
     "output_type": "display_data"
    },
    {
     "data": {
      "application/vnd.jupyter.widget-view+json": {
       "model_id": "",
       "version_major": 2,
       "version_minor": 0
      },
      "text/plain": [
       "FloatProgress(value=0.0, bar_style='info', description='Progress:', layout=Layout(height='25px', width='50%'),…"
      ]
     },
     "metadata": {},
     "output_type": "display_data"
    },
    {
     "name": "stdout",
     "output_type": "stream",
     "text": [
      "['GLOBALEVENTID', 'SQLDATE', 'MonthYear', 'Year', 'FractionDate', 'Actor1Code', 'Actor1Name', 'Actor1CountryCode', 'Actor1KnownGroupCode', 'Actor1EthnicCode', 'Actor1Religion1Code', 'Actor1Religion2Code', 'Actor1Type1Code', 'Actor1Type2Code', 'Actor1Type3Code', 'Actor2Code', 'Actor2Name', 'Actor2CountryCode', 'Actor2KnownGroupCode', 'Actor2EthnicCode', 'Actor2Religion1Code', 'Actor2Religion2Code', 'Actor2Type1Code', 'Actor2Type2Code', 'Actor2Type3Code', 'IsRootEvent', 'EventCode', 'EventBaseCode', 'EventRootCode', 'QuadClass', 'GoldsteinScale', 'NumMentions', 'NumSources', 'NumArticles', 'AvgTone', 'Actor1Geo_Type', 'Actor1Geo_FullName', 'Actor1Geo_CountryCode', 'Actor1Geo_ADM1Code', 'Actor1Geo_ADM2Code', 'Actor1Geo_Lat', 'Actor1Geo_Long', 'Actor1Geo_FeatureID', 'Actor2Geo_Type', 'Actor2Geo_FullName', 'Actor2Geo_CountryCode', 'Actor2Geo_ADM1Code', 'Actor2Geo_ADM2Code', 'Actor2Geo_Lat', 'Actor2Geo_Long', 'Actor2Geo_FeatureID', 'ActionGeo_Type', 'ActionGeo_FullName', 'ActionGeo_CountryCode', 'ActionGeo_ADM1Code', 'ActionGeo_ADM2Code', 'ActionGeo_Lat', 'ActionGeo_Long', 'ActionGeo_FeatureID', 'DATEADDED', 'SOURCEURL']"
     ]
    }
   ],
   "source": [
    "columns = (spark.read.text('s3://bdcc-2022-final-project/headers.csv')\n",
    "           .toPandas()['value'].tolist()[1:])\n",
    "columns"
   ]
  },
  {
   "cell_type": "markdown",
   "id": "3289982f",
   "metadata": {},
   "source": [
    "## Load Data"
   ]
  },
  {
   "cell_type": "code",
   "execution_count": 7,
   "id": "359dc7c3",
   "metadata": {},
   "outputs": [
    {
     "data": {
      "application/vnd.jupyter.widget-view+json": {
       "model_id": "",
       "version_major": 2,
       "version_minor": 0
      },
      "text/plain": [
       "VBox()"
      ]
     },
     "metadata": {},
     "output_type": "display_data"
    },
    {
     "data": {
      "application/vnd.jupyter.widget-view+json": {
       "model_id": "",
       "version_major": 2,
       "version_minor": 0
      },
      "text/plain": [
       "FloatProgress(value=0.0, bar_style='info', description='Progress:', layout=Layout(height='25px', width='50%'),…"
      ]
     },
     "metadata": {},
     "output_type": "display_data"
    }
   ],
   "source": [
    "# main\n",
    "\n",
    "# year = 2019\n",
    "data = (spark.read.text('s3://gdelt-open-data/v2/events/*.csv')\n",
    "        .select(F.split(F.lower('value'), '\\t').alias('split')))"
   ]
  },
  {
   "cell_type": "markdown",
   "id": "12cf893c",
   "metadata": {},
   "source": [
    "## Mean Average Tone"
   ]
  },
  {
   "cell_type": "code",
   "execution_count": 14,
   "id": "7bc318e4",
   "metadata": {},
   "outputs": [
    {
     "data": {
      "application/vnd.jupyter.widget-view+json": {
       "model_id": "4333969b300a481582c518c26d6d75ff",
       "version_major": 2,
       "version_minor": 0
      },
      "text/plain": [
       "VBox()"
      ]
     },
     "metadata": {},
     "output_type": "display_data"
    },
    {
     "data": {
      "application/vnd.jupyter.widget-view+json": {
       "model_id": "",
       "version_major": 2,
       "version_minor": 0
      },
      "text/plain": [
       "FloatProgress(value=0.0, bar_style='info', description='Progress:', layout=Layout(height='25px', width='50%'),…"
      ]
     },
     "metadata": {},
     "output_type": "display_data"
    }
   ],
   "source": [
    "# change the keyword to filter the dataset and save average tone for that day\n",
    "\n",
    "keyword = 'netflix'\n",
    "\n",
    "((data\n",
    " .withColumn('DATEADDED', F.col('split').getItem(columns.index('DATEADDED')))\n",
    " .withColumn('Actor1Name', F.col('split').getItem(columns.index('Actor1Name')))\n",
    " .withColumn('Actor2Name', F.col('split').getItem(columns.index('Actor2Name')))\n",
    " .withColumn('AvgTone', F.col('split').getItem(columns.index('AvgTone')).cast('int'))\n",
    " .withColumn('SOURCEURL', F.col('split').getItem(columns.index('SOURCEURL')))\n",
    " .drop('split')\n",
    " .filter((F.col('Actor1Name').contains(keyword)) |\n",
    "         (F.col('Actor2Name').contains(keyword)) |\n",
    "         (F.col('SOURCEURL').contains(keyword)))\n",
    " .groupBy(F.substring('DATEADDED', 1, 8).alias('DATEADDED'))\n",
    " .agg(F.mean('AvgTone').alias('Daily Average Tone'))\n",
    " .orderBy('DATEADDED')\n",
    ").toPandas()\n",
    " .to_csv('s3://bdcc-2022-final-project/{}.csv'.format(keyword), index=False))"
   ]
  },
  {
   "cell_type": "markdown",
   "id": "beaa7558",
   "metadata": {},
   "source": [
    "## Cumulative Sum Average Tone"
   ]
  },
  {
   "cell_type": "code",
   "execution_count": 11,
   "id": "00b4711d",
   "metadata": {},
   "outputs": [
    {
     "data": {
      "application/vnd.jupyter.widget-view+json": {
       "model_id": "9946a413284a415f94889ed94eceb653",
       "version_major": 2,
       "version_minor": 0
      },
      "text/plain": [
       "VBox()"
      ]
     },
     "metadata": {},
     "output_type": "display_data"
    },
    {
     "name": "stderr",
     "output_type": "stream",
     "text": [
      "An error was encountered:\n",
      "Invalid status code '404' from http://localhost:8998/sessions/1 with error payload: {\"msg\":\"Session '1' not found.\"}\n"
     ]
    }
   ],
   "source": [
    "# change the keyword to filter the dataset and save cumulative tone for that day\n",
    "\n",
    "keyword = 'microsoft'\n",
    "\n",
    "windowval = (Window.partitionBy(F.substring('DATEADDED', 1, 8)).orderBy('DATEADDED')\n",
    "             .rowsBetween(Window.unboundedPreceding, 0))\n",
    "\n",
    "((data\n",
    "  .withColumn('DATEADDED', F.col('split').getItem(columns.index('DATEADDED')))\n",
    "  .withColumn('Actor1Name', F.col('split').getItem(columns.index('Actor1Name')))\n",
    "  .withColumn('Actor2Name', F.col('split').getItem(columns.index('Actor2Name')))\n",
    "  .withColumn('AvgTone', F.col('split').getItem(columns.index('AvgTone')).cast('int'))\n",
    "  .withColumn('SOURCEURL', F.col('split').getItem(columns.index('SOURCEURL')))\n",
    "  .drop('split')\n",
    "  .filter((F.col('Actor1Name').contains(keyword)) |\n",
    "          (F.col('Actor2Name').contains(keyword)) |\n",
    "          (F.col('SOURCEURL').contains(keyword)))\n",
    "  .withColumn('cum_sum', F.sum('AvgTone').over(windowval))\n",
    "  .groupBy(F.substring('DATEADDED', 1, 8).alias('DATEADDED'))\n",
    "  .agg(F.mean('cum_sum').alias('Daily Average Tone'))\n",
    "  .orderBy('DATEADDED')\n",
    " ).toPandas()\n",
    "  .to_csv('s3://bdcc-2022-final-project/{}_cumsum.csv'.format(keyword),\n",
    "          index=False))"
   ]
  }
 ],
 "metadata": {
  "kernelspec": {
   "display_name": "PySpark",
   "language": "",
   "name": "pysparkkernel"
  },
  "language_info": {
   "codemirror_mode": {
    "name": "python",
    "version": 3
   },
   "mimetype": "text/x-python",
   "name": "pyspark",
   "pygments_lexer": "python3"
  }
 },
 "nbformat": 4,
 "nbformat_minor": 5
}
