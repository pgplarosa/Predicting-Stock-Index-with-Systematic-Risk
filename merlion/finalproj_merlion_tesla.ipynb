{
 "cells": [
  {
   "cell_type": "markdown",
   "id": "6087abcd",
   "metadata": {},
   "source": [
    "In order to run this notebook, the following environment and packages had to be installed:\n",
    "\n",
    "$ conda create -n v-env python=3.8\n",
    "\n",
    "activate v-env\n",
    "\n",
    "conda activate v-env\n",
    "\n",
    "conda config --set channel_priority false\n",
    "\n",
    "conda install -c conda-forge prophet\n",
    "\n",
    "pip install salesforce-merlion\n",
    "\n",
    "pip install pingouin\n",
    "\n",
    "pip install PyYAML\n",
    "\n",
    "pip install SQLAlchemy\n",
    "\n",
    "pip install ipykernel\n",
    "\n",
    "pip install jinja2\n",
    "\n",
    "pip install sfc-merlion[plot]\n",
    "\n",
    "pip install -e ts_datasets/\n",
    "\n",
    "conda install -e ts_datasets/\n",
    "\n",
    "conda install -c conda-forge lightgbm\n",
    "\n",
    "conda activate v-env\n",
    "\n",
    "pip install -e ts_datasets/\n",
    "\n",
    "pip intall -e ./Merlion/ts_dataset/"
   ]
  },
  {
   "cell_type": "code",
   "execution_count": 3,
   "id": "9baee9bc",
   "metadata": {
    "ExecuteTime": {
     "end_time": "2022-03-10T11:14:47.068952Z",
     "start_time": "2022-03-10T11:14:47.053050Z"
    }
   },
   "outputs": [],
   "source": [
    "import matplotlib.pyplot as plt\n",
    "import numpy as np\n",
    "import pandas as pd\n",
    "\n",
    "from scipy.stats import norm\n",
    "\n",
    "#from ts_datasets.anomaly import NAB\n",
    "#from ts_datasets.forecast import M4\n",
    "\n",
    "#from merlion.plot import plot_anoms\n",
    "from merlion.utils import TimeSeries\n",
    "from merlion.utils.time_series import TimeSeries\n",
    "\n",
    "from merlion.transform.base import Identity\n",
    "from merlion.transform.resample import TemporalResample\n",
    "from merlion.transform.moving_average import DifferenceTransform\n",
    "\n",
    "from merlion.models.defaults import DefaultDetectorConfig, DefaultDetector\n",
    "#from merlion.models.anomaly.isolation_forest import IsolationForest, IsolationForestConfig\n",
    "#from merlion.models.anomaly.windstats import WindStats, WindStatsConfig\n",
    "#from merlion.models.anomaly.forecast_based.prophet import ProphetDetector, ProphetDetectorConfig\n",
    "\n",
    "from merlion.models.forecast.arima import Arima, ArimaConfig\n",
    "from merlion.models.forecast.prophet import Prophet, ProphetConfig\n",
    "from merlion.models.forecast.smoother import MSES, MSESConfig\n",
    "\n",
    "#from merlion.models.ensemble.anomaly import DetectorEnsemble, DetectorEnsembleConfig\n",
    "from merlion.models.defaults import DefaultForecasterConfig, DefaultForecaster\n",
    "from merlion.models.ensemble.combine import Mean, ModelSelector\n",
    "from merlion.models.ensemble.forecast import ForecasterEnsemble, ForecasterEnsembleConfig\n",
    "\n",
    "#from merlion.evaluate.anomaly import TSADMetric\n",
    "from merlion.post_process.threshold import AggregateAlarms\n",
    "from merlion.evaluate.forecast import ForecastMetric\n",
    "\n",
    "from merlion.evaluate.forecast import ForecastMetric\n",
    "from merlion.models.factory import ModelFactory\n",
    "from merlion.models.ensemble.combine import ModelSelector"
   ]
  },
  {
   "cell_type": "markdown",
   "id": "04aaf476",
   "metadata": {},
   "source": [
    "# With Tone"
   ]
  },
  {
   "cell_type": "code",
   "execution_count": null,
   "id": "0190b781",
   "metadata": {
    "ExecuteTime": {
     "end_time": "2022-03-10T03:10:22.030109Z",
     "start_time": "2022-03-10T03:10:21.993971Z"
    }
   },
   "outputs": [],
   "source": [
    "tesla = pd.read_csv('~/cpt1/bdcc/final_project/GDELTS/tesla_complete.csv')\n",
    "tesla_mv = tesla.drop('target', axis=1)\n",
    "tesla_mv['Date'] = pd.date_range(tesla_mv['Date'][0], periods=tesla_mv.shape[0], freq='D')\n",
    "tesla_mv.set_index('Date', inplace=True)"
   ]
  },
  {
   "cell_type": "code",
   "execution_count": null,
   "id": "60d34f18",
   "metadata": {
    "ExecuteTime": {
     "end_time": "2022-03-10T03:10:26.884890Z",
     "start_time": "2022-03-10T03:10:26.839785Z"
    }
   },
   "outputs": [],
   "source": [
    "tesla_mv"
   ]
  },
  {
   "cell_type": "code",
   "execution_count": null,
   "id": "48353879",
   "metadata": {
    "ExecuteTime": {
     "end_time": "2022-03-10T03:10:34.084332Z",
     "start_time": "2022-03-10T03:10:34.035377Z"
    }
   },
   "outputs": [],
   "source": [
    "test_size = 210\n",
    "train_data = TimeSeries.from_pd(tesla_mv[:-test_size])\n",
    "test_data  = TimeSeries.from_pd(tesla_mv[-test_size:])\n",
    "print(f\"{len(train_data)} points in train split, \"\n",
    "      f\"{len(test_data)} points in test split.\")\n",
    "print(f\"Time series is {train_data.dim}-dimensional\")"
   ]
  },
  {
   "cell_type": "code",
   "execution_count": null,
   "id": "5ebac327",
   "metadata": {
    "ExecuteTime": {
     "end_time": "2022-03-09T17:04:20.291686Z",
     "start_time": "2022-03-09T16:56:11.638984Z"
    }
   },
   "outputs": [],
   "source": [
    "from merlion.evaluate.forecast import ForecastMetric\n",
    "from merlion.models.factory import ModelFactory\n",
    "from merlion.models.ensemble.combine import ModelSelector\n",
    "\n",
    "target_seq_index = 0\n",
    "max_forecast_steps = 42\n",
    "kwargs = dict(target_seq_index=target_seq_index, max_forecast_steps=max_forecast_steps)\n",
    "\n",
    "model1 = ModelFactory.create(\"DefaultForecaster\", **kwargs)\n",
    "model2 = ModelFactory.create(\"Arima\", **kwargs)\n",
    "\n",
    "model3 = ModelFactory.create(\"ForecasterEnsemble\", models=[model1, model2],\n",
    "                             combiner=ModelSelector(metric=ForecastMetric.sMAPE))\n",
    "\n",
    "for model in [model1, model2, model3]:\n",
    "    print(f\"Training {type(model).__name__}...\")\n",
    "    train_pred, train_stderr = model.train(train_data)"
   ]
  },
  {
   "cell_type": "code",
   "execution_count": null,
   "id": "2ff253b9",
   "metadata": {
    "ExecuteTime": {
     "end_time": "2022-03-09T17:04:20.296282Z",
     "start_time": "2022-03-09T17:04:20.296247Z"
    }
   },
   "outputs": [],
   "source": [
    "target = TimeSeries.from_pd(tesla_mv)\n",
    "target = target.univariates['Close'][(-test_size-1):(-test_size-1+max_forecast_steps)].to_ts()"
   ]
  },
  {
   "cell_type": "code",
   "execution_count": null,
   "id": "ccbafb62",
   "metadata": {
    "ExecuteTime": {
     "end_time": "2022-03-09T17:04:20.299127Z",
     "start_time": "2022-03-09T17:04:20.299096Z"
    }
   },
   "outputs": [],
   "source": [
    "from merlion.evaluate.forecast import ForecastMetric\n",
    "\n",
    "for model in [model1, model2, model3]:\n",
    "    forecast, stderr = model.forecast(target.time_stamps)\n",
    "    rmse = ForecastMetric.RMSE.value(ground_truth=target, predict=forecast)\n",
    "    smape = ForecastMetric.sMAPE.value(ground_truth=target, predict=forecast)\n",
    "    mae = ForecastMetric.MAE.value(ground_truth=target, predict=forecast)\n",
    "    \n",
    "    print(f\"{type(model).__name__}\")\n",
    "    print(f\"RMSE:  {rmse:.4f}\")\n",
    "    print(f\"sMAPE: {smape:.4f}\")\n",
    "    print(f\"MAE:   {mae:.4f}\")"
   ]
  },
  {
   "cell_type": "markdown",
   "id": "ad646deb",
   "metadata": {},
   "source": [
    "# No Tone"
   ]
  },
  {
   "cell_type": "code",
   "execution_count": null,
   "id": "ab8b8efd",
   "metadata": {
    "ExecuteTime": {
     "end_time": "2022-03-09T17:04:20.301803Z",
     "start_time": "2022-03-09T17:04:20.301768Z"
    }
   },
   "outputs": [],
   "source": [
    "tesla = pd.read_csv('~/cpt1/bdcc/final_project/GDELTS/tesla_complete.csv')\n",
    "tesla_mv = tesla.drop(['target', 'Daily Average Tone'], axis=1)\n",
    "tesla_mv['Date'] = pd.date_range(tesla_mv['Date'][0], periods=tesla_mv.shape[0], freq='D')\n",
    "tesla_mv.set_index('Date', inplace=True)"
   ]
  },
  {
   "cell_type": "code",
   "execution_count": null,
   "id": "9495f091",
   "metadata": {
    "ExecuteTime": {
     "end_time": "2022-03-09T17:04:20.304138Z",
     "start_time": "2022-03-09T17:04:20.304111Z"
    }
   },
   "outputs": [],
   "source": [
    "tesla_mv"
   ]
  },
  {
   "cell_type": "code",
   "execution_count": null,
   "id": "6b9b7e20",
   "metadata": {
    "ExecuteTime": {
     "end_time": "2022-03-09T17:04:20.306242Z",
     "start_time": "2022-03-09T17:04:20.306215Z"
    }
   },
   "outputs": [],
   "source": [
    "test_size = 210\n",
    "train_data = TimeSeries.from_pd(tesla_mv[:-test_size])\n",
    "test_data  = TimeSeries.from_pd(tesla_mv[-test_size:])\n",
    "print(f\"{len(train_data)} points in train split, \"\n",
    "      f\"{len(test_data)} points in test split.\")\n",
    "print(f\"Time series is {train_data.dim}-dimensional\")"
   ]
  },
  {
   "cell_type": "code",
   "execution_count": null,
   "id": "49fcedf3",
   "metadata": {
    "ExecuteTime": {
     "end_time": "2022-03-09T15:18:28.535489Z",
     "start_time": "2022-03-09T15:04:33.437033Z"
    }
   },
   "outputs": [],
   "source": [
    "target_seq_index = 0\n",
    "max_forecast_steps = 5\n",
    "kwargs = dict(target_seq_index=target_seq_index, max_forecast_steps=max_forecast_steps)\n",
    "\n",
    "model1 = ModelFactory.create(\"DefaultForecaster\", **kwargs)\n",
    "model2 = ModelFactory.create(\"Arima\", **kwargs)\n",
    "\n",
    "model3 = ModelFactory.create(\"ForecasterEnsemble\", models=[model1, model2],\n",
    "                             combiner=ModelSelector(metric=ForecastMetric.sMAPE))\n",
    "\n",
    "for model in [model1, model2, model3]:\n",
    "    print(f\"Training {type(model).__name__}...\")\n",
    "    train_pred, train_stderr = model.train(train_data)"
   ]
  },
  {
   "cell_type": "code",
   "execution_count": null,
   "id": "365a283f",
   "metadata": {
    "ExecuteTime": {
     "end_time": "2022-03-09T15:18:28.554494Z",
     "start_time": "2022-03-09T15:18:28.538701Z"
    }
   },
   "outputs": [],
   "source": [
    "target = TimeSeries.from_pd(tesla_mv)\n",
    "target = target.univariates['Close'][(-test_size-1):(-test_size-1+max_forecast_steps)].to_ts()"
   ]
  },
  {
   "cell_type": "code",
   "execution_count": null,
   "id": "9e052dd7",
   "metadata": {
    "ExecuteTime": {
     "end_time": "2022-03-09T15:18:28.681407Z",
     "start_time": "2022-03-09T15:18:28.556387Z"
    }
   },
   "outputs": [],
   "source": [
    "for model in [model1, model2, model3]:\n",
    "    forecast, stderr = model.forecast(target.time_stamps)\n",
    "    rmse = ForecastMetric.RMSE.value(ground_truth=target, predict=forecast)\n",
    "    smape = ForecastMetric.sMAPE.value(ground_truth=target, predict=forecast)\n",
    "    mae = ForecastMetric.MAE.value(ground_truth=target, predict=forecast)\n",
    "    \n",
    "    print(f\"{type(model).__name__}\")\n",
    "    print(f\"RMSE:  {rmse:.4f}\")\n",
    "    print(f\"sMAPE: {smape:.4f}\")\n",
    "    print(f\"MAE:   {mae:.4f}\")"
   ]
  },
  {
   "cell_type": "markdown",
   "id": "895bc3e1",
   "metadata": {},
   "source": [
    "# Close and Tone Only"
   ]
  },
  {
   "cell_type": "code",
   "execution_count": null,
   "id": "28d8f124",
   "metadata": {
    "ExecuteTime": {
     "end_time": "2022-03-09T16:19:18.617349Z",
     "start_time": "2022-03-09T16:19:18.579168Z"
    }
   },
   "outputs": [],
   "source": [
    "tesla = pd.read_csv('~/cpt1/bdcc/final_project/GDELTS/tesla_complete.csv')\n",
    "tesla_mv = tesla.drop('target', axis=1)\n",
    "tesla_mv['Date'] = pd.date_range(tesla_mv['Date'][0], periods=tesla_mv.shape[0], freq='D')\n",
    "tesla_mv.set_index('Date', inplace=True)"
   ]
  },
  {
   "cell_type": "code",
   "execution_count": null,
   "id": "a746e813",
   "metadata": {
    "ExecuteTime": {
     "end_time": "2022-03-09T16:19:18.986513Z",
     "start_time": "2022-03-09T16:19:18.977479Z"
    }
   },
   "outputs": [],
   "source": [
    "tesla_mv = tesla_mv[['Close', 'Daily Average Tone']]"
   ]
  },
  {
   "cell_type": "code",
   "execution_count": null,
   "id": "ea697a53",
   "metadata": {
    "ExecuteTime": {
     "end_time": "2022-03-09T16:19:19.394643Z",
     "start_time": "2022-03-09T16:19:19.370504Z"
    }
   },
   "outputs": [],
   "source": [
    "test_size = 210\n",
    "train_data = TimeSeries.from_pd(tesla_mv[:-test_size])\n",
    "test_data  = TimeSeries.from_pd(tesla_mv[-test_size:])\n",
    "print(f\"{len(train_data)} points in train split, \"\n",
    "      f\"{len(test_data)} points in test split.\")\n",
    "print(f\"Time series is {train_data.dim}-dimensional\")"
   ]
  },
  {
   "cell_type": "code",
   "execution_count": null,
   "id": "2036868a",
   "metadata": {
    "ExecuteTime": {
     "end_time": "2022-03-09T16:20:26.604386Z",
     "start_time": "2022-03-09T16:19:19.903731Z"
    }
   },
   "outputs": [],
   "source": [
    "target_seq_index = 0\n",
    "max_forecast_steps = 5 # 5\n",
    "kwargs = dict(target_seq_index=target_seq_index, max_forecast_steps=max_forecast_steps)\n",
    "\n",
    "model1 = ModelFactory.create(\"DefaultForecaster\", **kwargs)\n",
    "model2 = ModelFactory.create(\"Arima\", **kwargs)\n",
    "\n",
    "model3 = ModelFactory.create(\"ForecasterEnsemble\", models=[model1, model2],\n",
    "                             combiner=ModelSelector(metric=ForecastMetric.sMAPE))\n",
    "\n",
    "for model in [model1, model2, model3]:\n",
    "    print(f\"Training {type(model).__name__}...\")\n",
    "    train_pred, train_stderr = model.train(train_data)"
   ]
  },
  {
   "cell_type": "code",
   "execution_count": null,
   "id": "b68c6e4d",
   "metadata": {
    "ExecuteTime": {
     "end_time": "2022-03-09T16:20:26.615646Z",
     "start_time": "2022-03-09T16:20:26.607531Z"
    }
   },
   "outputs": [],
   "source": [
    "target = TimeSeries.from_pd(tesla_mv)\n",
    "target = target.univariates['Close'][(-test_size-1):(-test_size-1+max_forecast_steps)].to_ts()"
   ]
  },
  {
   "cell_type": "code",
   "execution_count": null,
   "id": "25e46db6",
   "metadata": {
    "ExecuteTime": {
     "end_time": "2022-03-09T16:20:26.737981Z",
     "start_time": "2022-03-09T16:20:26.618079Z"
    }
   },
   "outputs": [],
   "source": [
    "for model in [model1, model2, model3]:\n",
    "    forecast, stderr = model.forecast(target.time_stamps)\n",
    "    rmse = ForecastMetric.RMSE.value(ground_truth=target, predict=forecast)\n",
    "    smape = ForecastMetric.sMAPE.value(ground_truth=target, predict=forecast)\n",
    "    mae = ForecastMetric.MAE.value(ground_truth=target, predict=forecast)\n",
    "    \n",
    "    print(f\"{type(model).__name__}\")\n",
    "    print(f\"RMSE:  {rmse:.4f}\")\n",
    "    print(f\"sMAPE: {smape:.4f}\")\n",
    "    print(f\"MAE:   {mae:.4f}\")"
   ]
  },
  {
   "cell_type": "code",
   "execution_count": null,
   "id": "bc3eb04a",
   "metadata": {
    "ExecuteTime": {
     "end_time": "2022-03-09T15:33:43.203195Z",
     "start_time": "2022-03-09T15:33:43.182544Z"
    }
   },
   "outputs": [],
   "source": [
    "forecast"
   ]
  },
  {
   "cell_type": "code",
   "execution_count": null,
   "id": "ddd8a00c",
   "metadata": {
    "ExecuteTime": {
     "end_time": "2022-03-09T15:33:45.432325Z",
     "start_time": "2022-03-09T15:33:45.413053Z"
    },
    "scrolled": true
   },
   "outputs": [],
   "source": [
    "target"
   ]
  },
  {
   "cell_type": "markdown",
   "id": "57bba2af",
   "metadata": {},
   "source": [
    "# 5 Day Horizon With Tone"
   ]
  },
  {
   "cell_type": "code",
   "execution_count": null,
   "id": "ad5d4a76",
   "metadata": {
    "ExecuteTime": {
     "end_time": "2022-03-10T03:11:24.948955Z",
     "start_time": "2022-03-10T03:11:24.922814Z"
    }
   },
   "outputs": [],
   "source": [
    "tesla = pd.read_csv('~/cpt1/bdcc/final_project/GDELTS/tesla_complete.csv')\n",
    "tesla_mv = tesla.drop('target', axis=1)\n",
    "tesla_mv['Date'] = pd.date_range(tesla_mv['Date'][0], periods=tesla_mv.shape[0], freq='D')\n",
    "tesla_mv.set_index('Date', inplace=True)"
   ]
  },
  {
   "cell_type": "code",
   "execution_count": null,
   "id": "3560c773",
   "metadata": {
    "ExecuteTime": {
     "end_time": "2022-03-10T03:11:31.638820Z",
     "start_time": "2022-03-10T03:11:31.590250Z"
    }
   },
   "outputs": [],
   "source": [
    "tesla_mv"
   ]
  },
  {
   "cell_type": "code",
   "execution_count": null,
   "id": "09713fdd",
   "metadata": {
    "ExecuteTime": {
     "end_time": "2022-03-09T16:22:37.877422Z",
     "start_time": "2022-03-09T16:22:37.869684Z"
    }
   },
   "outputs": [],
   "source": [
    "#tesla_mv = tesla_mv[['Close', 'Daily Average Tone']]"
   ]
  },
  {
   "cell_type": "code",
   "execution_count": null,
   "id": "c54a6aa9",
   "metadata": {
    "ExecuteTime": {
     "end_time": "2022-03-09T16:41:52.032420Z",
     "start_time": "2022-03-09T16:41:51.989184Z"
    }
   },
   "outputs": [],
   "source": [
    "test_size = 210\n",
    "train_data = TimeSeries.from_pd(tesla_mv[:-test_size])\n",
    "test_data  = TimeSeries.from_pd(tesla_mv[-test_size:])\n",
    "print(f\"{len(train_data)} points in train split, \"\n",
    "      f\"{len(test_data)} points in test split.\")\n",
    "print(f\"Time series is {train_data.dim}-dimensional\")"
   ]
  },
  {
   "cell_type": "code",
   "execution_count": null,
   "id": "071da110",
   "metadata": {
    "ExecuteTime": {
     "end_time": "2022-03-09T16:55:14.815644Z",
     "start_time": "2022-03-09T16:42:11.335482Z"
    }
   },
   "outputs": [],
   "source": [
    "from merlion.evaluate.forecast import ForecastEvaluator, ForecastEvaluatorConfig\n",
    "\n",
    "target_seq_index = 0\n",
    "max_forecast_steps = 42\n",
    "kwargs = dict(target_seq_index=target_seq_index, max_forecast_steps=max_forecast_steps)\n",
    "\n",
    "model1 = ModelFactory.create(\"DefaultForecaster\", **kwargs)\n",
    "model2 = ModelFactory.create(\"Arima\", **kwargs)\n",
    "\n",
    "for model in [model1, model2]:\n",
    "    print(f\"{type(model).__name__} Sliding Window Evaluation\")\n",
    "    evaluator = ForecastEvaluator(model=model, config=ForecastEvaluatorConfig(\n",
    "        horizon=\"5d\", cadence=\"1d\", retrain_freq=None))\n",
    "    train_result, test_pred = evaluator.get_predict(train_vals=train_data, test_vals=test_data)\n",
    "    rmse = evaluator.evaluate(ground_truth=test_data, predict=test_pred, metric=ForecastMetric.RMSE)\n",
    "    smape = evaluator.evaluate(ground_truth=test_data, predict=test_pred, metric=ForecastMetric.sMAPE)\n",
    "    mae = evaluator.evaluate(ground_truth=target, predict=forecast, metric=ForecastMetric.MAE)\n",
    "    print(f\"RMSE:  {rmse:.4f}\")\n",
    "    print(f\"sMAPE: {smape:.4f}\")\n",
    "    print(f\"MAE:   {smape:.4f}\")\n",
    "    print()"
   ]
  },
  {
   "cell_type": "markdown",
   "id": "af35aae5",
   "metadata": {},
   "source": [
    "# 5 Day Horizon No Tone"
   ]
  },
  {
   "cell_type": "code",
   "execution_count": null,
   "id": "ed3e5b06",
   "metadata": {
    "ExecuteTime": {
     "end_time": "2022-03-09T17:06:20.837342Z",
     "start_time": "2022-03-09T17:06:20.807193Z"
    }
   },
   "outputs": [],
   "source": [
    "tesla = pd.read_csv('~/cpt1/bdcc/final_project/GDELTS/tesla_complete.csv')\n",
    "tesla_mv = tesla.drop(['target', 'Daily Average Tone'], axis=1)\n",
    "tesla_mv['Date'] = pd.date_range(tesla_mv['Date'][0], periods=tesla_mv.shape[0], freq='D')\n",
    "tesla_mv.set_index('Date', inplace=True)"
   ]
  },
  {
   "cell_type": "code",
   "execution_count": null,
   "id": "b0ae7aab",
   "metadata": {
    "ExecuteTime": {
     "end_time": "2022-03-09T17:06:22.044679Z",
     "start_time": "2022-03-09T17:06:22.002671Z"
    }
   },
   "outputs": [],
   "source": [
    "test_size = 210\n",
    "train_data = TimeSeries.from_pd(tesla_mv[:-test_size])\n",
    "test_data  = TimeSeries.from_pd(tesla_mv[-test_size:])\n",
    "print(f\"{len(train_data)} points in train split, \"\n",
    "      f\"{len(test_data)} points in test split.\")\n",
    "print(f\"Time series is {train_data.dim}-dimensional\")"
   ]
  },
  {
   "cell_type": "code",
   "execution_count": null,
   "id": "6790ec82",
   "metadata": {
    "ExecuteTime": {
     "end_time": "2022-03-09T17:17:25.015115Z",
     "start_time": "2022-03-09T17:06:22.744388Z"
    }
   },
   "outputs": [],
   "source": [
    "from merlion.evaluate.forecast import ForecastEvaluator, ForecastEvaluatorConfig\n",
    "\n",
    "target_seq_index = 0\n",
    "max_forecast_steps = 42\n",
    "kwargs = dict(target_seq_index=target_seq_index, max_forecast_steps=max_forecast_steps)\n",
    "\n",
    "model1 = ModelFactory.create(\"DefaultForecaster\", **kwargs)\n",
    "model2 = ModelFactory.create(\"Arima\", **kwargs)\n",
    "\n",
    "for model in [model1, model2]:\n",
    "    print(f\"{type(model).__name__} Sliding Window Evaluation\")\n",
    "    evaluator = ForecastEvaluator(model=model, config=ForecastEvaluatorConfig(\n",
    "        horizon=\"5d\", cadence=\"1d\", retrain_freq=None))\n",
    "    train_result, test_pred = evaluator.get_predict(train_vals=train_data, test_vals=test_data)\n",
    "    rmse = evaluator.evaluate(ground_truth=test_data, predict=test_pred, metric=ForecastMetric.RMSE)\n",
    "    smape = evaluator.evaluate(ground_truth=test_data, predict=test_pred, metric=ForecastMetric.sMAPE)\n",
    "    mae = evaluator.evaluate(ground_truth=target, predict=forecast, metric=ForecastMetric.MAE)\n",
    "    print(f\"RMSE:  {rmse:.4f}\")\n",
    "    print(f\"sMAPE: {smape:.4f}\")\n",
    "    print(f\"MAE:   {smape:.4f}\")\n",
    "    print()"
   ]
  },
  {
   "cell_type": "markdown",
   "id": "0bc45117",
   "metadata": {},
   "source": [
    "# 3 Day Horizon Tone"
   ]
  },
  {
   "cell_type": "code",
   "execution_count": null,
   "id": "0f76283a",
   "metadata": {
    "ExecuteTime": {
     "end_time": "2022-03-09T17:18:26.144090Z",
     "start_time": "2022-03-09T17:18:26.103665Z"
    }
   },
   "outputs": [],
   "source": [
    "tesla = pd.read_csv('~/cpt1/bdcc/final_project/GDELTS/tesla_complete.csv')\n",
    "tesla_mv = tesla.drop('target', axis=1)\n",
    "tesla_mv['Date'] = pd.date_range(tesla_mv['Date'][0], periods=tesla_mv.shape[0], freq='D')\n",
    "tesla_mv.set_index('Date', inplace=True)"
   ]
  },
  {
   "cell_type": "code",
   "execution_count": null,
   "id": "ffce9af8",
   "metadata": {
    "ExecuteTime": {
     "end_time": "2022-03-09T17:18:26.709728Z",
     "start_time": "2022-03-09T17:18:26.667183Z"
    }
   },
   "outputs": [],
   "source": [
    "test_size = 210\n",
    "train_data = TimeSeries.from_pd(tesla_mv[:-test_size])\n",
    "test_data  = TimeSeries.from_pd(tesla_mv[-test_size:])\n",
    "print(f\"{len(train_data)} points in train split, \"\n",
    "      f\"{len(test_data)} points in test split.\")\n",
    "print(f\"Time series is {train_data.dim}-dimensional\")"
   ]
  },
  {
   "cell_type": "code",
   "execution_count": null,
   "id": "b613076d",
   "metadata": {
    "ExecuteTime": {
     "end_time": "2022-03-09T17:29:18.248441Z",
     "start_time": "2022-03-09T17:18:28.071875Z"
    }
   },
   "outputs": [],
   "source": [
    "from merlion.evaluate.forecast import ForecastEvaluator, ForecastEvaluatorConfig\n",
    "\n",
    "target_seq_index = 0\n",
    "max_forecast_steps = 70\n",
    "kwargs = dict(target_seq_index=target_seq_index, max_forecast_steps=max_forecast_steps)\n",
    "\n",
    "model1 = ModelFactory.create(\"DefaultForecaster\", **kwargs)\n",
    "model2 = ModelFactory.create(\"Arima\", **kwargs)\n",
    "\n",
    "for model in [model1, model2]:\n",
    "    print(f\"{type(model).__name__} Sliding Window Evaluation\")\n",
    "    evaluator = ForecastEvaluator(model=model, config=ForecastEvaluatorConfig(\n",
    "        horizon=\"3d\", cadence=\"1d\", retrain_freq=None))\n",
    "    train_result, test_pred = evaluator.get_predict(train_vals=train_data, test_vals=test_data)\n",
    "    rmse = evaluator.evaluate(ground_truth=test_data, predict=test_pred, metric=ForecastMetric.RMSE)\n",
    "    smape = evaluator.evaluate(ground_truth=test_data, predict=test_pred, metric=ForecastMetric.sMAPE)\n",
    "    mae = evaluator.evaluate(ground_truth=target, predict=forecast, metric=ForecastMetric.MAE)\n",
    "    print(f\"RMSE:  {rmse:.4f}\")\n",
    "    print(f\"sMAPE: {smape:.4f}\")\n",
    "    print(f\"MAE:   {smape:.4f}\")\n",
    "    print()"
   ]
  },
  {
   "cell_type": "markdown",
   "id": "bb0affd1",
   "metadata": {},
   "source": [
    "# 3 Day No Tone"
   ]
  },
  {
   "cell_type": "code",
   "execution_count": null,
   "id": "da45c2e3",
   "metadata": {
    "ExecuteTime": {
     "end_time": "2022-03-09T17:30:35.518853Z",
     "start_time": "2022-03-09T17:30:35.488170Z"
    }
   },
   "outputs": [],
   "source": [
    "tesla = pd.read_csv('~/cpt1/bdcc/final_project/GDELTS/tesla_complete.csv')\n",
    "tesla_mv = tesla.drop(['target', 'Daily Average Tone'], axis=1)\n",
    "tesla_mv['Date'] = pd.date_range(tesla_mv['Date'][0], periods=tesla_mv.shape[0], freq='D')\n",
    "tesla_mv.set_index('Date', inplace=True)"
   ]
  },
  {
   "cell_type": "code",
   "execution_count": null,
   "id": "09e1ed3c",
   "metadata": {
    "ExecuteTime": {
     "end_time": "2022-03-09T17:30:38.470247Z",
     "start_time": "2022-03-09T17:30:38.415652Z"
    }
   },
   "outputs": [],
   "source": [
    "test_size = 210\n",
    "train_data = TimeSeries.from_pd(tesla_mv[:-test_size])\n",
    "test_data  = TimeSeries.from_pd(tesla_mv[-test_size:])\n",
    "print(f\"{len(train_data)} points in train split, \"\n",
    "      f\"{len(test_data)} points in test split.\")\n",
    "print(f\"Time series is {train_data.dim}-dimensional\")"
   ]
  },
  {
   "cell_type": "code",
   "execution_count": null,
   "id": "c7fbc741",
   "metadata": {
    "ExecuteTime": {
     "end_time": "2022-03-09T17:40:33.150545Z",
     "start_time": "2022-03-09T17:30:48.561168Z"
    }
   },
   "outputs": [],
   "source": [
    "from merlion.evaluate.forecast import ForecastEvaluator, ForecastEvaluatorConfig\n",
    "\n",
    "target_seq_index = 0\n",
    "max_forecast_steps = 70\n",
    "kwargs = dict(target_seq_index=target_seq_index, max_forecast_steps=max_forecast_steps)\n",
    "\n",
    "model1 = ModelFactory.create(\"DefaultForecaster\", **kwargs)\n",
    "model2 = ModelFactory.create(\"Arima\", **kwargs)\n",
    "\n",
    "for model in [model1, model2]:\n",
    "    print(f\"{type(model).__name__} Sliding Window Evaluation\")\n",
    "    evaluator = ForecastEvaluator(model=model, config=ForecastEvaluatorConfig(\n",
    "        horizon=\"3d\", cadence=\"1d\", retrain_freq=None))\n",
    "    train_result, test_pred = evaluator.get_predict(train_vals=train_data, test_vals=test_data)\n",
    "    rmse = evaluator.evaluate(ground_truth=test_data, predict=test_pred, metric=ForecastMetric.RMSE)\n",
    "    smape = evaluator.evaluate(ground_truth=test_data, predict=test_pred, metric=ForecastMetric.sMAPE)\n",
    "    mae = evaluator.evaluate(ground_truth=target, predict=forecast, metric=ForecastMetric.MAE)\n",
    "    print(f\"RMSE:  {rmse:.4f}\")\n",
    "    print(f\"sMAPE: {smape:.4f}\")\n",
    "    print(f\"MAE:   {smape:.4f}\")\n",
    "    print()"
   ]
  },
  {
   "cell_type": "markdown",
   "id": "480c8b90",
   "metadata": {},
   "source": [
    "# 1 Day Tone"
   ]
  },
  {
   "cell_type": "code",
   "execution_count": null,
   "id": "319bdb6e",
   "metadata": {
    "ExecuteTime": {
     "end_time": "2022-03-09T17:40:48.630134Z",
     "start_time": "2022-03-09T17:40:48.595818Z"
    }
   },
   "outputs": [],
   "source": [
    "tesla = pd.read_csv('~/cpt1/bdcc/final_project/GDELTS/tesla_complete.csv')\n",
    "tesla_mv = tesla.drop('target', axis=1)\n",
    "tesla_mv['Date'] = pd.date_range(tesla_mv['Date'][0], periods=tesla_mv.shape[0], freq='D')\n",
    "tesla_mv.set_index('Date', inplace=True)"
   ]
  },
  {
   "cell_type": "code",
   "execution_count": null,
   "id": "8df1d459",
   "metadata": {
    "ExecuteTime": {
     "end_time": "2022-03-09T17:40:49.409924Z",
     "start_time": "2022-03-09T17:40:49.368491Z"
    }
   },
   "outputs": [],
   "source": [
    "test_size = 210\n",
    "train_data = TimeSeries.from_pd(tesla_mv[:-test_size])\n",
    "test_data  = TimeSeries.from_pd(tesla_mv[-test_size:])\n",
    "print(f\"{len(train_data)} points in train split, \"\n",
    "      f\"{len(test_data)} points in test split.\")\n",
    "print(f\"Time series is {train_data.dim}-dimensional\")"
   ]
  },
  {
   "cell_type": "code",
   "execution_count": null,
   "id": "f4688cbe",
   "metadata": {
    "ExecuteTime": {
     "end_time": "2022-03-09T17:53:07.366143Z",
     "start_time": "2022-03-09T17:40:52.936785Z"
    }
   },
   "outputs": [],
   "source": [
    "from merlion.evaluate.forecast import ForecastEvaluator, ForecastEvaluatorConfig\n",
    "\n",
    "target_seq_index = 0\n",
    "max_forecast_steps = 210\n",
    "kwargs = dict(target_seq_index=target_seq_index, max_forecast_steps=max_forecast_steps)\n",
    "\n",
    "model1 = ModelFactory.create(\"DefaultForecaster\", **kwargs)\n",
    "model2 = ModelFactory.create(\"Arima\", **kwargs)\n",
    "\n",
    "for model in [model1, model2]:\n",
    "    print(f\"{type(model).__name__} Sliding Window Evaluation\")\n",
    "    evaluator = ForecastEvaluator(model=model, config=ForecastEvaluatorConfig(\n",
    "        horizon=\"1d\", cadence=\"1d\", retrain_freq=None))\n",
    "    train_result, test_pred = evaluator.get_predict(train_vals=train_data, test_vals=test_data)\n",
    "    rmse = evaluator.evaluate(ground_truth=test_data, predict=test_pred, metric=ForecastMetric.RMSE)\n",
    "    smape = evaluator.evaluate(ground_truth=test_data, predict=test_pred, metric=ForecastMetric.sMAPE)\n",
    "    mae = evaluator.evaluate(ground_truth=target, predict=forecast, metric=ForecastMetric.MAE)\n",
    "    print(f\"RMSE:  {rmse:.4f}\")\n",
    "    print(f\"sMAPE: {smape:.4f}\")\n",
    "    print(f\"MAE:   {smape:.4f}\")\n",
    "    print()"
   ]
  },
  {
   "cell_type": "markdown",
   "id": "5c77f5a5",
   "metadata": {},
   "source": [
    "# 1 Day No Tone"
   ]
  },
  {
   "cell_type": "code",
   "execution_count": null,
   "id": "35559b88",
   "metadata": {
    "ExecuteTime": {
     "end_time": "2022-03-10T03:46:30.241862Z",
     "start_time": "2022-03-10T03:46:30.212230Z"
    }
   },
   "outputs": [],
   "source": [
    "tesla = pd.read_csv('~/cpt1/bdcc/final_project/GDELTS/tesla_complete.csv')\n",
    "tesla_mv = tesla.drop(['target', 'Daily Average Tone'], axis=1)\n",
    "tesla_mv['Date'] = pd.date_range(tesla_mv['Date'][0], periods=tesla_mv.shape[0], freq='D')\n",
    "tesla_mv.set_index('Date', inplace=True)"
   ]
  },
  {
   "cell_type": "code",
   "execution_count": null,
   "id": "07c04c8c",
   "metadata": {
    "ExecuteTime": {
     "end_time": "2022-03-10T03:46:30.581110Z",
     "start_time": "2022-03-10T03:46:30.527994Z"
    }
   },
   "outputs": [],
   "source": [
    "tesla_mv"
   ]
  },
  {
   "cell_type": "code",
   "execution_count": null,
   "id": "b4c0239e",
   "metadata": {
    "ExecuteTime": {
     "end_time": "2022-03-10T03:46:32.197410Z",
     "start_time": "2022-03-10T03:46:32.159837Z"
    }
   },
   "outputs": [],
   "source": [
    "test_size = 210\n",
    "train_data = TimeSeries.from_pd(tesla_mv[:-test_size])\n",
    "test_data  = TimeSeries.from_pd(tesla_mv[-test_size:])\n",
    "print(f\"{len(train_data)} points in train split, \"\n",
    "      f\"{len(test_data)} points in test split.\")\n",
    "print(f\"Time series is {train_data.dim}-dimensional\")"
   ]
  },
  {
   "cell_type": "code",
   "execution_count": null,
   "id": "57cb8e02",
   "metadata": {
    "ExecuteTime": {
     "end_time": "2022-03-10T03:56:52.604002Z",
     "start_time": "2022-03-10T03:46:34.071656Z"
    }
   },
   "outputs": [],
   "source": [
    "from merlion.evaluate.forecast import ForecastEvaluator, ForecastEvaluatorConfig\n",
    "\n",
    "target_seq_index = 3\n",
    "max_forecast_steps = 210\n",
    "kwargs = dict(target_seq_index=target_seq_index, max_forecast_steps=max_forecast_steps)\n",
    "\n",
    "model1 = ModelFactory.create(\"DefaultForecaster\", **kwargs)\n",
    "model2 = ModelFactory.create(\"Arima\", **kwargs)\n",
    "\n",
    "for model in [model1, model2]:\n",
    "    print(f\"{type(model).__name__} Sliding Window Evaluation\")\n",
    "    evaluator = ForecastEvaluator(model=model, config=ForecastEvaluatorConfig(\n",
    "        horizon=\"1d\", cadence=\"1d\", retrain_freq=None))\n",
    "    train_result, test_pred = evaluator.get_predict(train_vals=train_data, test_vals=test_data)\n",
    "    rmse = evaluator.evaluate(ground_truth=test_data, predict=test_pred, metric=ForecastMetric.RMSE)\n",
    "    smape = evaluator.evaluate(ground_truth=test_data, predict=test_pred, metric=ForecastMetric.sMAPE)\n",
    "    mae = evaluator.evaluate(ground_truth=test_data, predict=test_pred, metric=ForecastMetric.MAE)\n",
    "    print(f\"RMSE:  {rmse:.4f}\")\n",
    "    print(f\"sMAPE: {smape:.4f}\")\n",
    "    print(f\"MAE:   {mae:.4f}\")\n",
    "    print()"
   ]
  },
  {
   "cell_type": "markdown",
   "id": "4285c92a",
   "metadata": {},
   "source": [
    "# 1 Day Close and Tone "
   ]
  },
  {
   "cell_type": "code",
   "execution_count": null,
   "id": "0a936ffb",
   "metadata": {},
   "outputs": [],
   "source": []
  },
  {
   "cell_type": "code",
   "execution_count": null,
   "id": "717438a6",
   "metadata": {
    "ExecuteTime": {
     "end_time": "2022-03-10T03:43:45.653673Z",
     "start_time": "2022-03-10T03:43:45.623161Z"
    }
   },
   "outputs": [],
   "source": [
    "tesla = pd.read_csv('~/cpt1/bdcc/final_project/GDELTS/tesla_complete.csv')\n",
    "tesla_mv = tesla.drop('target', axis=1)\n",
    "tesla_mv['Date'] = pd.date_range(tesla_mv['Date'][0], periods=tesla_mv.shape[0], freq='D')\n",
    "tesla_mv.set_index('Date', inplace=True)"
   ]
  },
  {
   "cell_type": "code",
   "execution_count": null,
   "id": "ffef3f0c",
   "metadata": {
    "ExecuteTime": {
     "end_time": "2022-03-10T03:43:46.010075Z",
     "start_time": "2022-03-10T03:43:46.001102Z"
    }
   },
   "outputs": [],
   "source": [
    "tesla_mv = tesla_mv[['Close', 'Daily Average Tone']]"
   ]
  },
  {
   "cell_type": "code",
   "execution_count": null,
   "id": "4f6a2e46",
   "metadata": {
    "ExecuteTime": {
     "end_time": "2022-03-10T03:43:46.394500Z",
     "start_time": "2022-03-10T03:43:46.375270Z"
    }
   },
   "outputs": [],
   "source": [
    "tesla_mv"
   ]
  },
  {
   "cell_type": "code",
   "execution_count": null,
   "id": "188954dc",
   "metadata": {
    "ExecuteTime": {
     "end_time": "2022-03-10T03:43:48.387503Z",
     "start_time": "2022-03-10T03:43:48.363689Z"
    }
   },
   "outputs": [],
   "source": [
    "test_size = 210\n",
    "train_data = TimeSeries.from_pd(tesla_mv[:-test_size])\n",
    "test_data  = TimeSeries.from_pd(tesla_mv[-test_size:])\n",
    "print(f\"{len(train_data)} points in train split, \"\n",
    "      f\"{len(test_data)} points in test split.\")\n",
    "print(f\"Time series is {train_data.dim}-dimensional\")"
   ]
  },
  {
   "cell_type": "code",
   "execution_count": null,
   "id": "bd0fadf2",
   "metadata": {
    "ExecuteTime": {
     "end_time": "2022-03-10T03:45:55.369558Z",
     "start_time": "2022-03-10T03:43:53.399767Z"
    }
   },
   "outputs": [],
   "source": [
    "from merlion.evaluate.forecast import ForecastEvaluator, ForecastEvaluatorConfig\n",
    "\n",
    "target_seq_index = 0\n",
    "max_forecast_steps = 210\n",
    "kwargs = dict(target_seq_index=target_seq_index, max_forecast_steps=max_forecast_steps)\n",
    "\n",
    "model1 = ModelFactory.create(\"DefaultForecaster\", **kwargs)\n",
    "model2 = ModelFactory.create(\"Arima\", **kwargs)\n",
    "\n",
    "for model in [model1, model2]:\n",
    "    print(f\"{type(model).__name__} Sliding Window Evaluation\")\n",
    "    evaluator = ForecastEvaluator(model=model, config=ForecastEvaluatorConfig(\n",
    "        horizon=\"1d\", cadence=\"1d\", retrain_freq=None))\n",
    "    train_result, test_pred = evaluator.get_predict(train_vals=train_data, test_vals=test_data)\n",
    "    rmse = evaluator.evaluate(ground_truth=test_data, predict=test_pred, metric=ForecastMetric.RMSE)\n",
    "    smape = evaluator.evaluate(ground_truth=test_data, predict=test_pred, metric=ForecastMetric.sMAPE)\n",
    "    mae = evaluator.evaluate(ground_truth=test_data, predict=test_pred, metric=ForecastMetric.MAE)\n",
    "    print(f\"RMSE:  {rmse:.4f}\")\n",
    "    print(f\"sMAPE: {smape:.4f}\")\n",
    "    print(f\"MAE:   {mae:.4f}\")\n",
    "    print()"
   ]
  },
  {
   "cell_type": "markdown",
   "id": "ee07c447",
   "metadata": {},
   "source": [
    "# 1 Day Close Only"
   ]
  },
  {
   "cell_type": "code",
   "execution_count": null,
   "id": "cdfe7c2c",
   "metadata": {
    "ExecuteTime": {
     "end_time": "2022-03-10T03:42:38.524764Z",
     "start_time": "2022-03-10T03:42:38.496343Z"
    }
   },
   "outputs": [],
   "source": [
    "tesla = pd.read_csv('~/cpt1/bdcc/final_project/GDELTS/tesla_complete.csv')\n",
    "tesla_mv = tesla.drop('target', axis=1)\n",
    "tesla_mv['Date'] = pd.date_range(tesla_mv['Date'][0], periods=tesla_mv.shape[0], freq='D')\n",
    "tesla_mv.set_index('Date', inplace=True)"
   ]
  },
  {
   "cell_type": "code",
   "execution_count": null,
   "id": "be16ef6b",
   "metadata": {
    "ExecuteTime": {
     "end_time": "2022-03-10T03:42:38.906118Z",
     "start_time": "2022-03-10T03:42:38.897485Z"
    }
   },
   "outputs": [],
   "source": [
    "tesla_mv = tesla_mv[['Close']]"
   ]
  },
  {
   "cell_type": "code",
   "execution_count": null,
   "id": "8a5a3070",
   "metadata": {
    "ExecuteTime": {
     "end_time": "2022-03-10T03:42:39.384766Z",
     "start_time": "2022-03-10T03:42:39.363681Z"
    }
   },
   "outputs": [],
   "source": [
    "tesla_mv"
   ]
  },
  {
   "cell_type": "code",
   "execution_count": null,
   "id": "36339058",
   "metadata": {
    "ExecuteTime": {
     "end_time": "2022-03-10T03:42:44.317087Z",
     "start_time": "2022-03-10T03:42:44.296863Z"
    }
   },
   "outputs": [],
   "source": [
    "test_size = 210\n",
    "train_data = TimeSeries.from_pd(tesla_mv[:-test_size])\n",
    "test_data  = TimeSeries.from_pd(tesla_mv[-test_size:])\n",
    "print(f\"{len(train_data)} points in train split, \"\n",
    "      f\"{len(test_data)} points in test split.\")\n",
    "print(f\"Time series is {train_data.dim}-dimensional\")"
   ]
  },
  {
   "cell_type": "code",
   "execution_count": null,
   "id": "2902ef7e",
   "metadata": {
    "ExecuteTime": {
     "end_time": "2022-03-10T03:43:03.647755Z",
     "start_time": "2022-03-10T03:42:47.019491Z"
    }
   },
   "outputs": [],
   "source": [
    "from merlion.evaluate.forecast import ForecastEvaluator, ForecastEvaluatorConfig\n",
    "\n",
    "target_seq_index = 0\n",
    "max_forecast_steps = 210\n",
    "kwargs = dict(target_seq_index=target_seq_index, max_forecast_steps=max_forecast_steps)\n",
    "\n",
    "model1 = ModelFactory.create(\"DefaultForecaster\", **kwargs)\n",
    "model2 = ModelFactory.create(\"Arima\", **kwargs)\n",
    "\n",
    "for model in [model1, model2]:\n",
    "    print(f\"{type(model).__name__} Sliding Window Evaluation\")\n",
    "    evaluator = ForecastEvaluator(model=model, config=ForecastEvaluatorConfig(\n",
    "        horizon=\"1d\", cadence=\"1d\", retrain_freq=None))\n",
    "    train_result, test_pred = evaluator.get_predict(train_vals=train_data, test_vals=test_data)\n",
    "    rmse = evaluator.evaluate(ground_truth=test_data, predict=test_pred, metric=ForecastMetric.RMSE)\n",
    "    smape = evaluator.evaluate(ground_truth=test_data, predict=test_pred, metric=ForecastMetric.sMAPE)\n",
    "    mae = evaluator.evaluate(ground_truth=test_data, predict=test_pred, metric=ForecastMetric.MAE)\n",
    "    print(f\"RMSE:  {rmse:.4f}\")\n",
    "    print(f\"sMAPE: {smape:.4f}\")\n",
    "    print(f\"MAE:   {mae:.4f}\")\n",
    "    print()"
   ]
  },
  {
   "cell_type": "markdown",
   "id": "eb747aff",
   "metadata": {},
   "source": [
    "# 3 day close and tone"
   ]
  },
  {
   "cell_type": "code",
   "execution_count": null,
   "id": "cde916d5",
   "metadata": {
    "ExecuteTime": {
     "end_time": "2022-03-10T04:08:38.128544Z",
     "start_time": "2022-03-10T04:06:44.206877Z"
    }
   },
   "outputs": [],
   "source": [
    "tesla = pd.read_csv('~/cpt1/bdcc/final_project/GDELTS/tesla_complete.csv')\n",
    "tesla_mv = tesla.drop('target', axis=1)\n",
    "tesla_mv['Date'] = pd.date_range(tesla_mv['Date'][0], periods=tesla_mv.shape[0], freq='D')\n",
    "tesla_mv.set_index('Date', inplace=True)\n",
    "\n",
    "tesla_mv = tesla_mv[['Close', 'Daily Average Tone']]\n",
    "\n",
    "tesla_mv\n",
    "\n",
    "test_size = 210\n",
    "train_data = TimeSeries.from_pd(tesla_mv[:-test_size])\n",
    "test_data  = TimeSeries.from_pd(tesla_mv[-test_size:])\n",
    "print(f\"{len(train_data)} points in train split, \"\n",
    "      f\"{len(test_data)} points in test split.\")\n",
    "print(f\"Time series is {train_data.dim}-dimensional\")\n",
    "\n",
    "from merlion.evaluate.forecast import ForecastEvaluator, ForecastEvaluatorConfig\n",
    "\n",
    "target_seq_index = 0\n",
    "max_forecast_steps = 70\n",
    "kwargs = dict(target_seq_index=target_seq_index, max_forecast_steps=max_forecast_steps)\n",
    "\n",
    "model1 = ModelFactory.create(\"DefaultForecaster\", **kwargs)\n",
    "model2 = ModelFactory.create(\"Arima\", **kwargs)\n",
    "\n",
    "for model in [model1, model2]:\n",
    "    print(f\"{type(model).__name__} Sliding Window Evaluation\")\n",
    "    evaluator = ForecastEvaluator(model=model, config=ForecastEvaluatorConfig(\n",
    "        horizon=\"3d\", cadence=\"1d\", retrain_freq=None))\n",
    "    train_result, test_pred = evaluator.get_predict(train_vals=train_data, test_vals=test_data)\n",
    "    rmse = evaluator.evaluate(ground_truth=test_data, predict=test_pred, metric=ForecastMetric.RMSE)\n",
    "    smape = evaluator.evaluate(ground_truth=test_data, predict=test_pred, metric=ForecastMetric.sMAPE)\n",
    "    mae = evaluator.evaluate(ground_truth=test_data, predict=test_pred, metric=ForecastMetric.MAE)\n",
    "    print(f\"RMSE:  {rmse:.4f}\")\n",
    "    print(f\"sMAPE: {smape:.4f}\")\n",
    "    print(f\"MAE:   {mae:.4f}\")\n",
    "    print()"
   ]
  },
  {
   "cell_type": "markdown",
   "id": "79ed3499",
   "metadata": {},
   "source": [
    "# 3 day close only"
   ]
  },
  {
   "cell_type": "code",
   "execution_count": null,
   "id": "9a5d1e37",
   "metadata": {
    "ExecuteTime": {
     "end_time": "2022-03-10T04:10:34.180052Z",
     "start_time": "2022-03-10T04:10:17.272515Z"
    }
   },
   "outputs": [],
   "source": [
    "tesla = pd.read_csv('~/cpt1/bdcc/final_project/GDELTS/tesla_complete.csv')\n",
    "tesla_mv = tesla.drop('target', axis=1)\n",
    "tesla_mv['Date'] = pd.date_range(tesla_mv['Date'][0], periods=tesla_mv.shape[0], freq='D')\n",
    "tesla_mv.set_index('Date', inplace=True)\n",
    "\n",
    "tesla_mv = tesla_mv[['Close']]\n",
    "\n",
    "test_size = 210\n",
    "train_data = TimeSeries.from_pd(tesla_mv[:-test_size])\n",
    "test_data  = TimeSeries.from_pd(tesla_mv[-test_size:])\n",
    "print(f\"{len(train_data)} points in train split, \"\n",
    "      f\"{len(test_data)} points in test split.\")\n",
    "print(f\"Time series is {train_data.dim}-dimensional\")\n",
    "\n",
    "from merlion.evaluate.forecast import ForecastEvaluator, ForecastEvaluatorConfig\n",
    "\n",
    "target_seq_index = 0\n",
    "max_forecast_steps = 210\n",
    "kwargs = dict(target_seq_index=target_seq_index, max_forecast_steps=max_forecast_steps)\n",
    "\n",
    "model1 = ModelFactory.create(\"DefaultForecaster\", **kwargs)\n",
    "model2 = ModelFactory.create(\"Arima\", **kwargs)\n",
    "\n",
    "for model in [model1, model2]:\n",
    "    print(f\"{type(model).__name__} Sliding Window Evaluation\")\n",
    "    evaluator = ForecastEvaluator(model=model, config=ForecastEvaluatorConfig(\n",
    "        horizon=\"1d\", cadence=\"1d\", retrain_freq=None))\n",
    "    train_result, test_pred = evaluator.get_predict(train_vals=train_data, test_vals=test_data)\n",
    "    rmse = evaluator.evaluate(ground_truth=test_data, predict=test_pred, metric=ForecastMetric.RMSE)\n",
    "    smape = evaluator.evaluate(ground_truth=test_data, predict=test_pred, metric=ForecastMetric.sMAPE)\n",
    "    mae = evaluator.evaluate(ground_truth=test_data, predict=test_pred, metric=ForecastMetric.MAE)\n",
    "    print(f\"RMSE:  {rmse:.4f}\")\n",
    "    print(f\"sMAPE: {smape:.4f}\")\n",
    "    print(f\"MAE:   {mae:.4f}\")\n",
    "    print()"
   ]
  },
  {
   "cell_type": "markdown",
   "id": "c672574a",
   "metadata": {},
   "source": [
    "# 5 day close and tone"
   ]
  },
  {
   "cell_type": "code",
   "execution_count": 4,
   "id": "62c25bdd",
   "metadata": {
    "ExecuteTime": {
     "end_time": "2022-03-10T11:17:04.120460Z",
     "start_time": "2022-03-10T11:14:56.072317Z"
    }
   },
   "outputs": [
    {
     "name": "stdout",
     "output_type": "stream",
     "text": [
      "836 points in train split, 210 points in test split.\n",
      "Time series is 2-dimensional\n",
      "DefaultForecaster Sliding Window Evaluation\n"
     ]
    },
    {
     "name": "stderr",
     "output_type": "stream",
     "text": [
      "ForecastEvaluator: 100%|██████████| 18057600/18057600 [01:23<00:00, 216695.24it/s]\n"
     ]
    },
    {
     "name": "stdout",
     "output_type": "stream",
     "text": [
      "RMSE:  3.3713\n",
      "sMAPE: 4.7436\n",
      "MAE:   2.9712\n",
      "\n",
      "Arima Sliding Window Evaluation\n"
     ]
    },
    {
     "name": "stderr",
     "output_type": "stream",
     "text": [
      "ForecastEvaluator: 100%|██████████| 18057600/18057600 [00:07<00:00, 2383351.50it/s]\n"
     ]
    },
    {
     "name": "stdout",
     "output_type": "stream",
     "text": [
      "RMSE:  3.1129\n",
      "sMAPE: 4.3883\n",
      "MAE:   2.7307\n",
      "\n"
     ]
    }
   ],
   "source": [
    "tesla = pd.read_csv('~/cpt1/bdcc/final_project/GDELTS/tesla_complete.csv')\n",
    "tesla_mv = tesla.drop('target', axis=1)\n",
    "tesla_mv['Date'] = pd.date_range(tesla_mv['Date'][0], periods=tesla_mv.shape[0], freq='D')\n",
    "tesla_mv.set_index('Date', inplace=True)\n",
    "\n",
    "tesla_mv = tesla_mv[['Close', 'Daily Average Tone']]\n",
    "\n",
    "tesla_mv\n",
    "\n",
    "test_size = 210\n",
    "train_data = TimeSeries.from_pd(tesla_mv[:-test_size])\n",
    "test_data  = TimeSeries.from_pd(tesla_mv[-test_size:])\n",
    "print(f\"{len(train_data)} points in train split, \"\n",
    "      f\"{len(test_data)} points in test split.\")\n",
    "print(f\"Time series is {train_data.dim}-dimensional\")\n",
    "\n",
    "from merlion.evaluate.forecast import ForecastEvaluator, ForecastEvaluatorConfig\n",
    "\n",
    "target_seq_index = 0\n",
    "max_forecast_steps = 42\n",
    "kwargs = dict(target_seq_index=target_seq_index, max_forecast_steps=max_forecast_steps)\n",
    "\n",
    "model1 = ModelFactory.create(\"DefaultForecaster\", **kwargs)\n",
    "model2 = ModelFactory.create(\"Arima\", **kwargs)\n",
    "\n",
    "for model in [model1, model2]:\n",
    "    print(f\"{type(model).__name__} Sliding Window Evaluation\")\n",
    "    evaluator = ForecastEvaluator(model=model, config=ForecastEvaluatorConfig(\n",
    "        horizon=\"5d\", cadence=\"1d\", retrain_freq=None))\n",
    "    train_result, test_pred = evaluator.get_predict(train_vals=train_data, test_vals=test_data)\n",
    "    rmse = evaluator.evaluate(ground_truth=test_data, predict=test_pred, metric=ForecastMetric.RMSE)\n",
    "    smape = evaluator.evaluate(ground_truth=test_data, predict=test_pred, metric=ForecastMetric.sMAPE)\n",
    "    mae = evaluator.evaluate(ground_truth=test_data, predict=test_pred, metric=ForecastMetric.MAE)\n",
    "    print(f\"RMSE:  {rmse:.4f}\")\n",
    "    print(f\"sMAPE: {smape:.4f}\")\n",
    "    print(f\"MAE:   {mae:.4f}\")\n",
    "    print()"
   ]
  },
  {
   "cell_type": "code",
   "execution_count": 202,
   "id": "20634ddf",
   "metadata": {
    "ExecuteTime": {
     "end_time": "2022-03-10T12:39:34.032134Z",
     "start_time": "2022-03-10T12:39:34.010395Z"
    }
   },
   "outputs": [
    {
     "data": {
      "text/plain": [
       "                Close  Daily Average Tone\n",
       "2017-06-03  71.634003           -1.347826\n",
       "2017-06-04  74.166000           -0.322917\n",
       "2017-06-05  70.510002           -2.159091\n",
       "2017-06-06  72.444000           -2.112069\n",
       "2017-06-07  69.501999           -3.732057\n",
       "...               ...                 ...\n",
       "2017-12-25  55.212002            0.187500\n",
       "2017-12-26  53.683998           -1.000000\n",
       "2017-12-27  53.540001           -0.137931\n",
       "2017-12-28  53.276001           -0.650000\n",
       "2017-12-29  54.672001           -0.166667\n",
       "\n",
       "[210 rows x 2 columns]"
      ]
     },
     "execution_count": 202,
     "metadata": {},
     "output_type": "execute_result"
    }
   ],
   "source": [
    "test_data"
   ]
  },
  {
   "cell_type": "code",
   "execution_count": 296,
   "id": "9ee4d0bb",
   "metadata": {
    "ExecuteTime": {
     "end_time": "2022-03-10T13:59:59.825032Z",
     "start_time": "2022-03-10T13:59:59.816919Z"
    }
   },
   "outputs": [],
   "source": [
    "real_date = tesla['Date'][-210:]"
   ]
  },
  {
   "cell_type": "code",
   "execution_count": 297,
   "id": "3f942e99",
   "metadata": {
    "ExecuteTime": {
     "end_time": "2022-03-10T14:00:00.124977Z",
     "start_time": "2022-03-10T14:00:00.116118Z"
    },
    "scrolled": false
   },
   "outputs": [],
   "source": [
    "real_date = real_date.reset_index()"
   ]
  },
  {
   "cell_type": "code",
   "execution_count": 298,
   "id": "a21b2b09",
   "metadata": {
    "ExecuteTime": {
     "end_time": "2022-03-10T14:00:00.460083Z",
     "start_time": "2022-03-10T14:00:00.452044Z"
    }
   },
   "outputs": [],
   "source": [
    "real_date.drop('index', axis=1, inplace=True)"
   ]
  },
  {
   "cell_type": "code",
   "execution_count": 299,
   "id": "8aa98af3",
   "metadata": {
    "ExecuteTime": {
     "end_time": "2022-03-10T14:00:00.900994Z",
     "start_time": "2022-03-10T14:00:00.882223Z"
    }
   },
   "outputs": [
    {
     "data": {
      "text/html": [
       "<div>\n",
       "<style scoped>\n",
       "    .dataframe tbody tr th:only-of-type {\n",
       "        vertical-align: middle;\n",
       "    }\n",
       "\n",
       "    .dataframe tbody tr th {\n",
       "        vertical-align: top;\n",
       "    }\n",
       "\n",
       "    .dataframe thead th {\n",
       "        text-align: right;\n",
       "    }\n",
       "</style>\n",
       "<table border=\"1\" class=\"dataframe\">\n",
       "  <thead>\n",
       "    <tr style=\"text-align: right;\">\n",
       "      <th></th>\n",
       "      <th>Date</th>\n",
       "    </tr>\n",
       "  </thead>\n",
       "  <tbody>\n",
       "    <tr>\n",
       "      <th>0</th>\n",
       "      <td>2018-06-15</td>\n",
       "    </tr>\n",
       "    <tr>\n",
       "      <th>1</th>\n",
       "      <td>2018-06-18</td>\n",
       "    </tr>\n",
       "    <tr>\n",
       "      <th>2</th>\n",
       "      <td>2018-06-19</td>\n",
       "    </tr>\n",
       "    <tr>\n",
       "      <th>3</th>\n",
       "      <td>2018-06-20</td>\n",
       "    </tr>\n",
       "    <tr>\n",
       "      <th>4</th>\n",
       "      <td>2018-06-21</td>\n",
       "    </tr>\n",
       "    <tr>\n",
       "      <th>...</th>\n",
       "      <td>...</td>\n",
       "    </tr>\n",
       "    <tr>\n",
       "      <th>205</th>\n",
       "      <td>2019-04-10</td>\n",
       "    </tr>\n",
       "    <tr>\n",
       "      <th>206</th>\n",
       "      <td>2019-04-11</td>\n",
       "    </tr>\n",
       "    <tr>\n",
       "      <th>207</th>\n",
       "      <td>2019-04-12</td>\n",
       "    </tr>\n",
       "    <tr>\n",
       "      <th>208</th>\n",
       "      <td>2019-04-15</td>\n",
       "    </tr>\n",
       "    <tr>\n",
       "      <th>209</th>\n",
       "      <td>2019-04-16</td>\n",
       "    </tr>\n",
       "  </tbody>\n",
       "</table>\n",
       "<p>210 rows × 1 columns</p>\n",
       "</div>"
      ],
      "text/plain": [
       "           Date\n",
       "0    2018-06-15\n",
       "1    2018-06-18\n",
       "2    2018-06-19\n",
       "3    2018-06-20\n",
       "4    2018-06-21\n",
       "..          ...\n",
       "205  2019-04-10\n",
       "206  2019-04-11\n",
       "207  2019-04-12\n",
       "208  2019-04-15\n",
       "209  2019-04-16\n",
       "\n",
       "[210 rows x 1 columns]"
      ]
     },
     "execution_count": 299,
     "metadata": {},
     "output_type": "execute_result"
    }
   ],
   "source": [
    "real_date"
   ]
  },
  {
   "cell_type": "code",
   "execution_count": 300,
   "id": "1492bdca",
   "metadata": {
    "ExecuteTime": {
     "end_time": "2022-03-10T14:00:02.183119Z",
     "start_time": "2022-03-10T14:00:02.176975Z"
    }
   },
   "outputs": [],
   "source": [
    "tesla_mv2 = tesla_mv[-210:]"
   ]
  },
  {
   "cell_type": "code",
   "execution_count": 301,
   "id": "25031a2c",
   "metadata": {
    "ExecuteTime": {
     "end_time": "2022-03-10T14:00:02.666162Z",
     "start_time": "2022-03-10T14:00:02.658462Z"
    }
   },
   "outputs": [],
   "source": [
    "tesla_mv2.reset_index(inplace=True)"
   ]
  },
  {
   "cell_type": "code",
   "execution_count": 302,
   "id": "3f821cd9",
   "metadata": {
    "ExecuteTime": {
     "end_time": "2022-03-10T14:00:03.157603Z",
     "start_time": "2022-03-10T14:00:03.148810Z"
    }
   },
   "outputs": [
    {
     "name": "stderr",
     "output_type": "stream",
     "text": [
      "/home/msds2022/mpingol/.conda/envs/v-env/lib/python3.8/site-packages/pandas/core/frame.py:4906: SettingWithCopyWarning: \n",
      "A value is trying to be set on a copy of a slice from a DataFrame\n",
      "\n",
      "See the caveats in the documentation: https://pandas.pydata.org/pandas-docs/stable/user_guide/indexing.html#returning-a-view-versus-a-copy\n",
      "  return super().drop(\n"
     ]
    }
   ],
   "source": [
    "tesla_mv2.drop('Date',inplace=True, axis=1)"
   ]
  },
  {
   "cell_type": "code",
   "execution_count": 303,
   "id": "1d1823a9",
   "metadata": {
    "ExecuteTime": {
     "end_time": "2022-03-10T14:00:04.412892Z",
     "start_time": "2022-03-10T14:00:04.404055Z"
    }
   },
   "outputs": [
    {
     "name": "stderr",
     "output_type": "stream",
     "text": [
      "/tmp/ipykernel_16854/4260535548.py:1: SettingWithCopyWarning: \n",
      "A value is trying to be set on a copy of a slice from a DataFrame.\n",
      "Try using .loc[row_indexer,col_indexer] = value instead\n",
      "\n",
      "See the caveats in the documentation: https://pandas.pydata.org/pandas-docs/stable/user_guide/indexing.html#returning-a-view-versus-a-copy\n",
      "  tesla_mv2['Date'] = real_date['Date']\n"
     ]
    }
   ],
   "source": [
    "tesla_mv2['Date'] = real_date['Date']"
   ]
  },
  {
   "cell_type": "code",
   "execution_count": 304,
   "id": "36e69e5e",
   "metadata": {
    "ExecuteTime": {
     "end_time": "2022-03-10T14:00:04.804601Z",
     "start_time": "2022-03-10T14:00:04.767896Z"
    }
   },
   "outputs": [
    {
     "data": {
      "text/html": [
       "<div>\n",
       "<style scoped>\n",
       "    .dataframe tbody tr th:only-of-type {\n",
       "        vertical-align: middle;\n",
       "    }\n",
       "\n",
       "    .dataframe tbody tr th {\n",
       "        vertical-align: top;\n",
       "    }\n",
       "\n",
       "    .dataframe thead th {\n",
       "        text-align: right;\n",
       "    }\n",
       "</style>\n",
       "<table border=\"1\" class=\"dataframe\">\n",
       "  <thead>\n",
       "    <tr style=\"text-align: right;\">\n",
       "      <th></th>\n",
       "      <th>Close</th>\n",
       "      <th>Date</th>\n",
       "    </tr>\n",
       "  </thead>\n",
       "  <tbody>\n",
       "    <tr>\n",
       "      <th>0</th>\n",
       "      <td>71.634003</td>\n",
       "      <td>2018-06-15</td>\n",
       "    </tr>\n",
       "    <tr>\n",
       "      <th>1</th>\n",
       "      <td>74.166000</td>\n",
       "      <td>2018-06-18</td>\n",
       "    </tr>\n",
       "    <tr>\n",
       "      <th>2</th>\n",
       "      <td>70.510002</td>\n",
       "      <td>2018-06-19</td>\n",
       "    </tr>\n",
       "    <tr>\n",
       "      <th>3</th>\n",
       "      <td>72.444000</td>\n",
       "      <td>2018-06-20</td>\n",
       "    </tr>\n",
       "    <tr>\n",
       "      <th>4</th>\n",
       "      <td>69.501999</td>\n",
       "      <td>2018-06-21</td>\n",
       "    </tr>\n",
       "    <tr>\n",
       "      <th>...</th>\n",
       "      <td>...</td>\n",
       "      <td>...</td>\n",
       "    </tr>\n",
       "    <tr>\n",
       "      <th>205</th>\n",
       "      <td>55.212002</td>\n",
       "      <td>2019-04-10</td>\n",
       "    </tr>\n",
       "    <tr>\n",
       "      <th>206</th>\n",
       "      <td>53.683998</td>\n",
       "      <td>2019-04-11</td>\n",
       "    </tr>\n",
       "    <tr>\n",
       "      <th>207</th>\n",
       "      <td>53.540001</td>\n",
       "      <td>2019-04-12</td>\n",
       "    </tr>\n",
       "    <tr>\n",
       "      <th>208</th>\n",
       "      <td>53.276001</td>\n",
       "      <td>2019-04-15</td>\n",
       "    </tr>\n",
       "    <tr>\n",
       "      <th>209</th>\n",
       "      <td>54.672001</td>\n",
       "      <td>2019-04-16</td>\n",
       "    </tr>\n",
       "  </tbody>\n",
       "</table>\n",
       "<p>210 rows × 2 columns</p>\n",
       "</div>"
      ],
      "text/plain": [
       "         Close        Date\n",
       "0    71.634003  2018-06-15\n",
       "1    74.166000  2018-06-18\n",
       "2    70.510002  2018-06-19\n",
       "3    72.444000  2018-06-20\n",
       "4    69.501999  2018-06-21\n",
       "..         ...         ...\n",
       "205  55.212002  2019-04-10\n",
       "206  53.683998  2019-04-11\n",
       "207  53.540001  2019-04-12\n",
       "208  53.276001  2019-04-15\n",
       "209  54.672001  2019-04-16\n",
       "\n",
       "[210 rows x 2 columns]"
      ]
     },
     "execution_count": 304,
     "metadata": {},
     "output_type": "execute_result"
    }
   ],
   "source": [
    "tesla_mv2"
   ]
  },
  {
   "cell_type": "code",
   "execution_count": 305,
   "id": "be02f0c8",
   "metadata": {
    "ExecuteTime": {
     "end_time": "2022-03-10T14:00:07.725616Z",
     "start_time": "2022-03-10T14:00:07.662056Z"
    }
   },
   "outputs": [],
   "source": [
    "pred_list = []\n",
    "for i in test_pred:\n",
    "    pred_list.append(pd.Series(i))"
   ]
  },
  {
   "cell_type": "code",
   "execution_count": 306,
   "id": "10c63dc8",
   "metadata": {
    "ExecuteTime": {
     "end_time": "2022-03-10T14:00:08.258477Z",
     "start_time": "2022-03-10T14:00:08.249870Z"
    }
   },
   "outputs": [
    {
     "data": {
      "text/plain": [
       "210"
      ]
     },
     "execution_count": 306,
     "metadata": {},
     "output_type": "execute_result"
    }
   ],
   "source": [
    "len(pred_list)"
   ]
  },
  {
   "cell_type": "code",
   "execution_count": 307,
   "id": "b0df4be3",
   "metadata": {
    "ExecuteTime": {
     "end_time": "2022-03-10T14:00:11.717935Z",
     "start_time": "2022-03-10T14:00:11.630102Z"
    }
   },
   "outputs": [
    {
     "name": "stderr",
     "output_type": "stream",
     "text": [
      "/home/msds2022/mpingol/.conda/envs/v-env/lib/python3.8/site-packages/pandas/core/indexing.py:1684: SettingWithCopyWarning: \n",
      "A value is trying to be set on a copy of a slice from a DataFrame.\n",
      "Try using .loc[row_indexer,col_indexer] = value instead\n",
      "\n",
      "See the caveats in the documentation: https://pandas.pydata.org/pandas-docs/stable/user_guide/indexing.html#returning-a-view-versus-a-copy\n",
      "  self.obj[key] = infer_fill_value(value)\n",
      "/home/msds2022/mpingol/.conda/envs/v-env/lib/python3.8/site-packages/pandas/core/indexing.py:1817: SettingWithCopyWarning: \n",
      "A value is trying to be set on a copy of a slice from a DataFrame.\n",
      "Try using .loc[row_indexer,col_indexer] = value instead\n",
      "\n",
      "See the caveats in the documentation: https://pandas.pydata.org/pandas-docs/stable/user_guide/indexing.html#returning-a-view-versus-a-copy\n",
      "  self._setitem_single_column(loc, value, pi)\n"
     ]
    }
   ],
   "source": [
    "for i in range(len(pred_list)):\n",
    "    tesla_mv2.loc[tesla_mv2.index[i], 'Pred'] = pred_list[i][(len(pred_list[i])-1)][1][0]"
   ]
  },
  {
   "cell_type": "code",
   "execution_count": 308,
   "id": "23bf35a6",
   "metadata": {
    "ExecuteTime": {
     "end_time": "2022-03-10T14:00:21.101312Z",
     "start_time": "2022-03-10T14:00:21.076372Z"
    }
   },
   "outputs": [
    {
     "data": {
      "text/html": [
       "<div>\n",
       "<style scoped>\n",
       "    .dataframe tbody tr th:only-of-type {\n",
       "        vertical-align: middle;\n",
       "    }\n",
       "\n",
       "    .dataframe tbody tr th {\n",
       "        vertical-align: top;\n",
       "    }\n",
       "\n",
       "    .dataframe thead th {\n",
       "        text-align: right;\n",
       "    }\n",
       "</style>\n",
       "<table border=\"1\" class=\"dataframe\">\n",
       "  <thead>\n",
       "    <tr style=\"text-align: right;\">\n",
       "      <th></th>\n",
       "      <th>Close</th>\n",
       "      <th>Date</th>\n",
       "      <th>Pred</th>\n",
       "    </tr>\n",
       "  </thead>\n",
       "  <tbody>\n",
       "    <tr>\n",
       "      <th>0</th>\n",
       "      <td>71.634003</td>\n",
       "      <td>2018-06-15</td>\n",
       "      <td>71.382574</td>\n",
       "    </tr>\n",
       "    <tr>\n",
       "      <th>1</th>\n",
       "      <td>74.166000</td>\n",
       "      <td>2018-06-18</td>\n",
       "      <td>71.392613</td>\n",
       "    </tr>\n",
       "    <tr>\n",
       "      <th>2</th>\n",
       "      <td>70.510002</td>\n",
       "      <td>2018-06-19</td>\n",
       "      <td>74.033633</td>\n",
       "    </tr>\n",
       "    <tr>\n",
       "      <th>3</th>\n",
       "      <td>72.444000</td>\n",
       "      <td>2018-06-20</td>\n",
       "      <td>70.238936</td>\n",
       "    </tr>\n",
       "    <tr>\n",
       "      <th>4</th>\n",
       "      <td>69.501999</td>\n",
       "      <td>2018-06-21</td>\n",
       "      <td>72.492763</td>\n",
       "    </tr>\n",
       "    <tr>\n",
       "      <th>...</th>\n",
       "      <td>...</td>\n",
       "      <td>...</td>\n",
       "      <td>...</td>\n",
       "    </tr>\n",
       "    <tr>\n",
       "      <th>205</th>\n",
       "      <td>55.212002</td>\n",
       "      <td>2019-04-10</td>\n",
       "      <td>54.569974</td>\n",
       "    </tr>\n",
       "    <tr>\n",
       "      <th>206</th>\n",
       "      <td>53.683998</td>\n",
       "      <td>2019-04-11</td>\n",
       "      <td>55.339125</td>\n",
       "    </tr>\n",
       "    <tr>\n",
       "      <th>207</th>\n",
       "      <td>53.540001</td>\n",
       "      <td>2019-04-12</td>\n",
       "      <td>53.691771</td>\n",
       "    </tr>\n",
       "    <tr>\n",
       "      <th>208</th>\n",
       "      <td>53.276001</td>\n",
       "      <td>2019-04-15</td>\n",
       "      <td>53.595438</td>\n",
       "    </tr>\n",
       "    <tr>\n",
       "      <th>209</th>\n",
       "      <td>54.672001</td>\n",
       "      <td>2019-04-16</td>\n",
       "      <td>53.294655</td>\n",
       "    </tr>\n",
       "  </tbody>\n",
       "</table>\n",
       "<p>210 rows × 3 columns</p>\n",
       "</div>"
      ],
      "text/plain": [
       "         Close        Date       Pred\n",
       "0    71.634003  2018-06-15  71.382574\n",
       "1    74.166000  2018-06-18  71.392613\n",
       "2    70.510002  2018-06-19  74.033633\n",
       "3    72.444000  2018-06-20  70.238936\n",
       "4    69.501999  2018-06-21  72.492763\n",
       "..         ...         ...        ...\n",
       "205  55.212002  2019-04-10  54.569974\n",
       "206  53.683998  2019-04-11  55.339125\n",
       "207  53.540001  2019-04-12  53.691771\n",
       "208  53.276001  2019-04-15  53.595438\n",
       "209  54.672001  2019-04-16  53.294655\n",
       "\n",
       "[210 rows x 3 columns]"
      ]
     },
     "execution_count": 308,
     "metadata": {},
     "output_type": "execute_result"
    }
   ],
   "source": [
    "tesla_mv2"
   ]
  },
  {
   "cell_type": "code",
   "execution_count": 223,
   "id": "d58db79a",
   "metadata": {
    "ExecuteTime": {
     "end_time": "2022-03-10T13:33:15.188465Z",
     "start_time": "2022-03-10T13:33:14.654090Z"
    }
   },
   "outputs": [
    {
     "data": {
      "text/plain": [
       "[                Close\n",
       " 2017-06-03  71.606169\n",
       " 2017-06-04  71.540072\n",
       " 2017-06-05  71.473274\n",
       " 2017-06-06  71.419272\n",
       " 2017-06-07  71.382574,\n",
       "                 Close\n",
       " 2017-06-04  71.569281\n",
       " 2017-06-05  71.502413\n",
       " 2017-06-06  71.448175\n",
       " 2017-06-07  71.411189\n",
       " 2017-06-08  71.392613,\n",
       "                 Close\n",
       " 2017-06-05  74.227333\n",
       " 2017-06-06  74.166653\n",
       " 2017-06-07  74.107652\n",
       " 2017-06-08  74.062234\n",
       " 2017-06-09  74.033633,\n",
       "                 Close\n",
       " 2017-06-06  70.265797\n",
       " 2017-06-07  70.216018\n",
       " 2017-06-08  70.202115\n",
       " 2017-06-09  70.211939\n",
       " 2017-06-10  70.238936,\n",
       "                 Close\n",
       " 2017-06-07  72.501760\n",
       " 2017-06-08  72.482453\n",
       " 2017-06-09  72.473810\n",
       " 2017-06-10  72.478292\n",
       " 2017-06-11  72.492763,\n",
       "                 Close\n",
       " 2017-06-08  69.334593\n",
       " 2017-06-09  69.333393\n",
       " 2017-06-10  69.363306\n",
       " 2017-06-11  69.408785\n",
       " 2017-06-12  69.460466,\n",
       "                 Close\n",
       " 2017-06-09  66.596010\n",
       " 2017-06-10  66.632395\n",
       " 2017-06-11  66.699990\n",
       " 2017-06-12  66.778636\n",
       " 2017-06-13  66.855669,\n",
       "                 Close\n",
       " 2017-06-10  66.638678\n",
       " 2017-06-11  66.706258\n",
       " 2017-06-12  66.784853\n",
       " 2017-06-13  66.861824\n",
       " 2017-06-14  66.927613,\n",
       "                 Close\n",
       " 2017-06-11  68.554538\n",
       " 2017-06-12  68.628764\n",
       " 2017-06-13  68.690802\n",
       " 2017-06-14  68.738385\n",
       " 2017-06-15  68.768586,\n",
       "                 Close\n",
       " 2017-06-12  68.991283\n",
       " 2017-06-13  69.052464\n",
       " 2017-06-14  69.097118\n",
       " 2017-06-15  69.123748\n",
       " 2017-06-16  69.132744,\n",
       "                 Close\n",
       " 2017-06-13  70.096291\n",
       " 2017-06-14  70.138476\n",
       " 2017-06-15  70.156674\n",
       " 2017-06-16  70.155387\n",
       " 2017-06-17  70.138950,\n",
       "                 Close\n",
       " 2017-06-14  68.557816\n",
       " 2017-06-15  68.579750\n",
       " 2017-06-16  68.591234\n",
       " 2017-06-17  68.590367\n",
       " 2017-06-18  68.579708,\n",
       "                 Close\n",
       " 2017-06-15  66.959716\n",
       " 2017-06-16  66.975030\n",
       " 2017-06-17  66.987251\n",
       " 2017-06-18  66.992550\n",
       " 2017-06-19  66.991543,\n",
       "                 Close\n",
       " 2017-06-16  61.950944\n",
       " 2017-06-17  61.975044\n",
       " 2017-06-18  62.020933\n",
       " 2017-06-19  62.069415\n",
       " 2017-06-20  62.113271,\n",
       "                 Close\n",
       " 2017-06-17  61.850228\n",
       " 2017-06-18  61.896412\n",
       " 2017-06-19  61.945903\n",
       " 2017-06-20  61.990988\n",
       " 2017-06-21  62.026765,\n",
       "                 Close\n",
       " 2017-06-18  61.822716\n",
       " 2017-06-19  61.872380\n",
       " 2017-06-20  61.918061\n",
       " 2017-06-21  61.954564\n",
       " 2017-06-22  61.979113,\n",
       "                 Close\n",
       " 2017-06-19  63.844445\n",
       " 2017-06-20  63.885464\n",
       " 2017-06-21  63.906034\n",
       " 2017-06-22  63.911157\n",
       " 2017-06-23  63.903577,\n",
       "                 Close\n",
       " 2017-06-20  64.567090\n",
       " 2017-06-21  64.586049\n",
       " 2017-06-22  64.585665\n",
       " 2017-06-23  64.571371\n",
       " 2017-06-24  64.547980,\n",
       "                 Close\n",
       " 2017-06-21  63.772692\n",
       " 2017-06-22  63.774231\n",
       " 2017-06-23  63.766508\n",
       " 2017-06-24  63.751129\n",
       " 2017-06-25  63.731601,\n",
       "                 Close\n",
       " 2017-06-22  63.322274\n",
       " 2017-06-23  63.315620\n",
       " 2017-06-24  63.303892\n",
       " 2017-06-25  63.288816\n",
       " 2017-06-26  63.272983,\n",
       "                 Close\n",
       " 2017-06-23  63.789646\n",
       " 2017-06-24  63.776797\n",
       " 2017-06-25  63.757891\n",
       " 2017-06-26  63.737389\n",
       " 2017-06-27  63.718298,\n",
       "                 Close\n",
       " 2017-06-24  61.919784\n",
       " 2017-06-25  61.905268\n",
       " 2017-06-26  61.899770\n",
       " 2017-06-27  61.898971\n",
       " 2017-06-28  61.901829,\n",
       "                 Close\n",
       " 2017-06-25  64.652748\n",
       " 2017-06-26  64.640754\n",
       " 2017-06-27  64.617758\n",
       " 2017-06-28  64.593552\n",
       " 2017-06-29  64.571733,\n",
       "                 Close\n",
       " 2017-06-26  64.763791\n",
       " 2017-06-27  64.740503\n",
       " 2017-06-28  64.715304\n",
       " 2017-06-29  64.692273\n",
       " 2017-06-30  64.673938,\n",
       "                 Close\n",
       " 2017-06-27  63.987273\n",
       " 2017-06-28  63.963854\n",
       " 2017-06-29  63.946909\n",
       " 2017-06-30  63.935993\n",
       " 2017-07-01  63.931183,\n",
       "                 Close\n",
       " 2017-06-28  62.629818\n",
       " 2017-06-29  62.616026\n",
       " 2017-06-30  62.615889\n",
       " 2017-07-01  62.624219\n",
       " 2017-07-02  62.638057,\n",
       "                 Close\n",
       " 2017-06-29  60.527970\n",
       " 2017-06-30  60.532769\n",
       " 2017-07-01  60.557969\n",
       " 2017-07-02  60.592376\n",
       " 2017-07-03  60.629454,\n",
       "                 Close\n",
       " 2017-06-30  59.439357\n",
       " 2017-07-01  59.467142\n",
       " 2017-07-02  59.510382\n",
       " 2017-07-03  59.558231\n",
       " 2017-07-04  59.603475,\n",
       "                 Close\n",
       " 2017-07-01  61.889765\n",
       " 2017-07-02  61.927277\n",
       " 2017-07-03  61.955554\n",
       " 2017-07-04  61.976934\n",
       " 2017-07-05  61.990322,\n",
       "                 Close\n",
       " 2017-07-02  61.339879\n",
       " 2017-07-03  61.369544\n",
       " 2017-07-04  61.395669\n",
       " 2017-07-05  61.414844\n",
       " 2017-07-06  61.426017,\n",
       "                 Close\n",
       " 2017-07-03  59.371671\n",
       " 2017-07-04  59.402520\n",
       " 2017-07-05  59.437835\n",
       " 2017-07-06  59.468688\n",
       " 2017-07-07  59.491871,\n",
       "                 Close\n",
       " 2017-07-04  57.998808\n",
       " 2017-07-05  58.037442\n",
       " 2017-07-06  58.079636\n",
       " 2017-07-07  58.116646\n",
       " 2017-07-08  58.144670,\n",
       "                 Close\n",
       " 2017-07-05  59.747066\n",
       " 2017-07-06  59.785218\n",
       " 2017-07-07  59.808415\n",
       " 2017-07-08  59.819599\n",
       " 2017-07-09  59.819988,\n",
       "                 Close\n",
       " 2017-07-06  60.226933\n",
       " 2017-07-07  60.249086\n",
       " 2017-07-08  60.256701\n",
       " 2017-07-09  60.252739\n",
       " 2017-07-10  60.240176,\n",
       "                 Close\n",
       " 2017-07-07  70.408107\n",
       " 2017-07-08  70.391704\n",
       " 2017-07-09  70.305666\n",
       " 2017-07-10  70.193031\n",
       " 2017-07-11  70.074725,\n",
       "                 Close\n",
       " 2017-07-08  69.579381\n",
       " 2017-07-09  69.495264\n",
       " 2017-07-10  69.389192\n",
       " 2017-07-11  69.278887\n",
       " 2017-07-12  69.179373,\n",
       "                 Close\n",
       " 2017-07-09  68.255560\n",
       " 2017-07-10  68.152420\n",
       " 2017-07-11  68.052130\n",
       " 2017-07-12  67.964828\n",
       " 2017-07-13  67.898896,\n",
       "                 Close\n",
       " 2017-07-10  76.188960\n",
       " 2017-07-11  76.069670\n",
       " 2017-07-12  75.917439\n",
       " 2017-07-13  75.772345\n",
       " 2017-07-14  75.652230,\n",
       "                 Close\n",
       " 2017-07-11  73.843999\n",
       " 2017-07-12  73.697030\n",
       " 2017-07-13  73.569916\n",
       " 2017-07-14  73.471726\n",
       " 2017-07-15  73.408861,\n",
       "                 Close\n",
       " 2017-07-12  70.177441\n",
       " 2017-07-13  70.058649\n",
       " 2017-07-14  69.988894\n",
       " 2017-07-15  69.960698\n",
       " 2017-07-16  69.968675,\n",
       "                 Close\n",
       " 2017-07-13  71.024656\n",
       " 2017-07-14  70.952617\n",
       " 2017-07-15  70.916617\n",
       " 2017-07-16  70.915078\n",
       " 2017-07-17  70.941063,\n",
       "                 Close\n",
       " 2017-07-14  71.222664\n",
       " 2017-07-15  71.186025\n",
       " 2017-07-16  71.182305\n",
       " 2017-07-17  71.205630\n",
       " 2017-07-18  71.247378,\n",
       "                 Close\n",
       " 2017-07-15  69.407695\n",
       " 2017-07-16  69.408179\n",
       " 2017-07-17  69.445871\n",
       " 2017-07-18  69.505137\n",
       " 2017-07-19  69.573700,\n",
       "                 Close\n",
       " 2017-07-16  67.656050\n",
       " 2017-07-17  67.697884\n",
       " 2017-07-18  67.771305\n",
       " 2017-07-19  67.857128\n",
       " 2017-07-20  67.941574,\n",
       "                 Close\n",
       " 2017-07-17  67.103885\n",
       " 2017-07-18  67.178710\n",
       " 2017-07-19  67.269331\n",
       " 2017-07-20  67.359629\n",
       " 2017-07-21  67.438016,\n",
       "                 Close\n",
       " 2017-07-18  60.878411\n",
       " 2017-07-19  60.983927\n",
       " 2017-07-20  61.125126\n",
       " 2017-07-21  61.265573\n",
       " 2017-07-22  61.386831,\n",
       "                 Close\n",
       " 2017-07-19  61.833486\n",
       " 2017-07-20  61.972676\n",
       " 2017-07-21  62.106260\n",
       " 2017-07-22  62.219149\n",
       " 2017-07-23  62.301220,\n",
       "                 Close\n",
       " 2017-07-20  64.644910\n",
       " 2017-07-21  64.772175\n",
       " 2017-07-22  64.863475\n",
       " 2017-07-23  64.919223\n",
       " 2017-07-24  64.939931,\n",
       "                 Close\n",
       " 2017-07-21  64.439623\n",
       " 2017-07-22  64.531709\n",
       " 2017-07-23  64.590144\n",
       " 2017-07-24  64.614128\n",
       " 2017-07-25  64.607766,\n",
       "                 Close\n",
       " 2017-07-22  64.091366\n",
       " 2017-07-23  64.150841\n",
       " 2017-07-24  64.178383\n",
       " 2017-07-25  64.176359\n",
       " 2017-07-26  64.151171,\n",
       "                 Close\n",
       " 2017-07-23  64.646813\n",
       " 2017-07-24  64.673182\n",
       " 2017-07-25  64.667151\n",
       " 2017-07-26  64.637078\n",
       " 2017-07-27  64.591891,\n",
       "                 Close\n",
       " 2017-07-24  63.841228\n",
       " 2017-07-25  63.837164\n",
       " 2017-07-26  63.813812\n",
       " 2017-07-27  63.776820\n",
       " 2017-07-28  63.733719,\n",
       "                 Close\n",
       " 2017-07-25  62.295402\n",
       " 2017-07-26  62.275695\n",
       " 2017-07-27  62.251159\n",
       " 2017-07-28  62.223245\n",
       " 2017-07-29  62.196104,\n",
       "                 Close\n",
       " 2017-07-26  60.918436\n",
       " 2017-07-27  60.897109\n",
       " 2017-07-28  60.880161\n",
       " 2017-07-29  60.866390\n",
       " 2017-07-30  60.856772,\n",
       "                 Close\n",
       " 2017-07-27  60.594434\n",
       " 2017-07-28  60.578202\n",
       " 2017-07-29  60.566875\n",
       " 2017-07-30  60.560239\n",
       " 2017-07-31  60.558132,\n",
       "                 Close\n",
       " 2017-07-28  60.302812\n",
       " 2017-07-29  60.292137\n",
       " 2017-07-30  60.287725\n",
       " 2017-07-31  60.288330\n",
       " 2017-08-01  60.292799,\n",
       "                 Close\n",
       " 2017-07-29  57.655268\n",
       " 2017-07-30  57.657091\n",
       " 2017-07-31  57.678999\n",
       " 2017-08-01  57.709442\n",
       " 2017-08-02  57.742492,\n",
       "                 Close\n",
       " 2017-07-30  56.075408\n",
       " 2017-07-31  56.101056\n",
       " 2017-08-01  56.144277\n",
       " 2017-08-02  56.192908\n",
       " 2017-08-03  56.239419,\n",
       "                 Close\n",
       " 2017-07-31  56.221304\n",
       " 2017-08-01  56.264242\n",
       " 2017-08-02  56.311900\n",
       " 2017-08-03  56.357227\n",
       " 2017-08-04  56.394892,\n",
       "                 Close\n",
       " 2017-08-01  52.514521\n",
       " 2017-08-02  52.571045\n",
       " 2017-08-03  52.646667\n",
       " 2017-08-04  52.721268\n",
       " 2017-08-05  52.785151,\n",
       "                 Close\n",
       " 2017-08-02  57.382909\n",
       " 2017-08-03  57.447154\n",
       " 2017-08-04  57.482879\n",
       " 2017-08-05  57.499364\n",
       " 2017-08-06  57.498921,\n",
       "                 Close\n",
       " 2017-08-03  55.878441\n",
       " 2017-08-04  55.917876\n",
       " 2017-08-05  55.947034\n",
       " 2017-08-06  55.962044\n",
       " 2017-08-07  55.963817,\n",
       "                 Close\n",
       " 2017-08-04  58.257510\n",
       " 2017-08-05  58.281137\n",
       " 2017-08-06  58.277244\n",
       " 2017-08-07  58.255972\n",
       " 2017-08-08  58.223885,\n",
       "                 Close\n",
       " 2017-08-05  57.897580\n",
       " 2017-08-06  57.894594\n",
       " 2017-08-07  57.876420\n",
       " 2017-08-08  57.848111\n",
       " 2017-08-09  57.815398,\n",
       "                 Close\n",
       " 2017-08-06  59.093417\n",
       " 2017-08-07  59.072409\n",
       " 2017-08-08  59.034414\n",
       " 2017-08-09  58.989892\n",
       " 2017-08-10  58.946029,\n",
       "                 Close\n",
       " 2017-08-07  58.940798\n",
       " 2017-08-08  58.903115\n",
       " 2017-08-09  58.859657\n",
       " 2017-08-10  58.817090\n",
       " 2017-08-11  58.780688,\n",
       "                 Close\n",
       " 2017-08-08  56.858105\n",
       " 2017-08-09  56.819481\n",
       " 2017-08-10  56.793436\n",
       " 2017-08-11  56.777178\n",
       " 2017-08-12  56.770569,\n",
       "                 Close\n",
       " 2017-08-09  59.910817\n",
       " 2017-08-10  59.877463\n",
       " 2017-08-11  59.836230\n",
       " 2017-08-12  59.799170\n",
       " 2017-08-13  59.770432,\n",
       "                 Close\n",
       " 2017-08-10  59.620560\n",
       " 2017-08-11  59.579934\n",
       " 2017-08-12  59.544950\n",
       " 2017-08-13  59.518743\n",
       " 2017-08-14  59.502835,\n",
       "                 Close\n",
       " 2017-08-11  59.789221\n",
       " 2017-08-12  59.753741\n",
       " 2017-08-13  59.725843\n",
       " 2017-08-14  59.707874\n",
       " 2017-08-15  59.700083,\n",
       "                 Close\n",
       " 2017-08-12  59.907768\n",
       " 2017-08-13  59.879506\n",
       " 2017-08-14  59.860292\n",
       " 2017-08-15  59.850984\n",
       " 2017-08-16  59.850720,\n",
       "                 Close\n",
       " 2017-08-13  60.184069\n",
       " 2017-08-14  60.164135\n",
       " 2017-08-15  60.152366\n",
       " 2017-08-16  60.149102\n",
       " 2017-08-17  60.153012,\n",
       "                 Close\n",
       " 2017-08-14  61.981572\n",
       " 2017-08-15  61.965507\n",
       " 2017-08-16  61.947559\n",
       " 2017-08-17  61.933567\n",
       " 2017-08-18  61.924661,\n",
       "                 Close\n",
       " 2017-08-15  61.464358\n",
       " 2017-08-16  61.447596\n",
       " 2017-08-17  61.437652\n",
       " 2017-08-18  61.433682\n",
       " 2017-08-19  61.434912,\n",
       "                 Close\n",
       " 2017-08-16  52.517077\n",
       " 2017-08-17  52.528248\n",
       " 2017-08-18  52.596429\n",
       " 2017-08-19  52.685628\n",
       " 2017-08-20  52.779207,\n",
       "                 Close\n",
       " 2017-08-17  62.626256\n",
       " 2017-08-18  62.670563\n",
       " 2017-08-19  62.678179\n",
       " 2017-08-20  62.672287\n",
       " 2017-08-21  62.657319,\n",
       "                 Close\n",
       " 2017-08-18  60.128718\n",
       " 2017-08-19  60.142344\n",
       " 2017-08-20  60.156988\n",
       " 2017-08-21  60.167058\n",
       " 2017-08-22  60.172038,\n",
       "                 Close\n",
       " 2017-08-19  58.915925\n",
       " 2017-08-20  58.933469\n",
       " 2017-08-21  58.953448\n",
       " 2017-08-22  58.970507\n",
       " 2017-08-23  58.982950,\n",
       "                 Close\n",
       " 2017-08-20  56.257654\n",
       " 2017-08-21  56.283959\n",
       " 2017-08-22  56.322638\n",
       " 2017-08-23  56.361439\n",
       " 2017-08-24  56.395111,\n",
       "                 Close\n",
       " 2017-08-21  52.225357\n",
       " 2017-08-22  52.273631\n",
       " 2017-08-23  52.345222\n",
       " 2017-08-24  52.418874\n",
       " 2017-08-25  52.484327,\n",
       "                 Close\n",
       " 2017-08-22  50.055936\n",
       " 2017-08-23  50.132770\n",
       " 2017-08-24  50.224339\n",
       " 2017-08-25  50.311638\n",
       " 2017-08-26  50.384133,\n",
       "                 Close\n",
       " 2017-08-23  52.760462\n",
       " 2017-08-24  52.845818\n",
       " 2017-08-25  52.911887\n",
       " 2017-08-26  52.958499\n",
       " 2017-08-27  52.983956,\n",
       "                 Close\n",
       " 2017-08-24  51.393005\n",
       " 2017-08-25  51.462509\n",
       " 2017-08-26  51.520858\n",
       " 2017-08-27  51.560626\n",
       " 2017-08-28  51.580474,\n",
       "                 Close\n",
       " 2017-08-25  50.468749\n",
       " 2017-08-26  50.529448\n",
       " 2017-08-27  50.577244\n",
       " 2017-08-28  50.606882\n",
       " 2017-08-29  50.618256,\n",
       "                 Close\n",
       " 2017-08-26  51.880251\n",
       " 2017-08-27  51.924854\n",
       " 2017-08-28  51.943578\n",
       " 2017-08-29  51.941646\n",
       " 2017-08-30  51.923739,\n",
       "                 Close\n",
       " 2017-08-27  51.964466\n",
       " 2017-08-28  51.983096\n",
       " 2017-08-29  51.980844\n",
       " 2017-08-30  51.962547\n",
       " 2017-08-31  51.933919,\n",
       "                 Close\n",
       " 2017-08-28  55.502196\n",
       " 2017-08-29  55.491624\n",
       " 2017-08-30  55.444896\n",
       " 2017-08-31  55.381602\n",
       " 2017-09-01  55.313645,\n",
       "                 Close\n",
       " 2017-08-29  54.288839\n",
       " 2017-08-30  54.244954\n",
       " 2017-08-31  54.191378\n",
       " 2017-09-01  54.135270\n",
       " 2017-09-02  54.084273,\n",
       "                 Close\n",
       " 2017-08-30  52.663724\n",
       " 2017-08-31  52.613886\n",
       " 2017-09-01  52.570553\n",
       " 2017-09-02  52.535132\n",
       " 2017-09-03  52.510373,\n",
       "                 Close\n",
       " 2017-08-31  51.917394\n",
       " 2017-09-01  51.875707\n",
       " 2017-09-02  51.845913\n",
       " 2017-09-03  51.828016\n",
       " 2017-09-04  51.821756,\n",
       "                 Close\n",
       " 2017-09-01  52.161770\n",
       " 2017-09-02  52.131300\n",
       " 2017-09-03  52.111091\n",
       " 2017-09-04  52.102014\n",
       " 2017-09-05  52.102929,\n",
       "                 Close\n",
       " 2017-09-02  59.126642\n",
       " 2017-09-03  59.089895\n",
       " 2017-09-04  59.024302\n",
       " 2017-09-05  58.956309\n",
       " 2017-09-06  58.895770,\n",
       "                 Close\n",
       " 2017-09-03  57.592819\n",
       " 2017-09-04  57.530766\n",
       " 2017-09-05  57.474868\n",
       " 2017-09-06  57.429076\n",
       " 2017-09-07  57.397055,\n",
       "                 Close\n",
       " 2017-09-04  63.175518\n",
       " 2017-09-05  63.106275\n",
       " 2017-09-06  63.014878\n",
       " 2017-09-07  62.927254\n",
       " 2017-09-08  62.854360,\n",
       "                 Close\n",
       " 2017-09-05  66.259089\n",
       " 2017-09-06  66.160238\n",
       " 2017-09-07  66.047142\n",
       " 2017-09-08  65.943192\n",
       " 2017-09-09  65.860127,\n",
       "                 Close\n",
       " 2017-09-06  66.906248\n",
       " 2017-09-07  66.791388\n",
       " 2017-09-08  66.681410\n",
       " 2017-09-09  66.590998\n",
       " 2017-09-10  66.527751,\n",
       "                 Close\n",
       " 2017-09-07  65.819415\n",
       " 2017-09-08  65.711735\n",
       " 2017-09-09  65.629175\n",
       " 2017-09-10  65.575503\n",
       " 2017-09-11  65.551490,\n",
       "                 Close\n",
       " 2017-09-08  67.437511\n",
       " 2017-09-09  67.350870\n",
       " 2017-09-10  67.283256\n",
       " 2017-09-11  67.242243\n",
       " 2017-09-12  67.227687,\n",
       "                 Close\n",
       " 2017-09-09  68.839394\n",
       " 2017-09-10  68.768260\n",
       " 2017-09-11  68.715221\n",
       " 2017-09-12  68.686002\n",
       " 2017-09-13  68.679514,\n",
       "                 Close\n",
       " 2017-09-10  69.232715\n",
       " 2017-09-11  69.178579\n",
       " 2017-09-12  69.145607\n",
       " 2017-09-13  69.134543\n",
       " 2017-09-14  69.142277,\n",
       "                 Close\n",
       " 2017-09-11  68.178826\n",
       " 2017-09-12  68.148218\n",
       " 2017-09-13  68.145232\n",
       " 2017-09-14  68.162813\n",
       " 2017-09-15  68.194319,\n",
       "                 Close\n",
       " 2017-09-12  68.183028\n",
       " 2017-09-13  68.179959\n",
       " 2017-09-14  68.197259\n",
       " 2017-09-15  68.228422\n",
       " 2017-09-16  68.266547,\n",
       "                 Close\n",
       " 2017-09-13  69.700471\n",
       " 2017-09-14  69.714177\n",
       " 2017-09-15  69.733055\n",
       " 2017-09-16  69.756203\n",
       " 2017-09-17  69.779888,\n",
       "                 Close\n",
       " 2017-09-14  70.322316\n",
       " 2017-09-15  70.339757\n",
       " 2017-09-16  70.357990\n",
       " 2017-09-17  70.375685\n",
       " 2017-09-18  70.390741,\n",
       "                 Close\n",
       " 2017-09-15  70.108561\n",
       " 2017-09-16  70.127342\n",
       " 2017-09-17  70.146904\n",
       " 2017-09-18  70.164238\n",
       " 2017-09-19  70.177566,\n",
       "                 Close\n",
       " 2017-09-16  66.084575\n",
       " 2017-09-17  66.113696\n",
       " 2017-09-18  66.163691\n",
       " 2017-09-19  66.216843\n",
       " 2017-09-20  66.265306,\n",
       "                 Close\n",
       " 2017-09-17  67.857148\n",
       " 2017-09-18  67.903022\n",
       " 2017-09-19  67.942087\n",
       " 2017-09-20  67.973377\n",
       " 2017-09-21  67.994634,\n",
       "                 Close\n",
       " 2017-09-18  68.892426\n",
       " 2017-09-19  68.929152\n",
       " 2017-09-20  68.952448\n",
       " 2017-09-21  68.963959\n",
       " 2017-09-22  68.964765,\n",
       "                 Close\n",
       " 2017-09-19  69.764008\n",
       " 2017-09-20  69.785330\n",
       " 2017-09-21  69.790096\n",
       " 2017-09-22  69.782678\n",
       " 2017-09-23  69.766654,\n",
       "                 Close\n",
       " 2017-09-20  70.937530\n",
       " 2017-09-21  70.939572\n",
       " 2017-09-22  70.922845\n",
       " 2017-09-23  70.895471\n",
       " 2017-09-24  70.863298,\n",
       "                 Close\n",
       " 2017-09-21  70.684019\n",
       " 2017-09-22  70.667896\n",
       " 2017-09-23  70.642587\n",
       " 2017-09-24  70.612931\n",
       " 2017-09-25  70.583628,\n",
       "                 Close\n",
       " 2017-09-22  69.423324\n",
       " 2017-09-23  69.400958\n",
       " 2017-09-24  69.381357\n",
       " 2017-09-25  69.364313\n",
       " 2017-09-26  69.351370,\n",
       "                 Close\n",
       " 2017-09-23  67.527492\n",
       " 2017-09-24  67.512320\n",
       " 2017-09-25  67.510413\n",
       " 2017-09-26  67.515924\n",
       " 2017-09-27  67.526424,\n",
       "                 Close\n",
       " 2017-09-24  65.034241\n",
       " 2017-09-25  65.038192\n",
       " 2017-09-26  65.063724\n",
       " 2017-09-27  65.098634\n",
       " 2017-09-28  65.136252,\n",
       "                 Close\n",
       " 2017-09-25  69.409612\n",
       " 2017-09-26  69.424809\n",
       " 2017-09-27  69.424402\n",
       " 2017-09-28  69.418959\n",
       " 2017-09-29  69.410606,\n",
       "                 Close\n",
       " 2017-09-26  68.768306\n",
       " 2017-09-27  68.769452\n",
       " 2017-09-28  68.769313\n",
       " 2017-09-29  68.767427\n",
       " 2017-09-30  68.764362,\n",
       "                 Close\n",
       " 2017-09-27  69.614920\n",
       " 2017-09-28  69.612782\n",
       " 2017-09-29  69.604065\n",
       " 2017-09-30  69.592673\n",
       " 2017-10-01  69.580700,\n",
       "                 Close\n",
       " 2017-09-28  68.163687\n",
       " 2017-09-29  68.158396\n",
       " 2017-09-30  68.158711\n",
       " 2017-10-01  68.161012\n",
       " 2017-10-02  68.164464,\n",
       "                 Close\n",
       " 2017-09-29  70.186109\n",
       " 2017-09-30  70.181630\n",
       " 2017-10-01  70.167549\n",
       " 2017-10-02  70.151027\n",
       " 2017-10-03  70.134869,\n",
       "                 Close\n",
       " 2017-09-30  71.768161\n",
       " 2017-10-01  71.750329\n",
       " 2017-10-02  71.720990\n",
       " 2017-10-03  71.689204\n",
       " 2017-10-04  71.659714,\n",
       "                 Close\n",
       " 2017-10-01  71.930654\n",
       " 2017-10-02  71.900888\n",
       " 2017-10-03  71.867645\n",
       " 2017-10-04  71.836379\n",
       " 2017-10-05  71.810715,\n",
       "                 Close\n",
       " 2017-10-02  72.615872\n",
       " 2017-10-03  72.580939\n",
       " 2017-10-04  72.543896\n",
       " 2017-10-05  72.511188\n",
       " 2017-10-06  72.486175,\n",
       "                 Close\n",
       " 2017-10-03  71.508619\n",
       " 2017-10-04  71.474111\n",
       " 2017-10-05  71.450067\n",
       " 2017-10-06  71.435616\n",
       " 2017-10-07  71.430517,\n",
       "                 Close\n",
       " 2017-10-04  73.070602\n",
       " 2017-10-05  73.042784\n",
       " 2017-10-06  73.015434\n",
       " 2017-10-07  72.994609\n",
       " 2017-10-08  72.981754,\n",
       "                 Close\n",
       " 2017-10-05  73.338071\n",
       " 2017-10-06  73.310024\n",
       " 2017-10-07  73.286813\n",
       " 2017-10-08  73.271049\n",
       " 2017-10-09  73.263234,\n",
       "                 Close\n",
       " 2017-10-06  73.291060\n",
       " 2017-10-07  73.267894\n",
       " 2017-10-08  73.252283\n",
       " 2017-10-09  73.244655\n",
       " 2017-10-10  73.244318,\n",
       "                 Close\n",
       " 2017-10-07  75.436881\n",
       " 2017-10-08  75.416142\n",
       " 2017-10-09  75.390990\n",
       " 2017-10-10  75.369288\n",
       " 2017-10-11  75.353294,\n",
       "                 Close\n",
       " 2017-10-08  73.007961\n",
       " 2017-10-09  72.988502\n",
       " 2017-10-10  72.986256\n",
       " 2017-10-11  72.993984\n",
       " 2017-10-12  73.008405,\n",
       "                 Close\n",
       " 2017-10-09  69.500434\n",
       " 2017-10-10  69.506435\n",
       " 2017-10-11  69.542343\n",
       " 2017-10-12  69.591123\n",
       " 2017-10-13  69.643501,\n",
       "                 Close\n",
       " 2017-10-10  67.308596\n",
       " 2017-10-11  67.349701\n",
       " 2017-10-12  67.416237\n",
       " 2017-10-13  67.490265\n",
       " 2017-10-14  67.560501,\n",
       "                 Close\n",
       " 2017-10-11  66.599826\n",
       " 2017-10-12  66.668136\n",
       " 2017-10-13  66.748222\n",
       " 2017-10-14  66.825845\n",
       " 2017-10-15  66.891474,\n",
       "                 Close\n",
       " 2017-10-12  62.970337\n",
       " 2017-10-13  63.059166\n",
       " 2017-10-14  63.166664\n",
       " 2017-10-15  63.268718\n",
       " 2017-10-16  63.353032,\n",
       "                 Close\n",
       " 2017-10-13  64.091391\n",
       " 2017-10-14  64.196448\n",
       " 2017-10-15  64.290163\n",
       " 2017-10-16  64.364309\n",
       " 2017-10-17  64.413529,\n",
       "                 Close\n",
       " 2017-10-14  58.935544\n",
       " 2017-10-15  59.041697\n",
       " 2017-10-16  59.158346\n",
       " 2017-10-17  59.259389\n",
       " 2017-10-18  59.334651,\n",
       "                 Close\n",
       " 2017-10-15  65.634322\n",
       " 2017-10-16  65.735385\n",
       " 2017-10-17  65.783165\n",
       " 2017-10-18  65.793487\n",
       " 2017-10-19  65.773415,\n",
       "                 Close\n",
       " 2017-10-16  63.208165\n",
       " 2017-10-17  63.261920\n",
       " 2017-10-18  63.292660\n",
       " 2017-10-19  63.297482\n",
       " 2017-10-20  63.280992,\n",
       "                 Close\n",
       " 2017-10-17  67.003803\n",
       " 2017-10-18  67.025696\n",
       " 2017-10-19  67.000288\n",
       " 2017-10-20  66.946938\n",
       " 2017-10-21  66.878661,\n",
       "                 Close\n",
       " 2017-10-18  66.559980\n",
       " 2017-10-19  66.535672\n",
       " 2017-10-20  66.486085\n",
       " 2017-10-21  66.422395\n",
       " 2017-10-22  66.355704,\n",
       "                 Close\n",
       " 2017-10-19  61.775748\n",
       " 2017-10-20  61.737415\n",
       " 2017-10-21  61.712181\n",
       " 2017-10-22  61.692377\n",
       " 2017-10-23  61.678989,\n",
       "                 Close\n",
       " 2017-10-20  59.949551\n",
       " 2017-10-21  59.928544\n",
       " 2017-10-22  59.923184\n",
       " 2017-10-23  59.927408\n",
       " 2017-10-24  59.938489,\n",
       "                 Close\n",
       " 2017-10-21  63.694154\n",
       " 2017-10-22  63.679891\n",
       " 2017-10-23  63.653692\n",
       " 2017-10-24  63.627681\n",
       " 2017-10-25  63.605481,\n",
       "                 Close\n",
       " 2017-10-22  67.140550\n",
       " 2017-10-23  67.106169\n",
       " 2017-10-24  67.052198\n",
       " 2017-10-25  66.995910\n",
       " 2017-10-26  66.945338,\n",
       "                 Close\n",
       " 2017-10-23  67.032136\n",
       " 2017-10-24  66.978340\n",
       " 2017-10-25  66.922650\n",
       " 2017-10-26  66.872807\n",
       " 2017-10-27  66.834001,\n",
       "                 Close\n",
       " 2017-10-24  67.685475\n",
       " 2017-10-25  67.628112\n",
       " 2017-10-26  67.572557\n",
       " 2017-10-27  67.526785\n",
       " 2017-10-28  67.494693,\n",
       "                 Close\n",
       " 2017-10-25  69.001243\n",
       " 2017-10-26  68.942442\n",
       " 2017-10-27  68.885576\n",
       " 2017-10-28  68.839958\n",
       " 2017-10-29  68.809217,\n",
       "                 Close\n",
       " 2017-10-26  69.415456\n",
       " 2017-10-27  69.357472\n",
       " 2017-10-28  69.308032\n",
       " 2017-10-29  69.272632\n",
       " 2017-10-30  69.252931,\n",
       "                 Close\n",
       " 2017-10-27  66.696837\n",
       " 2017-10-28  66.653688\n",
       " 2017-10-29  66.639783\n",
       " 2017-10-30  66.646291\n",
       " 2017-10-31  66.667875,\n",
       "                 Close\n",
       " 2017-10-28  68.950931\n",
       " 2017-10-29  68.931596\n",
       " 2017-10-30  68.919544\n",
       " 2017-10-31  68.918499\n",
       " 2017-11-01  68.926485,\n",
       "                 Close\n",
       " 2017-10-29  69.203454\n",
       " 2017-10-30  69.190759\n",
       " 2017-10-31  69.187517\n",
       " 2017-11-01  69.192826\n",
       " 2017-11-02  69.204249,\n",
       "                 Close\n",
       " 2017-10-30  69.462067\n",
       " 2017-10-31  69.458185\n",
       " 2017-11-01  69.461301\n",
       " 2017-11-02  69.470051\n",
       " 2017-11-03  69.482160,\n",
       "                 Close\n",
       " 2017-10-31  60.003287\n",
       " 2017-11-01  60.028758\n",
       " 2017-11-02  60.113895\n",
       " 2017-11-03  60.219139\n",
       " 2017-11-04  60.325937,\n",
       "                 Close\n",
       " 2017-11-01  59.798644\n",
       " 2017-11-02  59.884326\n",
       " 2017-11-03  59.991429\n",
       " 2017-11-04  60.100493\n",
       " 2017-11-05  60.197041,\n",
       "                 Close\n",
       " 2017-11-02  57.491087\n",
       " 2017-11-03  57.603848\n",
       " 2017-11-04  57.732248\n",
       " 2017-11-05  57.852370\n",
       " 2017-11-06  57.950305,\n",
       "                 Close\n",
       " 2017-11-03  58.454794\n",
       " 2017-11-04  58.581182\n",
       " 2017-11-05  58.694429\n",
       " 2017-11-06  58.783981\n",
       " 2017-11-07  58.843357,\n",
       "                 Close\n",
       " 2017-11-04  59.581449\n",
       " 2017-11-05  59.692331\n",
       " 2017-11-06  59.773802\n",
       " 2017-11-07  59.823325\n",
       " 2017-11-08  59.841310,\n",
       "                 Close\n",
       " 2017-11-05  59.371803\n",
       " 2017-11-06  59.454032\n",
       " 2017-11-07  59.506144\n",
       " 2017-11-08  59.527287\n",
       " 2017-11-09  59.521197,\n",
       "                 Close\n",
       " 2017-11-06  59.580164\n",
       " 2017-11-07  59.631978\n",
       " 2017-11-08  59.652102\n",
       " 2017-11-09  59.644769\n",
       " 2017-11-10  59.616671,\n",
       "                 Close\n",
       " 2017-11-07  61.913139\n",
       " 2017-11-08  61.927869\n",
       " 2017-11-09  61.902107\n",
       " 2017-11-10  61.851538\n",
       " 2017-11-11  61.788045,\n",
       "                 Close\n",
       " 2017-11-08  61.393594\n",
       " 2017-11-09  61.369094\n",
       " 2017-11-10  61.322842\n",
       " 2017-11-11  61.264612\n",
       " 2017-11-12  61.204348,\n",
       "                 Close\n",
       " 2017-11-09  62.469262\n",
       " 2017-11-10  62.420409\n",
       " 2017-11-11  62.353290\n",
       " 2017-11-12  62.282189\n",
       " 2017-11-13  62.217165,\n",
       "                 Close\n",
       " 2017-11-10  62.534514\n",
       " 2017-11-11  62.467126\n",
       " 2017-11-12  62.395103\n",
       " 2017-11-13  62.328955\n",
       " 2017-11-14  62.275961,\n",
       "                 Close\n",
       " 2017-11-11  64.288289\n",
       " 2017-11-12  64.211961\n",
       " 2017-11-13  64.131099\n",
       " 2017-11-14  64.060166\n",
       " 2017-11-15  64.006357,\n",
       "                 Close\n",
       " 2017-11-12  63.325989\n",
       " 2017-11-13  63.247222\n",
       " 2017-11-14  63.183447\n",
       " 2017-11-15  63.138365\n",
       " 2017-11-16  63.113788,\n",
       "                 Close\n",
       " 2017-11-13  61.333181\n",
       " 2017-11-14  61.273931\n",
       " 2017-11-15  61.244313\n",
       " 2017-11-16  61.238590\n",
       " 2017-11-17  61.252328,\n",
       "                 Close\n",
       " 2017-11-14  61.092200\n",
       " 2017-11-15  61.063012\n",
       " 2017-11-16  61.058757\n",
       " 2017-11-17  61.074286\n",
       " 2017-11-18  61.103443,\n",
       "                 Close\n",
       " 2017-11-15  62.611673\n",
       " 2017-11-16  62.603757\n",
       " 2017-11-17  62.606774\n",
       " 2017-11-18  62.620676\n",
       " 2017-11-19  62.641538,\n",
       "                 Close\n",
       " 2017-11-16  62.341757\n",
       " 2017-11-17  62.345393\n",
       " 2017-11-18  62.361412\n",
       " 2017-11-19  62.384855\n",
       " 2017-11-20  62.411143,\n",
       "                 Close\n",
       " 2017-11-17  61.602693\n",
       " 2017-11-18  61.620468\n",
       " 2017-11-19  61.649911\n",
       " 2017-11-20  61.683516\n",
       " 2017-11-21  61.716030,\n",
       "                 Close\n",
       " 2017-11-18  60.729876\n",
       " 2017-11-19  60.761425\n",
       " 2017-11-20  60.802225\n",
       " 2017-11-21  60.843512\n",
       " 2017-11-22  60.879800,\n",
       "                 Close\n",
       " 2017-11-19  61.649323\n",
       " 2017-11-20  61.688023\n",
       " 2017-11-21  61.722137\n",
       " 2017-11-22  61.749679\n",
       " 2017-11-23  61.768560,\n",
       "                 Close\n",
       " 2017-11-20  61.140961\n",
       " 2017-11-21  61.176368\n",
       " 2017-11-22  61.208330\n",
       " 2017-11-23  61.232600\n",
       " 2017-11-24  61.247627,\n",
       "                 Close\n",
       " 2017-11-21  60.516356\n",
       " 2017-11-22  60.549878\n",
       " 2017-11-23  60.579481\n",
       " 2017-11-24  60.601009\n",
       " 2017-11-25  60.613325,\n",
       "                 Close\n",
       " 2017-11-22  58.167432\n",
       " 2017-11-23  58.202668\n",
       " 2017-11-24  58.243444\n",
       " 2017-11-25  58.279228\n",
       " 2017-11-26  58.306255,\n",
       "                 Close\n",
       " 2017-11-23  59.015478\n",
       " 2017-11-24  59.054332\n",
       " 2017-11-25  59.083549\n",
       " 2017-11-26  59.102569\n",
       " 2017-11-27  59.111142,\n",
       "                 Close\n",
       " 2017-11-24  59.829317\n",
       " 2017-11-25  59.856702\n",
       " 2017-11-26  59.869461\n",
       " 2017-11-27  59.870400\n",
       " 2017-11-28  59.861942,\n",
       "                 Close\n",
       " 2017-11-25  59.586679\n",
       " 2017-11-26  59.600077\n",
       " 2017-11-27  59.603198\n",
       " 2017-11-28  59.597399\n",
       " 2017-11-29  59.585271,\n",
       "                 Close\n",
       " 2017-11-26  63.127349\n",
       " 2017-11-27  63.122130\n",
       " 2017-11-28  63.087834\n",
       " 2017-11-29  63.040960\n",
       " 2017-11-30  62.990468,\n",
       "                 Close\n",
       " 2017-11-27  64.012681\n",
       " 2017-11-28  63.976280\n",
       " 2017-11-29  63.922212\n",
       " 2017-11-30  63.862946\n",
       " 2017-12-01  63.807276,\n",
       "                 Close\n",
       " 2017-11-28  58.672048\n",
       " 2017-11-29  58.630520\n",
       " 2017-11-30  58.614108\n",
       " 2017-12-01  58.610687\n",
       " 2017-12-02  58.617517,\n",
       "                 Close\n",
       " 2017-11-29  56.951475\n",
       " 2017-11-30  56.939034\n",
       " 2017-12-01  56.949178\n",
       " 2017-12-02  56.972547\n",
       " 2017-12-03  57.003203,\n",
       "                 Close\n",
       " 2017-11-30  55.214418\n",
       " 2017-12-01  55.228640\n",
       " 2017-12-02  55.265942\n",
       " 2017-12-03  55.313586\n",
       " 2017-12-04  55.363130,\n",
       "                 Close\n",
       " 2017-12-01  55.263881\n",
       " 2017-12-02  55.301100\n",
       " 2017-12-03  55.348459\n",
       " 2017-12-04  55.397656\n",
       " 2017-12-05  55.441984,\n",
       "                 Close\n",
       " 2017-12-02  55.357892\n",
       " 2017-12-03  55.405117\n",
       " 2017-12-04  55.453855\n",
       " 2017-12-05  55.497623\n",
       " 2017-12-06  55.531845,\n",
       "                 Close\n",
       " 2017-12-03  56.947804\n",
       " 2017-12-04  56.992894\n",
       " 2017-12-05  57.024199\n",
       " 2017-12-06  57.043225\n",
       " 2017-12-07  57.050232,\n",
       "                 Close\n",
       " 2017-12-04  58.290120\n",
       " 2017-12-05  58.318358\n",
       " 2017-12-06  58.326903\n",
       " 2017-12-07  58.321132\n",
       " 2017-12-08  58.304900,\n",
       "                 Close\n",
       " 2017-12-05  56.620352\n",
       " 2017-12-06  56.632912\n",
       " 2017-12-07  56.640859\n",
       " 2017-12-08  56.641353\n",
       " 2017-12-09  56.635745,\n",
       "                 Close\n",
       " 2017-12-06  57.862404\n",
       " 2017-12-07  57.867445\n",
       " 2017-12-08  57.858006\n",
       " 2017-12-09  57.840287\n",
       " 2017-12-10  57.818396,\n",
       "                 Close\n",
       " 2017-12-07  58.003439\n",
       " 2017-12-08  57.993679\n",
       " 2017-12-09  57.974861\n",
       " 2017-12-10  57.951630\n",
       " 2017-12-11  57.927909,\n",
       "                 Close\n",
       " 2017-12-08  54.932203\n",
       " 2017-12-09  54.920624\n",
       " 2017-12-10  54.922127\n",
       " 2017-12-11  54.928563\n",
       " 2017-12-12  54.937804,\n",
       "                 Close\n",
       " 2017-12-09  53.835360\n",
       " 2017-12-10  53.839429\n",
       " 2017-12-11  53.854633\n",
       " 2017-12-12  53.874565\n",
       " 2017-12-13  53.895566,\n",
       "                 Close\n",
       " 2017-12-10  53.481215\n",
       " 2017-12-11  53.497266\n",
       " 2017-12-12  53.520091\n",
       " 2017-12-13  53.544622\n",
       " 2017-12-14  53.567313,\n",
       "                 Close\n",
       " 2017-12-11  54.797211\n",
       " 2017-12-12  54.816963\n",
       " 2017-12-13  54.830991\n",
       " 2017-12-14  54.840877\n",
       " 2017-12-15  54.846330,\n",
       "                 Close\n",
       " 2017-12-12  54.824088\n",
       " 2017-12-13  54.838099\n",
       " 2017-12-14  54.847927\n",
       " 2017-12-15  54.853311\n",
       " 2017-12-16  54.854493,\n",
       "                 Close\n",
       " 2017-12-13  52.825312\n",
       " 2017-12-14  52.839899\n",
       " 2017-12-15  52.861544\n",
       " 2017-12-16  52.882554\n",
       " 2017-12-17  52.900186,\n",
       "                 Close\n",
       " 2017-12-14  52.061988\n",
       " 2017-12-15  52.085472\n",
       " 2017-12-16  52.112767\n",
       " 2017-12-17  52.138061\n",
       " 2017-12-18  52.158448,\n",
       "                 Close\n",
       " 2017-12-15  53.651146\n",
       " 2017-12-16  53.674739\n",
       " 2017-12-17  53.687384\n",
       " 2017-12-18  53.692348\n",
       " 2017-12-19  53.690734,\n",
       "                 Close\n",
       " 2017-12-16  55.054507\n",
       " 2017-12-17  55.063890\n",
       " 2017-12-18  55.057707\n",
       " 2017-12-19  55.042501\n",
       " 2017-12-20  55.022241,\n",
       "                 Close\n",
       " 2017-12-17  55.766435\n",
       " 2017-12-18  55.758591\n",
       " 2017-12-19  55.737709\n",
       " 2017-12-20  55.710528\n",
       " 2017-12-21  55.681924,\n",
       "                 Close\n",
       " 2017-12-18  55.974305\n",
       " 2017-12-19  55.952913\n",
       " 2017-12-20  55.923989\n",
       " 2017-12-21  55.893260\n",
       " 2017-12-22  55.865071,\n",
       "                 Close\n",
       " 2017-12-19  57.906519\n",
       " 2017-12-20  57.872976\n",
       " 2017-12-21  57.826464\n",
       " 2017-12-22  57.779031\n",
       " 2017-12-23  57.737136,\n",
       "                 Close\n",
       " 2017-12-20  57.106390\n",
       " 2017-12-21  57.061690\n",
       " 2017-12-22  57.020451\n",
       " 2017-12-23  56.986107\n",
       " 2017-12-24  56.961568,\n",
       "                 Close\n",
       " 2017-12-21  58.379289\n",
       " 2017-12-22  58.334935\n",
       " 2017-12-23  58.289946\n",
       " 2017-12-24  58.252428\n",
       " 2017-12-25  58.225750,\n",
       "                 Close\n",
       " 2017-12-22  53.273518\n",
       " 2017-12-23  53.240496\n",
       " 2017-12-24  53.243870\n",
       " 2017-12-25  53.267049\n",
       " 2017-12-26  53.302476,\n",
       "                 Close\n",
       " 2017-12-23  55.043820\n",
       " 2017-12-24  55.042930\n",
       " 2017-12-25  55.051541\n",
       " 2017-12-26  55.069204\n",
       " 2017-12-27  55.091897,\n",
       "                 Close\n",
       " 2017-12-24  54.619173\n",
       " 2017-12-25  54.628785\n",
       " 2017-12-26  54.649872\n",
       " 2017-12-27  54.676739\n",
       " 2017-12-28  54.704696,\n",
       "                 Close\n",
       " 2017-12-25  54.463855\n",
       " 2017-12-26  54.485332\n",
       " 2017-12-27  54.513531\n",
       " 2017-12-28  54.543113\n",
       " 2017-12-29  54.569974,\n",
       "                 Close\n",
       " 2017-12-26  55.270415\n",
       " 2017-12-27  55.296758\n",
       " 2017-12-28  55.319997\n",
       " 2017-12-29  55.339125,\n",
       "                 Close\n",
       " 2017-12-27  53.632019\n",
       " 2017-12-28  53.659194\n",
       " 2017-12-29  53.691771,\n",
       "                 Close\n",
       " 2017-12-28  53.562633\n",
       " 2017-12-29  53.595438,\n",
       "                 Close\n",
       " 2017-12-29  53.294655]"
      ]
     },
     "execution_count": 223,
     "metadata": {},
     "output_type": "execute_result"
    }
   ],
   "source": [
    "test_pred"
   ]
  },
  {
   "cell_type": "code",
   "execution_count": 309,
   "id": "bc2d6028",
   "metadata": {
    "ExecuteTime": {
     "end_time": "2022-03-10T14:00:34.720577Z",
     "start_time": "2022-03-10T14:00:34.712693Z"
    }
   },
   "outputs": [],
   "source": [
    "import pickle\n",
    "\n",
    "pickle.dump( tesla_mv2, open( \"closeonly.p\", \"wb\" ) )"
   ]
  },
  {
   "cell_type": "markdown",
   "id": "ffbfdbb2",
   "metadata": {},
   "source": [
    "# 5 day close only"
   ]
  },
  {
   "cell_type": "code",
   "execution_count": 295,
   "id": "65ff7640",
   "metadata": {
    "ExecuteTime": {
     "end_time": "2022-03-10T13:59:41.832895Z",
     "start_time": "2022-03-10T13:59:14.485046Z"
    }
   },
   "outputs": [
    {
     "name": "stdout",
     "output_type": "stream",
     "text": [
      "836 points in train split, 210 points in test split.\n",
      "Time series is 1-dimensional\n",
      "DefaultForecaster Sliding Window Evaluation\n"
     ]
    },
    {
     "name": "stderr",
     "output_type": "stream",
     "text": [
      "ForecastEvaluator: 100%|██████████| 18057600/18057600 [00:09<00:00, 1841105.43it/s]\n"
     ]
    },
    {
     "name": "stdout",
     "output_type": "stream",
     "text": [
      "RMSE:  3.9592\n",
      "sMAPE: 5.6749\n",
      "MAE:   3.5284\n",
      "\n",
      "Arima Sliding Window Evaluation\n"
     ]
    },
    {
     "name": "stderr",
     "output_type": "stream",
     "text": [
      "ForecastEvaluator: 100%|██████████| 18057600/18057600 [00:06<00:00, 2671442.92it/s]\n"
     ]
    },
    {
     "name": "stdout",
     "output_type": "stream",
     "text": [
      "RMSE:  3.1129\n",
      "sMAPE: 4.3883\n",
      "MAE:   2.7307\n",
      "\n"
     ]
    }
   ],
   "source": [
    "tesla = pd.read_csv('~/cpt1/bdcc/final_project/GDELTS/tesla_complete.csv')\n",
    "tesla_mv = tesla.drop('target', axis=1)\n",
    "tesla_mv['Date'] = pd.date_range(tesla_mv['Date'][0], periods=tesla_mv.shape[0], freq='D')\n",
    "tesla_mv.set_index('Date', inplace=True)\n",
    "\n",
    "tesla_mv = tesla_mv[['Close']]\n",
    "\n",
    "test_size = 210\n",
    "train_data = TimeSeries.from_pd(tesla_mv[:-test_size])\n",
    "test_data  = TimeSeries.from_pd(tesla_mv[-test_size:])\n",
    "print(f\"{len(train_data)} points in train split, \"\n",
    "      f\"{len(test_data)} points in test split.\")\n",
    "print(f\"Time series is {train_data.dim}-dimensional\")\n",
    "\n",
    "from merlion.evaluate.forecast import ForecastEvaluator, ForecastEvaluatorConfig\n",
    "\n",
    "target_seq_index = 0\n",
    "max_forecast_steps = 42\n",
    "kwargs = dict(target_seq_index=target_seq_index, max_forecast_steps=max_forecast_steps)\n",
    "\n",
    "model1 = ModelFactory.create(\"DefaultForecaster\", **kwargs)\n",
    "model2 = ModelFactory.create(\"Arima\", **kwargs)\n",
    "\n",
    "for model in [model1, model2]:\n",
    "    print(f\"{type(model).__name__} Sliding Window Evaluation\")\n",
    "    evaluator = ForecastEvaluator(model=model, config=ForecastEvaluatorConfig(\n",
    "        horizon=\"5d\", cadence=\"1d\", retrain_freq=None))\n",
    "    train_result, test_pred = evaluator.get_predict(train_vals=train_data, test_vals=test_data)\n",
    "    rmse = evaluator.evaluate(ground_truth=test_data, predict=test_pred, metric=ForecastMetric.RMSE)\n",
    "    smape = evaluator.evaluate(ground_truth=test_data, predict=test_pred, metric=ForecastMetric.sMAPE)\n",
    "    mae = evaluator.evaluate(ground_truth=test_data, predict=test_pred, metric=ForecastMetric.MAE)\n",
    "    print(f\"RMSE:  {rmse:.4f}\")\n",
    "    print(f\"sMAPE: {smape:.4f}\")\n",
    "    print(f\"MAE:   {mae:.4f}\")\n",
    "    print()"
   ]
  },
  {
   "cell_type": "code",
   "execution_count": null,
   "id": "629fc43e",
   "metadata": {},
   "outputs": [],
   "source": []
  },
  {
   "cell_type": "code",
   "execution_count": null,
   "id": "4f058687",
   "metadata": {},
   "outputs": [],
   "source": []
  }
 ],
 "metadata": {
  "kernelspec": {
   "display_name": "Python [conda env:.conda-v-env]",
   "language": "python",
   "name": "conda-env-.conda-v-env-py"
  },
  "language_info": {
   "codemirror_mode": {
    "name": "ipython",
    "version": 3
   },
   "file_extension": ".py",
   "mimetype": "text/x-python",
   "name": "python",
   "nbconvert_exporter": "python",
   "pygments_lexer": "ipython3",
   "version": "3.8.12"
  },
  "toc": {
   "base_numbering": 1,
   "nav_menu": {},
   "number_sections": true,
   "sideBar": true,
   "skip_h1_title": false,
   "title_cell": "Table of Contents",
   "title_sidebar": "Contents",
   "toc_cell": false,
   "toc_position": {},
   "toc_section_display": true,
   "toc_window_display": false
  }
 },
 "nbformat": 4,
 "nbformat_minor": 5
}
