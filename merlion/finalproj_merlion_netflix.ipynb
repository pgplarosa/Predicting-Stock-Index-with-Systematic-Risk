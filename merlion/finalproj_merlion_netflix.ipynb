{
 "cells": [
  {
   "cell_type": "markdown",
   "id": "6087abcd",
   "metadata": {},
   "source": [
    "In order to run this notebook, the following environment and packages had to be installed:\n",
    "\n",
    "$ conda create -n v-env python=3.8\n",
    "\n",
    "activate v-env\n",
    "\n",
    "conda activate v-env\n",
    "\n",
    "conda config --set channel_priority false\n",
    "\n",
    "conda install -c conda-forge prophet\n",
    "\n",
    "pip install salesforce-merlion\n",
    "\n",
    "pip install pingouin\n",
    "\n",
    "pip install PyYAML\n",
    "\n",
    "pip install SQLAlchemy\n",
    "\n",
    "pip install ipykernel\n",
    "\n",
    "pip install jinja2\n",
    "\n",
    "pip install sfc-merlion[plot]\n",
    "\n",
    "pip install -e ts_datasets/\n",
    "\n",
    "conda install -e ts_datasets/\n",
    "\n",
    "conda install -c conda-forge lightgbm\n",
    "\n",
    "conda activate v-env\n",
    "\n",
    "pip install -e ts_datasets/\n",
    "\n",
    "pip intall -e ./Merlion/ts_dataset/"
   ]
  },
  {
   "cell_type": "code",
   "execution_count": 1,
   "id": "9baee9bc",
   "metadata": {
    "ExecuteTime": {
     "end_time": "2022-03-10T04:59:21.749034Z",
     "start_time": "2022-03-10T04:59:16.372423Z"
    }
   },
   "outputs": [
    {
     "name": "stderr",
     "output_type": "stream",
     "text": [
      "Matplotlib created a temporary config/cache directory at /tmp/matplotlib-3hiftyln because the default path (/home/mpingol/.cache/matplotlib) is not a writable directory; it is highly recommended to set the MPLCONFIGDIR environment variable to a writable directory, in particular to speed up the import of Matplotlib and to better support multiprocessing.\n"
     ]
    }
   ],
   "source": [
    "import matplotlib.pyplot as plt\n",
    "import numpy as np\n",
    "import pandas as pd\n",
    "\n",
    "from scipy.stats import norm\n",
    "\n",
    "#from ts_datasets.anomaly import NAB\n",
    "#from ts_datasets.forecast import M4\n",
    "\n",
    "#from merlion.plot import plot_anoms\n",
    "from merlion.utils import TimeSeries\n",
    "from merlion.utils.time_series import TimeSeries\n",
    "\n",
    "from merlion.transform.base import Identity\n",
    "from merlion.transform.resample import TemporalResample\n",
    "from merlion.transform.moving_average import DifferenceTransform\n",
    "\n",
    "from merlion.models.defaults import DefaultDetectorConfig, DefaultDetector\n",
    "#from merlion.models.anomaly.isolation_forest import IsolationForest, IsolationForestConfig\n",
    "#from merlion.models.anomaly.windstats import WindStats, WindStatsConfig\n",
    "#from merlion.models.anomaly.forecast_based.prophet import ProphetDetector, ProphetDetectorConfig\n",
    "\n",
    "from merlion.models.forecast.arima import Arima, ArimaConfig\n",
    "from merlion.models.forecast.prophet import Prophet, ProphetConfig\n",
    "from merlion.models.forecast.smoother import MSES, MSESConfig\n",
    "\n",
    "#from merlion.models.ensemble.anomaly import DetectorEnsemble, DetectorEnsembleConfig\n",
    "from merlion.models.defaults import DefaultForecasterConfig, DefaultForecaster\n",
    "from merlion.models.ensemble.combine import Mean, ModelSelector\n",
    "from merlion.models.ensemble.forecast import ForecasterEnsemble, ForecasterEnsembleConfig\n",
    "\n",
    "#from merlion.evaluate.anomaly import TSADMetric\n",
    "from merlion.post_process.threshold import AggregateAlarms\n",
    "from merlion.evaluate.forecast import ForecastMetric"
   ]
  },
  {
   "cell_type": "code",
   "execution_count": 2,
   "id": "0c4da042",
   "metadata": {
    "ExecuteTime": {
     "end_time": "2022-03-10T04:59:21.758745Z",
     "start_time": "2022-03-10T04:59:21.753258Z"
    }
   },
   "outputs": [],
   "source": [
    "from merlion.evaluate.forecast import ForecastMetric\n",
    "from merlion.models.factory import ModelFactory\n",
    "from merlion.models.ensemble.combine import ModelSelector"
   ]
  },
  {
   "cell_type": "markdown",
   "id": "4285c92a",
   "metadata": {},
   "source": [
    "# 1 Day Close and Tone "
   ]
  },
  {
   "cell_type": "code",
   "execution_count": 3,
   "id": "717438a6",
   "metadata": {
    "ExecuteTime": {
     "end_time": "2022-03-10T04:59:21.824854Z",
     "start_time": "2022-03-10T04:59:21.761302Z"
    }
   },
   "outputs": [],
   "source": [
    "tesla = pd.read_csv('~/cpt1/bdcc/final_project/GDELTS/netflix_completed.csv')\n",
    "tesla['Date'] = pd.date_range(tesla['Date'][0], periods=tesla.shape[0], freq='D')\n",
    "tesla.set_index('Date', inplace=True)"
   ]
  },
  {
   "cell_type": "code",
   "execution_count": 4,
   "id": "ffef3f0c",
   "metadata": {
    "ExecuteTime": {
     "end_time": "2022-03-10T04:59:21.834463Z",
     "start_time": "2022-03-10T04:59:21.828508Z"
    }
   },
   "outputs": [],
   "source": [
    "tesla_mv = tesla[['Close', 'Daily Average Tone']]"
   ]
  },
  {
   "cell_type": "code",
   "execution_count": 5,
   "id": "4f6a2e46",
   "metadata": {
    "ExecuteTime": {
     "end_time": "2022-03-10T04:59:21.856640Z",
     "start_time": "2022-03-10T04:59:21.836384Z"
    }
   },
   "outputs": [
    {
     "data": {
      "text/html": [
       "<div>\n",
       "<style scoped>\n",
       "    .dataframe tbody tr th:only-of-type {\n",
       "        vertical-align: middle;\n",
       "    }\n",
       "\n",
       "    .dataframe tbody tr th {\n",
       "        vertical-align: top;\n",
       "    }\n",
       "\n",
       "    .dataframe thead th {\n",
       "        text-align: right;\n",
       "    }\n",
       "</style>\n",
       "<table border=\"1\" class=\"dataframe\">\n",
       "  <thead>\n",
       "    <tr style=\"text-align: right;\">\n",
       "      <th></th>\n",
       "      <th>Close</th>\n",
       "      <th>Daily Average Tone</th>\n",
       "    </tr>\n",
       "    <tr>\n",
       "      <th>Date</th>\n",
       "      <th></th>\n",
       "      <th></th>\n",
       "    </tr>\n",
       "  </thead>\n",
       "  <tbody>\n",
       "    <tr>\n",
       "      <th>2015-02-19</th>\n",
       "      <td>67.800003</td>\n",
       "      <td>-0.452830</td>\n",
       "    </tr>\n",
       "    <tr>\n",
       "      <th>2015-02-20</th>\n",
       "      <td>68.314285</td>\n",
       "      <td>0.880952</td>\n",
       "    </tr>\n",
       "    <tr>\n",
       "      <th>2015-02-21</th>\n",
       "      <td>67.405716</td>\n",
       "      <td>0.530303</td>\n",
       "    </tr>\n",
       "    <tr>\n",
       "      <th>2015-02-22</th>\n",
       "      <td>67.839996</td>\n",
       "      <td>0.514706</td>\n",
       "    </tr>\n",
       "    <tr>\n",
       "      <th>2015-02-23</th>\n",
       "      <td>68.332855</td>\n",
       "      <td>-0.032258</td>\n",
       "    </tr>\n",
       "    <tr>\n",
       "      <th>...</th>\n",
       "      <td>...</td>\n",
       "      <td>...</td>\n",
       "    </tr>\n",
       "    <tr>\n",
       "      <th>2017-12-26</th>\n",
       "      <td>363.920013</td>\n",
       "      <td>0.427419</td>\n",
       "    </tr>\n",
       "    <tr>\n",
       "      <th>2017-12-27</th>\n",
       "      <td>367.649994</td>\n",
       "      <td>0.493617</td>\n",
       "    </tr>\n",
       "    <tr>\n",
       "      <th>2017-12-28</th>\n",
       "      <td>351.140015</td>\n",
       "      <td>0.864706</td>\n",
       "    </tr>\n",
       "    <tr>\n",
       "      <th>2017-12-29</th>\n",
       "      <td>348.869995</td>\n",
       "      <td>0.103774</td>\n",
       "    </tr>\n",
       "    <tr>\n",
       "      <th>2017-12-30</th>\n",
       "      <td>359.459991</td>\n",
       "      <td>-0.202247</td>\n",
       "    </tr>\n",
       "  </tbody>\n",
       "</table>\n",
       "<p>1046 rows × 2 columns</p>\n",
       "</div>"
      ],
      "text/plain": [
       "                 Close  Daily Average Tone\n",
       "Date                                      \n",
       "2015-02-19   67.800003           -0.452830\n",
       "2015-02-20   68.314285            0.880952\n",
       "2015-02-21   67.405716            0.530303\n",
       "2015-02-22   67.839996            0.514706\n",
       "2015-02-23   68.332855           -0.032258\n",
       "...                ...                 ...\n",
       "2017-12-26  363.920013            0.427419\n",
       "2017-12-27  367.649994            0.493617\n",
       "2017-12-28  351.140015            0.864706\n",
       "2017-12-29  348.869995            0.103774\n",
       "2017-12-30  359.459991           -0.202247\n",
       "\n",
       "[1046 rows x 2 columns]"
      ]
     },
     "execution_count": 5,
     "metadata": {},
     "output_type": "execute_result"
    }
   ],
   "source": [
    "tesla_mv"
   ]
  },
  {
   "cell_type": "code",
   "execution_count": 6,
   "id": "188954dc",
   "metadata": {
    "ExecuteTime": {
     "end_time": "2022-03-10T04:59:21.878365Z",
     "start_time": "2022-03-10T04:59:21.858471Z"
    }
   },
   "outputs": [
    {
     "name": "stdout",
     "output_type": "stream",
     "text": [
      "836 points in train split, 210 points in test split.\n",
      "Time series is 2-dimensional\n"
     ]
    }
   ],
   "source": [
    "test_size = 210\n",
    "train_data = TimeSeries.from_pd(tesla_mv[:-test_size])\n",
    "test_data  = TimeSeries.from_pd(tesla_mv[-test_size:])\n",
    "print(f\"{len(train_data)} points in train split, \"\n",
    "      f\"{len(test_data)} points in test split.\")\n",
    "print(f\"Time series is {train_data.dim}-dimensional\")"
   ]
  },
  {
   "cell_type": "code",
   "execution_count": 7,
   "id": "bd0fadf2",
   "metadata": {
    "ExecuteTime": {
     "end_time": "2022-03-10T05:01:17.977241Z",
     "start_time": "2022-03-10T04:59:21.880851Z"
    }
   },
   "outputs": [
    {
     "name": "stdout",
     "output_type": "stream",
     "text": [
      "DefaultForecaster Sliding Window Evaluation\n"
     ]
    },
    {
     "name": "stderr",
     "output_type": "stream",
     "text": [
      "ForecastEvaluator: 100%|██████████| 18057600/18057600 [01:00<00:00, 298778.46it/s]\n"
     ]
    },
    {
     "name": "stdout",
     "output_type": "stream",
     "text": [
      "RMSE:  23.5043\n",
      "sMAPE: 5.3738\n",
      "MAE:   18.1910\n",
      "\n",
      "Arima Sliding Window Evaluation\n"
     ]
    },
    {
     "name": "stderr",
     "output_type": "stream",
     "text": [
      "ForecastEvaluator: 100%|██████████| 18057600/18057600 [00:07<00:00, 2458443.35it/s]\n"
     ]
    },
    {
     "name": "stdout",
     "output_type": "stream",
     "text": [
      "RMSE:  13.1725\n",
      "sMAPE: 3.0415\n",
      "MAE:   10.0673\n",
      "\n"
     ]
    }
   ],
   "source": [
    "from merlion.evaluate.forecast import ForecastEvaluator, ForecastEvaluatorConfig\n",
    "\n",
    "target_seq_index = 0\n",
    "max_forecast_steps = 210\n",
    "kwargs = dict(target_seq_index=target_seq_index, max_forecast_steps=max_forecast_steps)\n",
    "\n",
    "model1 = ModelFactory.create(\"DefaultForecaster\", **kwargs)\n",
    "model2 = ModelFactory.create(\"Arima\", **kwargs)\n",
    "\n",
    "for model in [model1, model2]:\n",
    "    print(f\"{type(model).__name__} Sliding Window Evaluation\")\n",
    "    evaluator = ForecastEvaluator(model=model, config=ForecastEvaluatorConfig(\n",
    "        horizon=\"1d\", cadence=\"1d\", retrain_freq=None))\n",
    "    train_result, test_pred = evaluator.get_predict(train_vals=train_data, test_vals=test_data)\n",
    "    rmse = evaluator.evaluate(ground_truth=test_data, predict=test_pred, metric=ForecastMetric.RMSE)\n",
    "    smape = evaluator.evaluate(ground_truth=test_data, predict=test_pred, metric=ForecastMetric.sMAPE)\n",
    "    mae = evaluator.evaluate(ground_truth=test_data, predict=test_pred, metric=ForecastMetric.MAE)\n",
    "    print(f\"RMSE:  {rmse:.4f}\")\n",
    "    print(f\"sMAPE: {smape:.4f}\")\n",
    "    print(f\"MAE:   {mae:.4f}\")\n",
    "    print()"
   ]
  },
  {
   "cell_type": "markdown",
   "id": "ee07c447",
   "metadata": {},
   "source": [
    "# 1 Day Close Only"
   ]
  },
  {
   "cell_type": "code",
   "execution_count": 8,
   "id": "cdfe7c2c",
   "metadata": {
    "ExecuteTime": {
     "end_time": "2022-03-10T05:01:17.996357Z",
     "start_time": "2022-03-10T05:01:17.979787Z"
    }
   },
   "outputs": [],
   "source": [
    "tesla = pd.read_csv('~/cpt1/bdcc/final_project/GDELTS/netflix_completed.csv')\n",
    "tesla['Date'] = pd.date_range(tesla['Date'][0], periods=tesla.shape[0], freq='D')\n",
    "tesla.set_index('Date', inplace=True)"
   ]
  },
  {
   "cell_type": "code",
   "execution_count": 9,
   "id": "be16ef6b",
   "metadata": {
    "ExecuteTime": {
     "end_time": "2022-03-10T05:01:18.003240Z",
     "start_time": "2022-03-10T05:01:17.998519Z"
    }
   },
   "outputs": [],
   "source": [
    "tesla_mv = tesla[['Close']]"
   ]
  },
  {
   "cell_type": "code",
   "execution_count": 10,
   "id": "8a5a3070",
   "metadata": {
    "ExecuteTime": {
     "end_time": "2022-03-10T05:01:18.016658Z",
     "start_time": "2022-03-10T05:01:18.007118Z"
    }
   },
   "outputs": [
    {
     "data": {
      "text/html": [
       "<div>\n",
       "<style scoped>\n",
       "    .dataframe tbody tr th:only-of-type {\n",
       "        vertical-align: middle;\n",
       "    }\n",
       "\n",
       "    .dataframe tbody tr th {\n",
       "        vertical-align: top;\n",
       "    }\n",
       "\n",
       "    .dataframe thead th {\n",
       "        text-align: right;\n",
       "    }\n",
       "</style>\n",
       "<table border=\"1\" class=\"dataframe\">\n",
       "  <thead>\n",
       "    <tr style=\"text-align: right;\">\n",
       "      <th></th>\n",
       "      <th>Close</th>\n",
       "    </tr>\n",
       "    <tr>\n",
       "      <th>Date</th>\n",
       "      <th></th>\n",
       "    </tr>\n",
       "  </thead>\n",
       "  <tbody>\n",
       "    <tr>\n",
       "      <th>2015-02-19</th>\n",
       "      <td>67.800003</td>\n",
       "    </tr>\n",
       "    <tr>\n",
       "      <th>2015-02-20</th>\n",
       "      <td>68.314285</td>\n",
       "    </tr>\n",
       "    <tr>\n",
       "      <th>2015-02-21</th>\n",
       "      <td>67.405716</td>\n",
       "    </tr>\n",
       "    <tr>\n",
       "      <th>2015-02-22</th>\n",
       "      <td>67.839996</td>\n",
       "    </tr>\n",
       "    <tr>\n",
       "      <th>2015-02-23</th>\n",
       "      <td>68.332855</td>\n",
       "    </tr>\n",
       "    <tr>\n",
       "      <th>...</th>\n",
       "      <td>...</td>\n",
       "    </tr>\n",
       "    <tr>\n",
       "      <th>2017-12-26</th>\n",
       "      <td>363.920013</td>\n",
       "    </tr>\n",
       "    <tr>\n",
       "      <th>2017-12-27</th>\n",
       "      <td>367.649994</td>\n",
       "    </tr>\n",
       "    <tr>\n",
       "      <th>2017-12-28</th>\n",
       "      <td>351.140015</td>\n",
       "    </tr>\n",
       "    <tr>\n",
       "      <th>2017-12-29</th>\n",
       "      <td>348.869995</td>\n",
       "    </tr>\n",
       "    <tr>\n",
       "      <th>2017-12-30</th>\n",
       "      <td>359.459991</td>\n",
       "    </tr>\n",
       "  </tbody>\n",
       "</table>\n",
       "<p>1046 rows × 1 columns</p>\n",
       "</div>"
      ],
      "text/plain": [
       "                 Close\n",
       "Date                  \n",
       "2015-02-19   67.800003\n",
       "2015-02-20   68.314285\n",
       "2015-02-21   67.405716\n",
       "2015-02-22   67.839996\n",
       "2015-02-23   68.332855\n",
       "...                ...\n",
       "2017-12-26  363.920013\n",
       "2017-12-27  367.649994\n",
       "2017-12-28  351.140015\n",
       "2017-12-29  348.869995\n",
       "2017-12-30  359.459991\n",
       "\n",
       "[1046 rows x 1 columns]"
      ]
     },
     "execution_count": 10,
     "metadata": {},
     "output_type": "execute_result"
    }
   ],
   "source": [
    "tesla_mv"
   ]
  },
  {
   "cell_type": "code",
   "execution_count": 11,
   "id": "36339058",
   "metadata": {
    "ExecuteTime": {
     "end_time": "2022-03-10T05:01:18.028829Z",
     "start_time": "2022-03-10T05:01:18.019004Z"
    }
   },
   "outputs": [
    {
     "name": "stdout",
     "output_type": "stream",
     "text": [
      "836 points in train split, 210 points in test split.\n",
      "Time series is 1-dimensional\n"
     ]
    }
   ],
   "source": [
    "test_size = 210\n",
    "train_data = TimeSeries.from_pd(tesla_mv[:-test_size])\n",
    "test_data  = TimeSeries.from_pd(tesla_mv[-test_size:])\n",
    "print(f\"{len(train_data)} points in train split, \"\n",
    "      f\"{len(test_data)} points in test split.\")\n",
    "print(f\"Time series is {train_data.dim}-dimensional\")"
   ]
  },
  {
   "cell_type": "code",
   "execution_count": 12,
   "id": "2902ef7e",
   "metadata": {
    "ExecuteTime": {
     "end_time": "2022-03-10T05:01:36.894269Z",
     "start_time": "2022-03-10T05:01:18.032148Z"
    }
   },
   "outputs": [
    {
     "name": "stdout",
     "output_type": "stream",
     "text": [
      "DefaultForecaster Sliding Window Evaluation\n"
     ]
    },
    {
     "name": "stderr",
     "output_type": "stream",
     "text": [
      "ForecastEvaluator: 100%|██████████| 18057600/18057600 [00:10<00:00, 1722517.63it/s]\n"
     ]
    },
    {
     "name": "stdout",
     "output_type": "stream",
     "text": [
      "RMSE:  17.8265\n",
      "sMAPE: 4.2470\n",
      "MAE:   14.0074\n",
      "\n",
      "Arima Sliding Window Evaluation\n"
     ]
    },
    {
     "name": "stderr",
     "output_type": "stream",
     "text": [
      "ForecastEvaluator: 100%|██████████| 18057600/18057600 [00:06<00:00, 2807944.11it/s]\n"
     ]
    },
    {
     "name": "stdout",
     "output_type": "stream",
     "text": [
      "RMSE:  13.1725\n",
      "sMAPE: 3.0415\n",
      "MAE:   10.0673\n",
      "\n"
     ]
    }
   ],
   "source": [
    "from merlion.evaluate.forecast import ForecastEvaluator, ForecastEvaluatorConfig\n",
    "\n",
    "target_seq_index = 0\n",
    "max_forecast_steps = 210\n",
    "kwargs = dict(target_seq_index=target_seq_index, max_forecast_steps=max_forecast_steps)\n",
    "\n",
    "model1 = ModelFactory.create(\"DefaultForecaster\", **kwargs)\n",
    "model2 = ModelFactory.create(\"Arima\", **kwargs)\n",
    "\n",
    "for model in [model1, model2]:\n",
    "    print(f\"{type(model).__name__} Sliding Window Evaluation\")\n",
    "    evaluator = ForecastEvaluator(model=model, config=ForecastEvaluatorConfig(\n",
    "        horizon=\"1d\", cadence=\"1d\", retrain_freq=None))\n",
    "    train_result, test_pred = evaluator.get_predict(train_vals=train_data, test_vals=test_data)\n",
    "    rmse = evaluator.evaluate(ground_truth=test_data, predict=test_pred, metric=ForecastMetric.RMSE)\n",
    "    smape = evaluator.evaluate(ground_truth=test_data, predict=test_pred, metric=ForecastMetric.sMAPE)\n",
    "    mae = evaluator.evaluate(ground_truth=test_data, predict=test_pred, metric=ForecastMetric.MAE)\n",
    "    print(f\"RMSE:  {rmse:.4f}\")\n",
    "    print(f\"sMAPE: {smape:.4f}\")\n",
    "    print(f\"MAE:   {mae:.4f}\")\n",
    "    print()"
   ]
  },
  {
   "cell_type": "markdown",
   "id": "eb747aff",
   "metadata": {},
   "source": [
    "# 3 day close and tone"
   ]
  },
  {
   "cell_type": "code",
   "execution_count": 13,
   "id": "cde916d5",
   "metadata": {
    "ExecuteTime": {
     "end_time": "2022-03-10T05:03:27.428869Z",
     "start_time": "2022-03-10T05:01:36.897057Z"
    }
   },
   "outputs": [
    {
     "name": "stdout",
     "output_type": "stream",
     "text": [
      "836 points in train split, 210 points in test split.\n",
      "Time series is 2-dimensional\n",
      "DefaultForecaster Sliding Window Evaluation\n"
     ]
    },
    {
     "name": "stderr",
     "output_type": "stream",
     "text": [
      "ForecastEvaluator: 100%|██████████| 18057600/18057600 [01:03<00:00, 284583.30it/s]\n"
     ]
    },
    {
     "name": "stdout",
     "output_type": "stream",
     "text": [
      "RMSE:  18.6815\n",
      "sMAPE: 5.2067\n",
      "MAE:   17.6259\n",
      "\n",
      "Arima Sliding Window Evaluation\n"
     ]
    },
    {
     "name": "stderr",
     "output_type": "stream",
     "text": [
      "ForecastEvaluator: 100%|██████████| 18057600/18057600 [00:08<00:00, 2252309.21it/s]\n"
     ]
    },
    {
     "name": "stdout",
     "output_type": "stream",
     "text": [
      "RMSE:  11.3562\n",
      "sMAPE: 3.0694\n",
      "MAE:   10.1824\n",
      "\n"
     ]
    }
   ],
   "source": [
    "tesla = pd.read_csv('~/cpt1/bdcc/final_project/GDELTS/netflix_completed.csv')\n",
    "tesla['Date'] = pd.date_range(tesla['Date'][0], periods=tesla.shape[0], freq='D')\n",
    "tesla.set_index('Date', inplace=True)\n",
    "\n",
    "tesla_mv = tesla[['Close', 'Daily Average Tone']]\n",
    "\n",
    "tesla_mv\n",
    "\n",
    "test_size = 210\n",
    "train_data = TimeSeries.from_pd(tesla_mv[:-test_size])\n",
    "test_data  = TimeSeries.from_pd(tesla_mv[-test_size:])\n",
    "print(f\"{len(train_data)} points in train split, \"\n",
    "      f\"{len(test_data)} points in test split.\")\n",
    "print(f\"Time series is {train_data.dim}-dimensional\")\n",
    "\n",
    "from merlion.evaluate.forecast import ForecastEvaluator, ForecastEvaluatorConfig\n",
    "\n",
    "target_seq_index = 0\n",
    "max_forecast_steps = 70\n",
    "kwargs = dict(target_seq_index=target_seq_index, max_forecast_steps=max_forecast_steps)\n",
    "\n",
    "model1 = ModelFactory.create(\"DefaultForecaster\", **kwargs)\n",
    "model2 = ModelFactory.create(\"Arima\", **kwargs)\n",
    "\n",
    "for model in [model1, model2]:\n",
    "    print(f\"{type(model).__name__} Sliding Window Evaluation\")\n",
    "    evaluator = ForecastEvaluator(model=model, config=ForecastEvaluatorConfig(\n",
    "        horizon=\"3d\", cadence=\"1d\", retrain_freq=None))\n",
    "    train_result, test_pred = evaluator.get_predict(train_vals=train_data, test_vals=test_data)\n",
    "    rmse = evaluator.evaluate(ground_truth=test_data, predict=test_pred, metric=ForecastMetric.RMSE)\n",
    "    smape = evaluator.evaluate(ground_truth=test_data, predict=test_pred, metric=ForecastMetric.sMAPE)\n",
    "    mae = evaluator.evaluate(ground_truth=test_data, predict=test_pred, metric=ForecastMetric.MAE)\n",
    "    print(f\"RMSE:  {rmse:.4f}\")\n",
    "    print(f\"sMAPE: {smape:.4f}\")\n",
    "    print(f\"MAE:   {mae:.4f}\")\n",
    "    print()"
   ]
  },
  {
   "cell_type": "markdown",
   "id": "79ed3499",
   "metadata": {},
   "source": [
    "# 3 day close only"
   ]
  },
  {
   "cell_type": "code",
   "execution_count": 14,
   "id": "9a5d1e37",
   "metadata": {
    "ExecuteTime": {
     "end_time": "2022-03-10T05:03:46.099080Z",
     "start_time": "2022-03-10T05:03:27.430668Z"
    }
   },
   "outputs": [
    {
     "name": "stdout",
     "output_type": "stream",
     "text": [
      "836 points in train split, 210 points in test split.\n",
      "Time series is 1-dimensional\n",
      "DefaultForecaster Sliding Window Evaluation\n"
     ]
    },
    {
     "name": "stderr",
     "output_type": "stream",
     "text": [
      "ForecastEvaluator: 100%|██████████| 18057600/18057600 [00:10<00:00, 1771391.62it/s]\n"
     ]
    },
    {
     "name": "stdout",
     "output_type": "stream",
     "text": [
      "RMSE:  17.8265\n",
      "sMAPE: 4.2470\n",
      "MAE:   14.0074\n",
      "\n",
      "Arima Sliding Window Evaluation\n"
     ]
    },
    {
     "name": "stderr",
     "output_type": "stream",
     "text": [
      "ForecastEvaluator: 100%|██████████| 18057600/18057600 [00:06<00:00, 2755326.06it/s]\n"
     ]
    },
    {
     "name": "stdout",
     "output_type": "stream",
     "text": [
      "RMSE:  13.1725\n",
      "sMAPE: 3.0415\n",
      "MAE:   10.0673\n",
      "\n"
     ]
    }
   ],
   "source": [
    "tesla = pd.read_csv('~/cpt1/bdcc/final_project/GDELTS/netflix_completed.csv')\n",
    "tesla['Date'] = pd.date_range(tesla['Date'][0], periods=tesla.shape[0], freq='D')\n",
    "tesla.set_index('Date', inplace=True)\n",
    "\n",
    "tesla_mv = tesla[['Close']]\n",
    "\n",
    "test_size = 210\n",
    "train_data = TimeSeries.from_pd(tesla_mv[:-test_size])\n",
    "test_data  = TimeSeries.from_pd(tesla_mv[-test_size:])\n",
    "print(f\"{len(train_data)} points in train split, \"\n",
    "      f\"{len(test_data)} points in test split.\")\n",
    "print(f\"Time series is {train_data.dim}-dimensional\")\n",
    "\n",
    "from merlion.evaluate.forecast import ForecastEvaluator, ForecastEvaluatorConfig\n",
    "\n",
    "target_seq_index = 0\n",
    "max_forecast_steps = 210\n",
    "kwargs = dict(target_seq_index=target_seq_index, max_forecast_steps=max_forecast_steps)\n",
    "\n",
    "model1 = ModelFactory.create(\"DefaultForecaster\", **kwargs)\n",
    "model2 = ModelFactory.create(\"Arima\", **kwargs)\n",
    "\n",
    "for model in [model1, model2]:\n",
    "    print(f\"{type(model).__name__} Sliding Window Evaluation\")\n",
    "    evaluator = ForecastEvaluator(model=model, config=ForecastEvaluatorConfig(\n",
    "        horizon=\"1d\", cadence=\"1d\", retrain_freq=None))\n",
    "    train_result, test_pred = evaluator.get_predict(train_vals=train_data, test_vals=test_data)\n",
    "    rmse = evaluator.evaluate(ground_truth=test_data, predict=test_pred, metric=ForecastMetric.RMSE)\n",
    "    smape = evaluator.evaluate(ground_truth=test_data, predict=test_pred, metric=ForecastMetric.sMAPE)\n",
    "    mae = evaluator.evaluate(ground_truth=test_data, predict=test_pred, metric=ForecastMetric.MAE)\n",
    "    print(f\"RMSE:  {rmse:.4f}\")\n",
    "    print(f\"sMAPE: {smape:.4f}\")\n",
    "    print(f\"MAE:   {mae:.4f}\")\n",
    "    print()"
   ]
  },
  {
   "cell_type": "markdown",
   "id": "c672574a",
   "metadata": {},
   "source": [
    "# 5 day close and tone"
   ]
  },
  {
   "cell_type": "code",
   "execution_count": 15,
   "id": "62c25bdd",
   "metadata": {
    "ExecuteTime": {
     "end_time": "2022-03-10T05:05:51.437236Z",
     "start_time": "2022-03-10T05:03:46.100920Z"
    },
    "scrolled": true
   },
   "outputs": [
    {
     "name": "stdout",
     "output_type": "stream",
     "text": [
      "836 points in train split, 210 points in test split.\n",
      "Time series is 2-dimensional\n",
      "DefaultForecaster Sliding Window Evaluation\n"
     ]
    },
    {
     "name": "stderr",
     "output_type": "stream",
     "text": [
      "ForecastEvaluator: 100%|██████████| 18057600/18057600 [01:22<00:00, 218007.39it/s]\n"
     ]
    },
    {
     "name": "stdout",
     "output_type": "stream",
     "text": [
      "RMSE:  20.5215\n",
      "sMAPE: 5.6475\n",
      "MAE:   18.9982\n",
      "\n",
      "Arima Sliding Window Evaluation\n"
     ]
    },
    {
     "name": "stderr",
     "output_type": "stream",
     "text": [
      "ForecastEvaluator: 100%|██████████| 18057600/18057600 [00:07<00:00, 2326532.68it/s]\n"
     ]
    },
    {
     "name": "stdout",
     "output_type": "stream",
     "text": [
      "RMSE:  14.2670\n",
      "sMAPE: 3.7825\n",
      "MAE:   12.5240\n",
      "\n"
     ]
    }
   ],
   "source": [
    "tesla = pd.read_csv('~/cpt1/bdcc/final_project/GDELTS/netflix_completed.csv')\n",
    "tesla['Date'] = pd.date_range(tesla['Date'][0], periods=tesla.shape[0], freq='D')\n",
    "tesla.set_index('Date', inplace=True)\n",
    "\n",
    "tesla_mv = tesla[['Close', 'Daily Average Tone']]\n",
    "\n",
    "tesla_mv\n",
    "\n",
    "test_size = 210\n",
    "train_data = TimeSeries.from_pd(tesla_mv[:-test_size])\n",
    "test_data  = TimeSeries.from_pd(tesla_mv[-test_size:])\n",
    "print(f\"{len(train_data)} points in train split, \"\n",
    "      f\"{len(test_data)} points in test split.\")\n",
    "print(f\"Time series is {train_data.dim}-dimensional\")\n",
    "\n",
    "from merlion.evaluate.forecast import ForecastEvaluator, ForecastEvaluatorConfig\n",
    "\n",
    "target_seq_index = 0\n",
    "max_forecast_steps = 42\n",
    "kwargs = dict(target_seq_index=target_seq_index, max_forecast_steps=max_forecast_steps)\n",
    "\n",
    "model1 = ModelFactory.create(\"DefaultForecaster\", **kwargs)\n",
    "model2 = ModelFactory.create(\"Arima\", **kwargs)\n",
    "\n",
    "for model in [model1, model2]:\n",
    "    print(f\"{type(model).__name__} Sliding Window Evaluation\")\n",
    "    evaluator = ForecastEvaluator(model=model, config=ForecastEvaluatorConfig(\n",
    "        horizon=\"5d\", cadence=\"1d\", retrain_freq=None))\n",
    "    train_result, test_pred = evaluator.get_predict(train_vals=train_data, test_vals=test_data)\n",
    "    rmse = evaluator.evaluate(ground_truth=test_data, predict=test_pred, metric=ForecastMetric.RMSE)\n",
    "    smape = evaluator.evaluate(ground_truth=test_data, predict=test_pred, metric=ForecastMetric.sMAPE)\n",
    "    mae = evaluator.evaluate(ground_truth=test_data, predict=test_pred, metric=ForecastMetric.MAE)\n",
    "    print(f\"RMSE:  {rmse:.4f}\")\n",
    "    print(f\"sMAPE: {smape:.4f}\")\n",
    "    print(f\"MAE:   {mae:.4f}\")\n",
    "    print()"
   ]
  },
  {
   "cell_type": "markdown",
   "id": "ffbfdbb2",
   "metadata": {},
   "source": [
    "# 5 day close only"
   ]
  },
  {
   "cell_type": "code",
   "execution_count": 16,
   "id": "65ff7640",
   "metadata": {
    "ExecuteTime": {
     "end_time": "2022-03-10T05:06:19.427056Z",
     "start_time": "2022-03-10T05:05:51.440415Z"
    }
   },
   "outputs": [
    {
     "name": "stdout",
     "output_type": "stream",
     "text": [
      "836 points in train split, 210 points in test split.\n",
      "Time series is 1-dimensional\n",
      "DefaultForecaster Sliding Window Evaluation\n"
     ]
    },
    {
     "name": "stderr",
     "output_type": "stream",
     "text": [
      "ForecastEvaluator: 100%|██████████| 18057600/18057600 [00:10<00:00, 1767132.79it/s]\n"
     ]
    },
    {
     "name": "stdout",
     "output_type": "stream",
     "text": [
      "RMSE:  18.6823\n",
      "sMAPE: 5.1139\n",
      "MAE:   16.8672\n",
      "\n",
      "Arima Sliding Window Evaluation\n"
     ]
    },
    {
     "name": "stderr",
     "output_type": "stream",
     "text": [
      "ForecastEvaluator: 100%|██████████| 18057600/18057600 [00:06<00:00, 2694690.94it/s]\n"
     ]
    },
    {
     "name": "stdout",
     "output_type": "stream",
     "text": [
      "RMSE:  14.2670\n",
      "sMAPE: 3.7825\n",
      "MAE:   12.5240\n",
      "\n"
     ]
    }
   ],
   "source": [
    "tesla = pd.read_csv('~/cpt1/bdcc/final_project/GDELTS/netflix_completed.csv')\n",
    "tesla['Date'] = pd.date_range(tesla['Date'][0], periods=tesla.shape[0], freq='D')\n",
    "tesla.set_index('Date', inplace=True)\n",
    "\n",
    "tesla_mv = tesla[['Close']]\n",
    "\n",
    "test_size = 210\n",
    "train_data = TimeSeries.from_pd(tesla_mv[:-test_size])\n",
    "test_data  = TimeSeries.from_pd(tesla_mv[-test_size:])\n",
    "print(f\"{len(train_data)} points in train split, \"\n",
    "      f\"{len(test_data)} points in test split.\")\n",
    "print(f\"Time series is {train_data.dim}-dimensional\")\n",
    "\n",
    "from merlion.evaluate.forecast import ForecastEvaluator, ForecastEvaluatorConfig\n",
    "\n",
    "target_seq_index = 0\n",
    "max_forecast_steps = 42\n",
    "kwargs = dict(target_seq_index=target_seq_index, max_forecast_steps=max_forecast_steps)\n",
    "\n",
    "model1 = ModelFactory.create(\"DefaultForecaster\", **kwargs)\n",
    "model2 = ModelFactory.create(\"Arima\", **kwargs)\n",
    "\n",
    "for model in [model1, model2]:\n",
    "    print(f\"{type(model).__name__} Sliding Window Evaluation\")\n",
    "    evaluator = ForecastEvaluator(model=model, config=ForecastEvaluatorConfig(\n",
    "        horizon=\"5d\", cadence=\"1d\", retrain_freq=None))\n",
    "    train_result, test_pred = evaluator.get_predict(train_vals=train_data, test_vals=test_data)\n",
    "    rmse = evaluator.evaluate(ground_truth=test_data, predict=test_pred, metric=ForecastMetric.RMSE)\n",
    "    smape = evaluator.evaluate(ground_truth=test_data, predict=test_pred, metric=ForecastMetric.sMAPE)\n",
    "    mae = evaluator.evaluate(ground_truth=test_data, predict=test_pred, metric=ForecastMetric.MAE)\n",
    "    print(f\"RMSE:  {rmse:.4f}\")\n",
    "    print(f\"sMAPE: {smape:.4f}\")\n",
    "    print(f\"MAE:   {mae:.4f}\")\n",
    "    print()"
   ]
  },
  {
   "cell_type": "code",
   "execution_count": null,
   "id": "629fc43e",
   "metadata": {},
   "outputs": [],
   "source": []
  },
  {
   "cell_type": "code",
   "execution_count": null,
   "id": "4f058687",
   "metadata": {},
   "outputs": [],
   "source": []
  },
  {
   "cell_type": "code",
   "execution_count": null,
   "id": "ff82acb4",
   "metadata": {},
   "outputs": [],
   "source": []
  }
 ],
 "metadata": {
  "kernelspec": {
   "display_name": "Python [conda env:.conda-v-env]",
   "language": "python",
   "name": "conda-env-.conda-v-env-py"
  },
  "language_info": {
   "codemirror_mode": {
    "name": "ipython",
    "version": 3
   },
   "file_extension": ".py",
   "mimetype": "text/x-python",
   "name": "python",
   "nbconvert_exporter": "python",
   "pygments_lexer": "ipython3",
   "version": "3.8.12"
  },
  "toc": {
   "base_numbering": 1,
   "nav_menu": {},
   "number_sections": true,
   "sideBar": true,
   "skip_h1_title": false,
   "title_cell": "Table of Contents",
   "title_sidebar": "Contents",
   "toc_cell": false,
   "toc_position": {},
   "toc_section_display": true,
   "toc_window_display": false
  }
 },
 "nbformat": 4,
 "nbformat_minor": 5
}
