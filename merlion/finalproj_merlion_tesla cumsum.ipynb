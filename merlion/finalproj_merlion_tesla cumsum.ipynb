{
 "cells": [
  {
   "cell_type": "markdown",
   "id": "6087abcd",
   "metadata": {},
   "source": [
    "In order to run this notebook, the following environment and packages had to be installed:\n",
    "\n",
    "$ conda create -n v-env python=3.8\n",
    "\n",
    "activate v-env\n",
    "\n",
    "conda activate v-env\n",
    "\n",
    "conda config --set channel_priority false\n",
    "\n",
    "conda install -c conda-forge prophet\n",
    "\n",
    "pip install salesforce-merlion\n",
    "\n",
    "pip install pingouin\n",
    "\n",
    "pip install PyYAML\n",
    "\n",
    "pip install SQLAlchemy\n",
    "\n",
    "pip install ipykernel\n",
    "\n",
    "pip install jinja2\n",
    "\n",
    "pip install sfc-merlion[plot]\n",
    "\n",
    "pip install -e ts_datasets/\n",
    "\n",
    "conda install -e ts_datasets/\n",
    "\n",
    "conda install -c conda-forge lightgbm\n",
    "\n",
    "conda activate v-env\n",
    "\n",
    "pip install -e ts_datasets/\n",
    "\n",
    "pip intall -e ./Merlion/ts_dataset/"
   ]
  },
  {
   "cell_type": "code",
   "execution_count": 1,
   "id": "9baee9bc",
   "metadata": {
    "ExecuteTime": {
     "end_time": "2022-03-10T05:18:31.321547Z",
     "start_time": "2022-03-10T05:18:26.288526Z"
    }
   },
   "outputs": [
    {
     "name": "stderr",
     "output_type": "stream",
     "text": [
      "Matplotlib created a temporary config/cache directory at /tmp/matplotlib-_ppww3by because the default path (/home/mpingol/.cache/matplotlib) is not a writable directory; it is highly recommended to set the MPLCONFIGDIR environment variable to a writable directory, in particular to speed up the import of Matplotlib and to better support multiprocessing.\n"
     ]
    }
   ],
   "source": [
    "import matplotlib.pyplot as plt\n",
    "import numpy as np\n",
    "import pandas as pd\n",
    "\n",
    "from scipy.stats import norm\n",
    "\n",
    "#from ts_datasets.anomaly import NAB\n",
    "#from ts_datasets.forecast import M4\n",
    "\n",
    "#from merlion.plot import plot_anoms\n",
    "from merlion.utils import TimeSeries\n",
    "from merlion.utils.time_series import TimeSeries\n",
    "\n",
    "from merlion.transform.base import Identity\n",
    "from merlion.transform.resample import TemporalResample\n",
    "from merlion.transform.moving_average import DifferenceTransform\n",
    "\n",
    "from merlion.models.defaults import DefaultDetectorConfig, DefaultDetector\n",
    "#from merlion.models.anomaly.isolation_forest import IsolationForest, IsolationForestConfig\n",
    "#from merlion.models.anomaly.windstats import WindStats, WindStatsConfig\n",
    "#from merlion.models.anomaly.forecast_based.prophet import ProphetDetector, ProphetDetectorConfig\n",
    "\n",
    "from merlion.models.forecast.arima import Arima, ArimaConfig\n",
    "from merlion.models.forecast.prophet import Prophet, ProphetConfig\n",
    "from merlion.models.forecast.smoother import MSES, MSESConfig\n",
    "\n",
    "#from merlion.models.ensemble.anomaly import DetectorEnsemble, DetectorEnsembleConfig\n",
    "from merlion.models.defaults import DefaultForecasterConfig, DefaultForecaster\n",
    "from merlion.models.ensemble.combine import Mean, ModelSelector\n",
    "from merlion.models.ensemble.forecast import ForecasterEnsemble, ForecasterEnsembleConfig\n",
    "\n",
    "#from merlion.evaluate.anomaly import TSADMetric\n",
    "from merlion.post_process.threshold import AggregateAlarms\n",
    "from merlion.evaluate.forecast import ForecastMetric"
   ]
  },
  {
   "cell_type": "code",
   "execution_count": 2,
   "id": "0c4da042",
   "metadata": {
    "ExecuteTime": {
     "end_time": "2022-03-10T05:18:31.330574Z",
     "start_time": "2022-03-10T05:18:31.325410Z"
    }
   },
   "outputs": [],
   "source": [
    "from merlion.evaluate.forecast import ForecastMetric\n",
    "from merlion.models.factory import ModelFactory\n",
    "from merlion.models.ensemble.combine import ModelSelector"
   ]
  },
  {
   "cell_type": "code",
   "execution_count": 3,
   "id": "7845446e",
   "metadata": {
    "ExecuteTime": {
     "end_time": "2022-03-10T05:18:54.971488Z",
     "start_time": "2022-03-10T05:18:54.965497Z"
    }
   },
   "outputs": [],
   "source": [
    "fpath = '~/cpt1/bdcc/final_project/GDELTS/tesla_cumsum_completed.csv'"
   ]
  },
  {
   "cell_type": "markdown",
   "id": "4285c92a",
   "metadata": {},
   "source": [
    "# 1 Day Close and Tone "
   ]
  },
  {
   "cell_type": "code",
   "execution_count": 4,
   "id": "717438a6",
   "metadata": {
    "ExecuteTime": {
     "end_time": "2022-03-10T05:18:59.347337Z",
     "start_time": "2022-03-10T05:18:59.308790Z"
    }
   },
   "outputs": [],
   "source": [
    "tesla = pd.read_csv(fpath)\n",
    "tesla['Date'] = pd.date_range(tesla['Date'][0], periods=tesla.shape[0], freq='D')\n",
    "tesla.set_index('Date', inplace=True)"
   ]
  },
  {
   "cell_type": "code",
   "execution_count": 5,
   "id": "ffef3f0c",
   "metadata": {
    "ExecuteTime": {
     "end_time": "2022-03-10T05:18:59.594386Z",
     "start_time": "2022-03-10T05:18:59.584866Z"
    }
   },
   "outputs": [],
   "source": [
    "tesla_mv = tesla[['Close', 'Daily Average Tone']]"
   ]
  },
  {
   "cell_type": "code",
   "execution_count": 6,
   "id": "4f6a2e46",
   "metadata": {
    "ExecuteTime": {
     "end_time": "2022-03-10T05:18:59.817739Z",
     "start_time": "2022-03-10T05:18:59.786259Z"
    }
   },
   "outputs": [
    {
     "data": {
      "text/html": [
       "<div>\n",
       "<style scoped>\n",
       "    .dataframe tbody tr th:only-of-type {\n",
       "        vertical-align: middle;\n",
       "    }\n",
       "\n",
       "    .dataframe tbody tr th {\n",
       "        vertical-align: top;\n",
       "    }\n",
       "\n",
       "    .dataframe thead th {\n",
       "        text-align: right;\n",
       "    }\n",
       "</style>\n",
       "<table border=\"1\" class=\"dataframe\">\n",
       "  <thead>\n",
       "    <tr style=\"text-align: right;\">\n",
       "      <th></th>\n",
       "      <th>Close</th>\n",
       "      <th>Daily Average Tone</th>\n",
       "    </tr>\n",
       "    <tr>\n",
       "      <th>Date</th>\n",
       "      <th></th>\n",
       "      <th></th>\n",
       "    </tr>\n",
       "  </thead>\n",
       "  <tbody>\n",
       "    <tr>\n",
       "      <th>2015-02-18</th>\n",
       "      <td>40.891998</td>\n",
       "      <td>6.000000</td>\n",
       "    </tr>\n",
       "    <tr>\n",
       "      <th>2015-02-19</th>\n",
       "      <td>42.341999</td>\n",
       "      <td>2.450000</td>\n",
       "    </tr>\n",
       "    <tr>\n",
       "      <th>2015-02-20</th>\n",
       "      <td>43.422001</td>\n",
       "      <td>3.456522</td>\n",
       "    </tr>\n",
       "    <tr>\n",
       "      <th>2015-02-21</th>\n",
       "      <td>41.467999</td>\n",
       "      <td>1.727273</td>\n",
       "    </tr>\n",
       "    <tr>\n",
       "      <th>2015-02-22</th>\n",
       "      <td>40.821999</td>\n",
       "      <td>33.813953</td>\n",
       "    </tr>\n",
       "    <tr>\n",
       "      <th>...</th>\n",
       "      <td>...</td>\n",
       "      <td>...</td>\n",
       "    </tr>\n",
       "    <tr>\n",
       "      <th>2017-12-25</th>\n",
       "      <td>55.212002</td>\n",
       "      <td>13.833333</td>\n",
       "    </tr>\n",
       "    <tr>\n",
       "      <th>2017-12-26</th>\n",
       "      <td>53.683998</td>\n",
       "      <td>-73.681034</td>\n",
       "    </tr>\n",
       "    <tr>\n",
       "      <th>2017-12-27</th>\n",
       "      <td>53.540001</td>\n",
       "      <td>-10.356322</td>\n",
       "    </tr>\n",
       "    <tr>\n",
       "      <th>2017-12-28</th>\n",
       "      <td>53.276001</td>\n",
       "      <td>-17.925000</td>\n",
       "    </tr>\n",
       "    <tr>\n",
       "      <th>2017-12-29</th>\n",
       "      <td>54.672001</td>\n",
       "      <td>-15.703704</td>\n",
       "    </tr>\n",
       "  </tbody>\n",
       "</table>\n",
       "<p>1046 rows × 2 columns</p>\n",
       "</div>"
      ],
      "text/plain": [
       "                Close  Daily Average Tone\n",
       "Date                                     \n",
       "2015-02-18  40.891998            6.000000\n",
       "2015-02-19  42.341999            2.450000\n",
       "2015-02-20  43.422001            3.456522\n",
       "2015-02-21  41.467999            1.727273\n",
       "2015-02-22  40.821999           33.813953\n",
       "...               ...                 ...\n",
       "2017-12-25  55.212002           13.833333\n",
       "2017-12-26  53.683998          -73.681034\n",
       "2017-12-27  53.540001          -10.356322\n",
       "2017-12-28  53.276001          -17.925000\n",
       "2017-12-29  54.672001          -15.703704\n",
       "\n",
       "[1046 rows x 2 columns]"
      ]
     },
     "execution_count": 6,
     "metadata": {},
     "output_type": "execute_result"
    }
   ],
   "source": [
    "tesla_mv"
   ]
  },
  {
   "cell_type": "code",
   "execution_count": 7,
   "id": "188954dc",
   "metadata": {
    "ExecuteTime": {
     "end_time": "2022-03-10T05:19:00.761377Z",
     "start_time": "2022-03-10T05:19:00.736375Z"
    }
   },
   "outputs": [
    {
     "name": "stdout",
     "output_type": "stream",
     "text": [
      "836 points in train split, 210 points in test split.\n",
      "Time series is 2-dimensional\n"
     ]
    }
   ],
   "source": [
    "test_size = 210\n",
    "train_data = TimeSeries.from_pd(tesla_mv[:-test_size])\n",
    "test_data  = TimeSeries.from_pd(tesla_mv[-test_size:])\n",
    "print(f\"{len(train_data)} points in train split, \"\n",
    "      f\"{len(test_data)} points in test split.\")\n",
    "print(f\"Time series is {train_data.dim}-dimensional\")"
   ]
  },
  {
   "cell_type": "code",
   "execution_count": 8,
   "id": "bd0fadf2",
   "metadata": {
    "ExecuteTime": {
     "end_time": "2022-03-10T05:20:58.490679Z",
     "start_time": "2022-03-10T05:19:02.151455Z"
    },
    "scrolled": true
   },
   "outputs": [
    {
     "name": "stdout",
     "output_type": "stream",
     "text": [
      "DefaultForecaster Sliding Window Evaluation\n"
     ]
    },
    {
     "name": "stderr",
     "output_type": "stream",
     "text": [
      "ForecastEvaluator: 100%|██████████| 18057600/18057600 [00:58<00:00, 309312.47it/s]\n"
     ]
    },
    {
     "name": "stdout",
     "output_type": "stream",
     "text": [
      "RMSE:  3.2505\n",
      "sMAPE: 3.8860\n",
      "MAE:   2.4263\n",
      "\n",
      "Arima Sliding Window Evaluation\n"
     ]
    },
    {
     "name": "stderr",
     "output_type": "stream",
     "text": [
      "ForecastEvaluator: 100%|██████████| 18057600/18057600 [00:07<00:00, 2543332.26it/s]\n"
     ]
    },
    {
     "name": "stdout",
     "output_type": "stream",
     "text": [
      "RMSE:  3.1376\n",
      "sMAPE: 3.8164\n",
      "MAE:   2.3713\n",
      "\n"
     ]
    }
   ],
   "source": [
    "from merlion.evaluate.forecast import ForecastEvaluator, ForecastEvaluatorConfig\n",
    "\n",
    "target_seq_index = 0\n",
    "max_forecast_steps = 210\n",
    "kwargs = dict(target_seq_index=target_seq_index, max_forecast_steps=max_forecast_steps)\n",
    "\n",
    "model1 = ModelFactory.create(\"DefaultForecaster\", **kwargs)\n",
    "model2 = ModelFactory.create(\"Arima\", **kwargs)\n",
    "\n",
    "for model in [model1, model2]:\n",
    "    print(f\"{type(model).__name__} Sliding Window Evaluation\")\n",
    "    evaluator = ForecastEvaluator(model=model, config=ForecastEvaluatorConfig(\n",
    "        horizon=\"1d\", cadence=\"1d\", retrain_freq=None))\n",
    "    train_result, test_pred = evaluator.get_predict(train_vals=train_data, test_vals=test_data)\n",
    "    rmse = evaluator.evaluate(ground_truth=test_data, predict=test_pred, metric=ForecastMetric.RMSE)\n",
    "    smape = evaluator.evaluate(ground_truth=test_data, predict=test_pred, metric=ForecastMetric.sMAPE)\n",
    "    mae = evaluator.evaluate(ground_truth=test_data, predict=test_pred, metric=ForecastMetric.MAE)\n",
    "    print(f\"RMSE:  {rmse:.4f}\")\n",
    "    print(f\"sMAPE: {smape:.4f}\")\n",
    "    print(f\"MAE:   {mae:.4f}\")\n",
    "    print()"
   ]
  },
  {
   "cell_type": "markdown",
   "id": "ee07c447",
   "metadata": {},
   "source": [
    "# 1 Day Close Only"
   ]
  },
  {
   "cell_type": "code",
   "execution_count": 9,
   "id": "cdfe7c2c",
   "metadata": {
    "ExecuteTime": {
     "end_time": "2022-03-10T05:20:58.508348Z",
     "start_time": "2022-03-10T05:20:58.493590Z"
    }
   },
   "outputs": [],
   "source": [
    "tesla = pd.read_csv(fpath)\n",
    "tesla['Date'] = pd.date_range(tesla['Date'][0], periods=tesla.shape[0], freq='D')\n",
    "tesla.set_index('Date', inplace=True)"
   ]
  },
  {
   "cell_type": "code",
   "execution_count": 10,
   "id": "be16ef6b",
   "metadata": {
    "ExecuteTime": {
     "end_time": "2022-03-10T05:20:58.514996Z",
     "start_time": "2022-03-10T05:20:58.510670Z"
    }
   },
   "outputs": [],
   "source": [
    "tesla_mv = tesla[['Close']]"
   ]
  },
  {
   "cell_type": "code",
   "execution_count": 11,
   "id": "8a5a3070",
   "metadata": {
    "ExecuteTime": {
     "end_time": "2022-03-10T05:20:58.526932Z",
     "start_time": "2022-03-10T05:20:58.517100Z"
    }
   },
   "outputs": [
    {
     "data": {
      "text/html": [
       "<div>\n",
       "<style scoped>\n",
       "    .dataframe tbody tr th:only-of-type {\n",
       "        vertical-align: middle;\n",
       "    }\n",
       "\n",
       "    .dataframe tbody tr th {\n",
       "        vertical-align: top;\n",
       "    }\n",
       "\n",
       "    .dataframe thead th {\n",
       "        text-align: right;\n",
       "    }\n",
       "</style>\n",
       "<table border=\"1\" class=\"dataframe\">\n",
       "  <thead>\n",
       "    <tr style=\"text-align: right;\">\n",
       "      <th></th>\n",
       "      <th>Close</th>\n",
       "    </tr>\n",
       "    <tr>\n",
       "      <th>Date</th>\n",
       "      <th></th>\n",
       "    </tr>\n",
       "  </thead>\n",
       "  <tbody>\n",
       "    <tr>\n",
       "      <th>2015-02-18</th>\n",
       "      <td>40.891998</td>\n",
       "    </tr>\n",
       "    <tr>\n",
       "      <th>2015-02-19</th>\n",
       "      <td>42.341999</td>\n",
       "    </tr>\n",
       "    <tr>\n",
       "      <th>2015-02-20</th>\n",
       "      <td>43.422001</td>\n",
       "    </tr>\n",
       "    <tr>\n",
       "      <th>2015-02-21</th>\n",
       "      <td>41.467999</td>\n",
       "    </tr>\n",
       "    <tr>\n",
       "      <th>2015-02-22</th>\n",
       "      <td>40.821999</td>\n",
       "    </tr>\n",
       "    <tr>\n",
       "      <th>...</th>\n",
       "      <td>...</td>\n",
       "    </tr>\n",
       "    <tr>\n",
       "      <th>2017-12-25</th>\n",
       "      <td>55.212002</td>\n",
       "    </tr>\n",
       "    <tr>\n",
       "      <th>2017-12-26</th>\n",
       "      <td>53.683998</td>\n",
       "    </tr>\n",
       "    <tr>\n",
       "      <th>2017-12-27</th>\n",
       "      <td>53.540001</td>\n",
       "    </tr>\n",
       "    <tr>\n",
       "      <th>2017-12-28</th>\n",
       "      <td>53.276001</td>\n",
       "    </tr>\n",
       "    <tr>\n",
       "      <th>2017-12-29</th>\n",
       "      <td>54.672001</td>\n",
       "    </tr>\n",
       "  </tbody>\n",
       "</table>\n",
       "<p>1046 rows × 1 columns</p>\n",
       "</div>"
      ],
      "text/plain": [
       "                Close\n",
       "Date                 \n",
       "2015-02-18  40.891998\n",
       "2015-02-19  42.341999\n",
       "2015-02-20  43.422001\n",
       "2015-02-21  41.467999\n",
       "2015-02-22  40.821999\n",
       "...               ...\n",
       "2017-12-25  55.212002\n",
       "2017-12-26  53.683998\n",
       "2017-12-27  53.540001\n",
       "2017-12-28  53.276001\n",
       "2017-12-29  54.672001\n",
       "\n",
       "[1046 rows x 1 columns]"
      ]
     },
     "execution_count": 11,
     "metadata": {},
     "output_type": "execute_result"
    }
   ],
   "source": [
    "tesla_mv"
   ]
  },
  {
   "cell_type": "code",
   "execution_count": 12,
   "id": "36339058",
   "metadata": {
    "ExecuteTime": {
     "end_time": "2022-03-10T05:20:58.537591Z",
     "start_time": "2022-03-10T05:20:58.528801Z"
    }
   },
   "outputs": [
    {
     "name": "stdout",
     "output_type": "stream",
     "text": [
      "836 points in train split, 210 points in test split.\n",
      "Time series is 1-dimensional\n"
     ]
    }
   ],
   "source": [
    "test_size = 210\n",
    "train_data = TimeSeries.from_pd(tesla_mv[:-test_size])\n",
    "test_data  = TimeSeries.from_pd(tesla_mv[-test_size:])\n",
    "print(f\"{len(train_data)} points in train split, \"\n",
    "      f\"{len(test_data)} points in test split.\")\n",
    "print(f\"Time series is {train_data.dim}-dimensional\")"
   ]
  },
  {
   "cell_type": "code",
   "execution_count": 13,
   "id": "2902ef7e",
   "metadata": {
    "ExecuteTime": {
     "end_time": "2022-03-10T05:21:15.316150Z",
     "start_time": "2022-03-10T05:20:58.539515Z"
    }
   },
   "outputs": [
    {
     "name": "stdout",
     "output_type": "stream",
     "text": [
      "DefaultForecaster Sliding Window Evaluation\n"
     ]
    },
    {
     "name": "stderr",
     "output_type": "stream",
     "text": [
      "ForecastEvaluator: 100%|██████████| 18057600/18057600 [00:09<00:00, 1941656.87it/s]\n"
     ]
    },
    {
     "name": "stdout",
     "output_type": "stream",
     "text": [
      "RMSE:  3.7953\n",
      "sMAPE: 4.7340\n",
      "MAE:   2.9484\n",
      "\n",
      "Arima Sliding Window Evaluation\n"
     ]
    },
    {
     "name": "stderr",
     "output_type": "stream",
     "text": [
      "ForecastEvaluator: 100%|██████████| 18057600/18057600 [00:06<00:00, 2850034.76it/s]\n"
     ]
    },
    {
     "name": "stdout",
     "output_type": "stream",
     "text": [
      "RMSE:  3.1376\n",
      "sMAPE: 3.8164\n",
      "MAE:   2.3713\n",
      "\n"
     ]
    }
   ],
   "source": [
    "from merlion.evaluate.forecast import ForecastEvaluator, ForecastEvaluatorConfig\n",
    "\n",
    "target_seq_index = 0\n",
    "max_forecast_steps = 210\n",
    "kwargs = dict(target_seq_index=target_seq_index, max_forecast_steps=max_forecast_steps)\n",
    "\n",
    "model1 = ModelFactory.create(\"DefaultForecaster\", **kwargs)\n",
    "model2 = ModelFactory.create(\"Arima\", **kwargs)\n",
    "\n",
    "for model in [model1, model2]:\n",
    "    print(f\"{type(model).__name__} Sliding Window Evaluation\")\n",
    "    evaluator = ForecastEvaluator(model=model, config=ForecastEvaluatorConfig(\n",
    "        horizon=\"1d\", cadence=\"1d\", retrain_freq=None))\n",
    "    train_result, test_pred = evaluator.get_predict(train_vals=train_data, test_vals=test_data)\n",
    "    rmse = evaluator.evaluate(ground_truth=test_data, predict=test_pred, metric=ForecastMetric.RMSE)\n",
    "    smape = evaluator.evaluate(ground_truth=test_data, predict=test_pred, metric=ForecastMetric.sMAPE)\n",
    "    mae = evaluator.evaluate(ground_truth=test_data, predict=test_pred, metric=ForecastMetric.MAE)\n",
    "    print(f\"RMSE:  {rmse:.4f}\")\n",
    "    print(f\"sMAPE: {smape:.4f}\")\n",
    "    print(f\"MAE:   {mae:.4f}\")\n",
    "    print()"
   ]
  },
  {
   "cell_type": "markdown",
   "id": "eb747aff",
   "metadata": {},
   "source": [
    "# 3 day close and tone"
   ]
  },
  {
   "cell_type": "code",
   "execution_count": 14,
   "id": "cde916d5",
   "metadata": {
    "ExecuteTime": {
     "end_time": "2022-03-10T05:23:14.213643Z",
     "start_time": "2022-03-10T05:21:15.318718Z"
    }
   },
   "outputs": [
    {
     "name": "stdout",
     "output_type": "stream",
     "text": [
      "836 points in train split, 210 points in test split.\n",
      "Time series is 2-dimensional\n",
      "DefaultForecaster Sliding Window Evaluation\n"
     ]
    },
    {
     "name": "stderr",
     "output_type": "stream",
     "text": [
      "ForecastEvaluator: 100%|██████████| 18057600/18057600 [01:07<00:00, 265925.28it/s]\n"
     ]
    },
    {
     "name": "stdout",
     "output_type": "stream",
     "text": [
      "RMSE:  2.6858\n",
      "sMAPE: 3.8640\n",
      "MAE:   2.4115\n",
      "\n",
      "Arima Sliding Window Evaluation\n"
     ]
    },
    {
     "name": "stderr",
     "output_type": "stream",
     "text": [
      "ForecastEvaluator: 100%|██████████| 18057600/18057600 [00:07<00:00, 2407048.88it/s]\n"
     ]
    },
    {
     "name": "stdout",
     "output_type": "stream",
     "text": [
      "RMSE:  2.5661\n",
      "sMAPE: 3.6899\n",
      "MAE:   2.2918\n",
      "\n"
     ]
    }
   ],
   "source": [
    "tesla = pd.read_csv(fpath)\n",
    "tesla['Date'] = pd.date_range(tesla['Date'][0], periods=tesla.shape[0], freq='D')\n",
    "tesla.set_index('Date', inplace=True)\n",
    "\n",
    "tesla_mv = tesla[['Close', 'Daily Average Tone']]\n",
    "\n",
    "tesla_mv\n",
    "\n",
    "test_size = 210\n",
    "train_data = TimeSeries.from_pd(tesla_mv[:-test_size])\n",
    "test_data  = TimeSeries.from_pd(tesla_mv[-test_size:])\n",
    "print(f\"{len(train_data)} points in train split, \"\n",
    "      f\"{len(test_data)} points in test split.\")\n",
    "print(f\"Time series is {train_data.dim}-dimensional\")\n",
    "\n",
    "from merlion.evaluate.forecast import ForecastEvaluator, ForecastEvaluatorConfig\n",
    "\n",
    "target_seq_index = 0\n",
    "max_forecast_steps = 70\n",
    "kwargs = dict(target_seq_index=target_seq_index, max_forecast_steps=max_forecast_steps)\n",
    "\n",
    "model1 = ModelFactory.create(\"DefaultForecaster\", **kwargs)\n",
    "model2 = ModelFactory.create(\"Arima\", **kwargs)\n",
    "\n",
    "for model in [model1, model2]:\n",
    "    print(f\"{type(model).__name__} Sliding Window Evaluation\")\n",
    "    evaluator = ForecastEvaluator(model=model, config=ForecastEvaluatorConfig(\n",
    "        horizon=\"3d\", cadence=\"1d\", retrain_freq=None))\n",
    "    train_result, test_pred = evaluator.get_predict(train_vals=train_data, test_vals=test_data)\n",
    "    rmse = evaluator.evaluate(ground_truth=test_data, predict=test_pred, metric=ForecastMetric.RMSE)\n",
    "    smape = evaluator.evaluate(ground_truth=test_data, predict=test_pred, metric=ForecastMetric.sMAPE)\n",
    "    mae = evaluator.evaluate(ground_truth=test_data, predict=test_pred, metric=ForecastMetric.MAE)\n",
    "    print(f\"RMSE:  {rmse:.4f}\")\n",
    "    print(f\"sMAPE: {smape:.4f}\")\n",
    "    print(f\"MAE:   {mae:.4f}\")\n",
    "    print()"
   ]
  },
  {
   "cell_type": "markdown",
   "id": "79ed3499",
   "metadata": {},
   "source": [
    "# 3 day close only"
   ]
  },
  {
   "cell_type": "code",
   "execution_count": 15,
   "id": "9a5d1e37",
   "metadata": {
    "ExecuteTime": {
     "end_time": "2022-03-10T05:23:31.263049Z",
     "start_time": "2022-03-10T05:23:14.216250Z"
    }
   },
   "outputs": [
    {
     "name": "stdout",
     "output_type": "stream",
     "text": [
      "836 points in train split, 210 points in test split.\n",
      "Time series is 1-dimensional\n",
      "DefaultForecaster Sliding Window Evaluation\n"
     ]
    },
    {
     "name": "stderr",
     "output_type": "stream",
     "text": [
      "ForecastEvaluator: 100%|██████████| 18057600/18057600 [00:09<00:00, 1908150.99it/s]\n"
     ]
    },
    {
     "name": "stdout",
     "output_type": "stream",
     "text": [
      "RMSE:  3.7953\n",
      "sMAPE: 4.7340\n",
      "MAE:   2.9484\n",
      "\n",
      "Arima Sliding Window Evaluation\n"
     ]
    },
    {
     "name": "stderr",
     "output_type": "stream",
     "text": [
      "ForecastEvaluator: 100%|██████████| 18057600/18057600 [00:06<00:00, 2817523.30it/s]\n"
     ]
    },
    {
     "name": "stdout",
     "output_type": "stream",
     "text": [
      "RMSE:  3.1376\n",
      "sMAPE: 3.8164\n",
      "MAE:   2.3713\n",
      "\n"
     ]
    }
   ],
   "source": [
    "tesla = pd.read_csv(fpath)\n",
    "tesla['Date'] = pd.date_range(tesla['Date'][0], periods=tesla.shape[0], freq='D')\n",
    "tesla.set_index('Date', inplace=True)\n",
    "\n",
    "tesla_mv = tesla[['Close']]\n",
    "\n",
    "test_size = 210\n",
    "train_data = TimeSeries.from_pd(tesla_mv[:-test_size])\n",
    "test_data  = TimeSeries.from_pd(tesla_mv[-test_size:])\n",
    "print(f\"{len(train_data)} points in train split, \"\n",
    "      f\"{len(test_data)} points in test split.\")\n",
    "print(f\"Time series is {train_data.dim}-dimensional\")\n",
    "\n",
    "from merlion.evaluate.forecast import ForecastEvaluator, ForecastEvaluatorConfig\n",
    "\n",
    "target_seq_index = 0\n",
    "max_forecast_steps = 210\n",
    "kwargs = dict(target_seq_index=target_seq_index, max_forecast_steps=max_forecast_steps)\n",
    "\n",
    "model1 = ModelFactory.create(\"DefaultForecaster\", **kwargs)\n",
    "model2 = ModelFactory.create(\"Arima\", **kwargs)\n",
    "\n",
    "for model in [model1, model2]:\n",
    "    print(f\"{type(model).__name__} Sliding Window Evaluation\")\n",
    "    evaluator = ForecastEvaluator(model=model, config=ForecastEvaluatorConfig(\n",
    "        horizon=\"1d\", cadence=\"1d\", retrain_freq=None))\n",
    "    train_result, test_pred = evaluator.get_predict(train_vals=train_data, test_vals=test_data)\n",
    "    rmse = evaluator.evaluate(ground_truth=test_data, predict=test_pred, metric=ForecastMetric.RMSE)\n",
    "    smape = evaluator.evaluate(ground_truth=test_data, predict=test_pred, metric=ForecastMetric.sMAPE)\n",
    "    mae = evaluator.evaluate(ground_truth=test_data, predict=test_pred, metric=ForecastMetric.MAE)\n",
    "    print(f\"RMSE:  {rmse:.4f}\")\n",
    "    print(f\"sMAPE: {smape:.4f}\")\n",
    "    print(f\"MAE:   {mae:.4f}\")\n",
    "    print()"
   ]
  },
  {
   "cell_type": "markdown",
   "id": "c672574a",
   "metadata": {},
   "source": [
    "# 5 day close and tone"
   ]
  },
  {
   "cell_type": "code",
   "execution_count": 16,
   "id": "62c25bdd",
   "metadata": {
    "ExecuteTime": {
     "end_time": "2022-03-10T05:25:26.039960Z",
     "start_time": "2022-03-10T05:23:31.266344Z"
    },
    "scrolled": true
   },
   "outputs": [
    {
     "name": "stdout",
     "output_type": "stream",
     "text": [
      "836 points in train split, 210 points in test split.\n",
      "Time series is 2-dimensional\n",
      "DefaultForecaster Sliding Window Evaluation\n"
     ]
    },
    {
     "name": "stderr",
     "output_type": "stream",
     "text": [
      "ForecastEvaluator: 100%|██████████| 18057600/18057600 [01:12<00:00, 249751.39it/s]\n"
     ]
    },
    {
     "name": "stdout",
     "output_type": "stream",
     "text": [
      "RMSE:  3.3858\n",
      "sMAPE: 4.7092\n",
      "MAE:   2.9626\n",
      "\n",
      "Arima Sliding Window Evaluation\n"
     ]
    },
    {
     "name": "stderr",
     "output_type": "stream",
     "text": [
      "ForecastEvaluator: 100%|██████████| 18057600/18057600 [00:08<00:00, 2227549.56it/s]\n"
     ]
    },
    {
     "name": "stdout",
     "output_type": "stream",
     "text": [
      "RMSE:  3.1129\n",
      "sMAPE: 4.3883\n",
      "MAE:   2.7307\n",
      "\n"
     ]
    }
   ],
   "source": [
    "tesla = pd.read_csv(fpath)\n",
    "tesla['Date'] = pd.date_range(tesla['Date'][0], periods=tesla.shape[0], freq='D')\n",
    "tesla.set_index('Date', inplace=True)\n",
    "\n",
    "tesla_mv = tesla[['Close', 'Daily Average Tone']]\n",
    "\n",
    "tesla_mv\n",
    "\n",
    "test_size = 210\n",
    "train_data = TimeSeries.from_pd(tesla_mv[:-test_size])\n",
    "test_data  = TimeSeries.from_pd(tesla_mv[-test_size:])\n",
    "print(f\"{len(train_data)} points in train split, \"\n",
    "      f\"{len(test_data)} points in test split.\")\n",
    "print(f\"Time series is {train_data.dim}-dimensional\")\n",
    "\n",
    "from merlion.evaluate.forecast import ForecastEvaluator, ForecastEvaluatorConfig\n",
    "\n",
    "target_seq_index = 0\n",
    "max_forecast_steps = 42\n",
    "kwargs = dict(target_seq_index=target_seq_index, max_forecast_steps=max_forecast_steps)\n",
    "\n",
    "model1 = ModelFactory.create(\"DefaultForecaster\", **kwargs)\n",
    "model2 = ModelFactory.create(\"Arima\", **kwargs)\n",
    "\n",
    "for model in [model1, model2]:\n",
    "    print(f\"{type(model).__name__} Sliding Window Evaluation\")\n",
    "    evaluator = ForecastEvaluator(model=model, config=ForecastEvaluatorConfig(\n",
    "        horizon=\"5d\", cadence=\"1d\", retrain_freq=None))\n",
    "    train_result, test_pred = evaluator.get_predict(train_vals=train_data, test_vals=test_data)\n",
    "    rmse = evaluator.evaluate(ground_truth=test_data, predict=test_pred, metric=ForecastMetric.RMSE)\n",
    "    smape = evaluator.evaluate(ground_truth=test_data, predict=test_pred, metric=ForecastMetric.sMAPE)\n",
    "    mae = evaluator.evaluate(ground_truth=test_data, predict=test_pred, metric=ForecastMetric.MAE)\n",
    "    print(f\"RMSE:  {rmse:.4f}\")\n",
    "    print(f\"sMAPE: {smape:.4f}\")\n",
    "    print(f\"MAE:   {mae:.4f}\")\n",
    "    print()"
   ]
  },
  {
   "cell_type": "markdown",
   "id": "ffbfdbb2",
   "metadata": {},
   "source": [
    "# 5 day close only"
   ]
  },
  {
   "cell_type": "code",
   "execution_count": 17,
   "id": "65ff7640",
   "metadata": {
    "ExecuteTime": {
     "end_time": "2022-03-10T05:25:52.941347Z",
     "start_time": "2022-03-10T05:25:26.042579Z"
    },
    "scrolled": true
   },
   "outputs": [
    {
     "name": "stdout",
     "output_type": "stream",
     "text": [
      "836 points in train split, 210 points in test split.\n",
      "Time series is 1-dimensional\n",
      "DefaultForecaster Sliding Window Evaluation\n"
     ]
    },
    {
     "name": "stderr",
     "output_type": "stream",
     "text": [
      "ForecastEvaluator: 100%|██████████| 18057600/18057600 [00:09<00:00, 1877157.71it/s]\n"
     ]
    },
    {
     "name": "stdout",
     "output_type": "stream",
     "text": [
      "RMSE:  3.9592\n",
      "sMAPE: 5.6749\n",
      "MAE:   3.5284\n",
      "\n",
      "Arima Sliding Window Evaluation\n"
     ]
    },
    {
     "name": "stderr",
     "output_type": "stream",
     "text": [
      "ForecastEvaluator: 100%|██████████| 18057600/18057600 [00:06<00:00, 2695728.88it/s]\n"
     ]
    },
    {
     "name": "stdout",
     "output_type": "stream",
     "text": [
      "RMSE:  3.1129\n",
      "sMAPE: 4.3883\n",
      "MAE:   2.7307\n",
      "\n"
     ]
    }
   ],
   "source": [
    "tesla = pd.read_csv(fpath)\n",
    "tesla['Date'] = pd.date_range(tesla['Date'][0], periods=tesla.shape[0], freq='D')\n",
    "tesla.set_index('Date', inplace=True)\n",
    "\n",
    "tesla_mv = tesla[['Close']]\n",
    "\n",
    "test_size = 210\n",
    "train_data = TimeSeries.from_pd(tesla_mv[:-test_size])\n",
    "test_data  = TimeSeries.from_pd(tesla_mv[-test_size:])\n",
    "print(f\"{len(train_data)} points in train split, \"\n",
    "      f\"{len(test_data)} points in test split.\")\n",
    "print(f\"Time series is {train_data.dim}-dimensional\")\n",
    "\n",
    "from merlion.evaluate.forecast import ForecastEvaluator, ForecastEvaluatorConfig\n",
    "\n",
    "target_seq_index = 0\n",
    "max_forecast_steps = 42\n",
    "kwargs = dict(target_seq_index=target_seq_index, max_forecast_steps=max_forecast_steps)\n",
    "\n",
    "model1 = ModelFactory.create(\"DefaultForecaster\", **kwargs)\n",
    "model2 = ModelFactory.create(\"Arima\", **kwargs)\n",
    "\n",
    "for model in [model1, model2]:\n",
    "    print(f\"{type(model).__name__} Sliding Window Evaluation\")\n",
    "    evaluator = ForecastEvaluator(model=model, config=ForecastEvaluatorConfig(\n",
    "        horizon=\"5d\", cadence=\"1d\", retrain_freq=None))\n",
    "    train_result, test_pred = evaluator.get_predict(train_vals=train_data, test_vals=test_data)\n",
    "    rmse = evaluator.evaluate(ground_truth=test_data, predict=test_pred, metric=ForecastMetric.RMSE)\n",
    "    smape = evaluator.evaluate(ground_truth=test_data, predict=test_pred, metric=ForecastMetric.sMAPE)\n",
    "    mae = evaluator.evaluate(ground_truth=test_data, predict=test_pred, metric=ForecastMetric.MAE)\n",
    "    print(f\"RMSE:  {rmse:.4f}\")\n",
    "    print(f\"sMAPE: {smape:.4f}\")\n",
    "    print(f\"MAE:   {mae:.4f}\")\n",
    "    print()"
   ]
  },
  {
   "cell_type": "code",
   "execution_count": null,
   "id": "629fc43e",
   "metadata": {},
   "outputs": [],
   "source": []
  },
  {
   "cell_type": "code",
   "execution_count": null,
   "id": "4f058687",
   "metadata": {},
   "outputs": [],
   "source": []
  },
  {
   "cell_type": "code",
   "execution_count": null,
   "id": "ff82acb4",
   "metadata": {},
   "outputs": [],
   "source": []
  }
 ],
 "metadata": {
  "kernelspec": {
   "display_name": "Python [conda env:.conda-v-env]",
   "language": "python",
   "name": "conda-env-.conda-v-env-py"
  },
  "language_info": {
   "codemirror_mode": {
    "name": "ipython",
    "version": 3
   },
   "file_extension": ".py",
   "mimetype": "text/x-python",
   "name": "python",
   "nbconvert_exporter": "python",
   "pygments_lexer": "ipython3",
   "version": "3.8.12"
  },
  "toc": {
   "base_numbering": 1,
   "nav_menu": {},
   "number_sections": true,
   "sideBar": true,
   "skip_h1_title": false,
   "title_cell": "Table of Contents",
   "title_sidebar": "Contents",
   "toc_cell": false,
   "toc_position": {},
   "toc_section_display": true,
   "toc_window_display": false
  }
 },
 "nbformat": 4,
 "nbformat_minor": 5
}
