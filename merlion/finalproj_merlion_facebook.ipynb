{
 "cells": [
  {
   "cell_type": "markdown",
   "id": "6087abcd",
   "metadata": {},
   "source": [
    "In order to run this notebook, the following environment and packages had to be installed:\n",
    "\n",
    "$ conda create -n v-env python=3.8\n",
    "\n",
    "activate v-env\n",
    "\n",
    "conda activate v-env\n",
    "\n",
    "conda config --set channel_priority false\n",
    "\n",
    "conda install -c conda-forge prophet\n",
    "\n",
    "pip install salesforce-merlion\n",
    "\n",
    "pip install pingouin\n",
    "\n",
    "pip install PyYAML\n",
    "\n",
    "pip install SQLAlchemy\n",
    "\n",
    "pip install ipykernel\n",
    "\n",
    "pip install jinja2\n",
    "\n",
    "pip install sfc-merlion[plot]\n",
    "\n",
    "pip install -e ts_datasets/\n",
    "\n",
    "conda install -e ts_datasets/\n",
    "\n",
    "conda install -c conda-forge lightgbm\n",
    "\n",
    "conda activate v-env\n",
    "\n",
    "pip install -e ts_datasets/\n",
    "\n",
    "pip intall -e ./Merlion/ts_dataset/"
   ]
  },
  {
   "cell_type": "code",
   "execution_count": 1,
   "id": "9baee9bc",
   "metadata": {
    "ExecuteTime": {
     "end_time": "2022-03-10T04:43:39.151344Z",
     "start_time": "2022-03-10T04:43:29.627003Z"
    }
   },
   "outputs": [
    {
     "name": "stderr",
     "output_type": "stream",
     "text": [
      "Matplotlib created a temporary config/cache directory at /tmp/matplotlib-g_vmdl2b because the default path (/home/mpingol/.cache/matplotlib) is not a writable directory; it is highly recommended to set the MPLCONFIGDIR environment variable to a writable directory, in particular to speed up the import of Matplotlib and to better support multiprocessing.\n"
     ]
    }
   ],
   "source": [
    "import matplotlib.pyplot as plt\n",
    "import numpy as np\n",
    "import pandas as pd\n",
    "\n",
    "from scipy.stats import norm\n",
    "\n",
    "#from ts_datasets.anomaly import NAB\n",
    "#from ts_datasets.forecast import M4\n",
    "\n",
    "#from merlion.plot import plot_anoms\n",
    "from merlion.utils import TimeSeries\n",
    "from merlion.utils.time_series import TimeSeries\n",
    "\n",
    "from merlion.transform.base import Identity\n",
    "from merlion.transform.resample import TemporalResample\n",
    "from merlion.transform.moving_average import DifferenceTransform\n",
    "\n",
    "from merlion.models.defaults import DefaultDetectorConfig, DefaultDetector\n",
    "#from merlion.models.anomaly.isolation_forest import IsolationForest, IsolationForestConfig\n",
    "#from merlion.models.anomaly.windstats import WindStats, WindStatsConfig\n",
    "#from merlion.models.anomaly.forecast_based.prophet import ProphetDetector, ProphetDetectorConfig\n",
    "\n",
    "from merlion.models.forecast.arima import Arima, ArimaConfig\n",
    "from merlion.models.forecast.prophet import Prophet, ProphetConfig\n",
    "from merlion.models.forecast.smoother import MSES, MSESConfig\n",
    "\n",
    "#from merlion.models.ensemble.anomaly import DetectorEnsemble, DetectorEnsembleConfig\n",
    "from merlion.models.defaults import DefaultForecasterConfig, DefaultForecaster\n",
    "from merlion.models.ensemble.combine import Mean, ModelSelector\n",
    "from merlion.models.ensemble.forecast import ForecasterEnsemble, ForecasterEnsembleConfig\n",
    "\n",
    "#from merlion.evaluate.anomaly import TSADMetric\n",
    "from merlion.post_process.threshold import AggregateAlarms\n",
    "from merlion.evaluate.forecast import ForecastMetric"
   ]
  },
  {
   "cell_type": "code",
   "execution_count": 11,
   "id": "0c4da042",
   "metadata": {
    "ExecuteTime": {
     "end_time": "2022-03-10T04:45:49.226780Z",
     "start_time": "2022-03-10T04:45:49.220197Z"
    }
   },
   "outputs": [],
   "source": [
    "from merlion.evaluate.forecast import ForecastMetric\n",
    "from merlion.models.factory import ModelFactory\n",
    "from merlion.models.ensemble.combine import ModelSelector"
   ]
  },
  {
   "cell_type": "markdown",
   "id": "4285c92a",
   "metadata": {},
   "source": [
    "# 1 Day Close and Tone "
   ]
  },
  {
   "cell_type": "code",
   "execution_count": 6,
   "id": "717438a6",
   "metadata": {
    "ExecuteTime": {
     "end_time": "2022-03-10T04:44:28.349061Z",
     "start_time": "2022-03-10T04:44:28.320575Z"
    }
   },
   "outputs": [],
   "source": [
    "tesla = pd.read_csv('~/cpt1/bdcc/final_project/GDELTS/facebook_completed.csv')\n",
    "tesla['Date'] = pd.date_range(tesla['Date'][0], periods=tesla.shape[0], freq='D')\n",
    "tesla.set_index('Date', inplace=True)"
   ]
  },
  {
   "cell_type": "code",
   "execution_count": 7,
   "id": "ffef3f0c",
   "metadata": {
    "ExecuteTime": {
     "end_time": "2022-03-10T04:44:30.182748Z",
     "start_time": "2022-03-10T04:44:30.173446Z"
    }
   },
   "outputs": [],
   "source": [
    "tesla_mv = tesla[['Close', 'Daily Average Tone']]"
   ]
  },
  {
   "cell_type": "code",
   "execution_count": 8,
   "id": "4f6a2e46",
   "metadata": {
    "ExecuteTime": {
     "end_time": "2022-03-10T04:44:30.847814Z",
     "start_time": "2022-03-10T04:44:30.812775Z"
    }
   },
   "outputs": [
    {
     "data": {
      "text/html": [
       "<div>\n",
       "<style scoped>\n",
       "    .dataframe tbody tr th:only-of-type {\n",
       "        vertical-align: middle;\n",
       "    }\n",
       "\n",
       "    .dataframe tbody tr th {\n",
       "        vertical-align: top;\n",
       "    }\n",
       "\n",
       "    .dataframe thead th {\n",
       "        text-align: right;\n",
       "    }\n",
       "</style>\n",
       "<table border=\"1\" class=\"dataframe\">\n",
       "  <thead>\n",
       "    <tr style=\"text-align: right;\">\n",
       "      <th></th>\n",
       "      <th>Close</th>\n",
       "      <th>Daily Average Tone</th>\n",
       "    </tr>\n",
       "    <tr>\n",
       "      <th>Date</th>\n",
       "      <th></th>\n",
       "      <th></th>\n",
       "    </tr>\n",
       "  </thead>\n",
       "  <tbody>\n",
       "    <tr>\n",
       "      <th>2015-02-18</th>\n",
       "      <td>76.709999</td>\n",
       "      <td>-2.857143</td>\n",
       "    </tr>\n",
       "    <tr>\n",
       "      <th>2015-02-19</th>\n",
       "      <td>79.419998</td>\n",
       "      <td>-3.970588</td>\n",
       "    </tr>\n",
       "    <tr>\n",
       "      <th>2015-02-20</th>\n",
       "      <td>79.900002</td>\n",
       "      <td>-4.884259</td>\n",
       "    </tr>\n",
       "    <tr>\n",
       "      <th>2015-02-21</th>\n",
       "      <td>78.839996</td>\n",
       "      <td>-3.934307</td>\n",
       "    </tr>\n",
       "    <tr>\n",
       "      <th>2015-02-22</th>\n",
       "      <td>78.449997</td>\n",
       "      <td>-2.397436</td>\n",
       "    </tr>\n",
       "    <tr>\n",
       "      <th>...</th>\n",
       "      <td>...</td>\n",
       "      <td>...</td>\n",
       "    </tr>\n",
       "    <tr>\n",
       "      <th>2017-12-27</th>\n",
       "      <td>177.820007</td>\n",
       "      <td>-3.890591</td>\n",
       "    </tr>\n",
       "    <tr>\n",
       "      <th>2017-12-28</th>\n",
       "      <td>177.509995</td>\n",
       "      <td>-3.319239</td>\n",
       "    </tr>\n",
       "    <tr>\n",
       "      <th>2017-12-29</th>\n",
       "      <td>179.100006</td>\n",
       "      <td>-3.135514</td>\n",
       "    </tr>\n",
       "    <tr>\n",
       "      <th>2017-12-30</th>\n",
       "      <td>179.649994</td>\n",
       "      <td>-2.543103</td>\n",
       "    </tr>\n",
       "    <tr>\n",
       "      <th>2017-12-31</th>\n",
       "      <td>178.869995</td>\n",
       "      <td>-1.890756</td>\n",
       "    </tr>\n",
       "  </tbody>\n",
       "</table>\n",
       "<p>1048 rows × 2 columns</p>\n",
       "</div>"
      ],
      "text/plain": [
       "                 Close  Daily Average Tone\n",
       "Date                                      \n",
       "2015-02-18   76.709999           -2.857143\n",
       "2015-02-19   79.419998           -3.970588\n",
       "2015-02-20   79.900002           -4.884259\n",
       "2015-02-21   78.839996           -3.934307\n",
       "2015-02-22   78.449997           -2.397436\n",
       "...                ...                 ...\n",
       "2017-12-27  177.820007           -3.890591\n",
       "2017-12-28  177.509995           -3.319239\n",
       "2017-12-29  179.100006           -3.135514\n",
       "2017-12-30  179.649994           -2.543103\n",
       "2017-12-31  178.869995           -1.890756\n",
       "\n",
       "[1048 rows x 2 columns]"
      ]
     },
     "execution_count": 8,
     "metadata": {},
     "output_type": "execute_result"
    }
   ],
   "source": [
    "tesla_mv"
   ]
  },
  {
   "cell_type": "code",
   "execution_count": 9,
   "id": "188954dc",
   "metadata": {
    "ExecuteTime": {
     "end_time": "2022-03-10T04:44:37.515418Z",
     "start_time": "2022-03-10T04:44:37.491973Z"
    }
   },
   "outputs": [
    {
     "name": "stdout",
     "output_type": "stream",
     "text": [
      "838 points in train split, 210 points in test split.\n",
      "Time series is 2-dimensional\n"
     ]
    }
   ],
   "source": [
    "test_size = 210\n",
    "train_data = TimeSeries.from_pd(tesla_mv[:-test_size])\n",
    "test_data  = TimeSeries.from_pd(tesla_mv[-test_size:])\n",
    "print(f\"{len(train_data)} points in train split, \"\n",
    "      f\"{len(test_data)} points in test split.\")\n",
    "print(f\"Time series is {train_data.dim}-dimensional\")"
   ]
  },
  {
   "cell_type": "code",
   "execution_count": 12,
   "id": "bd0fadf2",
   "metadata": {
    "ExecuteTime": {
     "end_time": "2022-03-10T04:47:55.131072Z",
     "start_time": "2022-03-10T04:45:52.808136Z"
    }
   },
   "outputs": [
    {
     "name": "stdout",
     "output_type": "stream",
     "text": [
      "DefaultForecaster Sliding Window Evaluation\n"
     ]
    },
    {
     "name": "stderr",
     "output_type": "stream",
     "text": [
      "ForecastEvaluator: 100%|██████████| 18057600/18057600 [00:57<00:00, 313536.58it/s]\n"
     ]
    },
    {
     "name": "stdout",
     "output_type": "stream",
     "text": [
      "RMSE:  7.3408\n",
      "sMAPE: 3.2859\n",
      "MAE:   5.4718\n",
      "\n",
      "Arima Sliding Window Evaluation\n"
     ]
    },
    {
     "name": "stderr",
     "output_type": "stream",
     "text": [
      "ForecastEvaluator: 100%|██████████| 18057600/18057600 [00:07<00:00, 2537938.58it/s]\n"
     ]
    },
    {
     "name": "stdout",
     "output_type": "stream",
     "text": [
      "RMSE:  5.9331\n",
      "sMAPE: 2.2593\n",
      "MAE:   3.6666\n",
      "\n"
     ]
    }
   ],
   "source": [
    "from merlion.evaluate.forecast import ForecastEvaluator, ForecastEvaluatorConfig\n",
    "\n",
    "target_seq_index = 0\n",
    "max_forecast_steps = 210\n",
    "kwargs = dict(target_seq_index=target_seq_index, max_forecast_steps=max_forecast_steps)\n",
    "\n",
    "model1 = ModelFactory.create(\"DefaultForecaster\", **kwargs)\n",
    "model2 = ModelFactory.create(\"Arima\", **kwargs)\n",
    "\n",
    "for model in [model1, model2]:\n",
    "    print(f\"{type(model).__name__} Sliding Window Evaluation\")\n",
    "    evaluator = ForecastEvaluator(model=model, config=ForecastEvaluatorConfig(\n",
    "        horizon=\"1d\", cadence=\"1d\", retrain_freq=None))\n",
    "    train_result, test_pred = evaluator.get_predict(train_vals=train_data, test_vals=test_data)\n",
    "    rmse = evaluator.evaluate(ground_truth=test_data, predict=test_pred, metric=ForecastMetric.RMSE)\n",
    "    smape = evaluator.evaluate(ground_truth=test_data, predict=test_pred, metric=ForecastMetric.sMAPE)\n",
    "    mae = evaluator.evaluate(ground_truth=test_data, predict=test_pred, metric=ForecastMetric.MAE)\n",
    "    print(f\"RMSE:  {rmse:.4f}\")\n",
    "    print(f\"sMAPE: {smape:.4f}\")\n",
    "    print(f\"MAE:   {mae:.4f}\")\n",
    "    print()"
   ]
  },
  {
   "cell_type": "markdown",
   "id": "ee07c447",
   "metadata": {},
   "source": [
    "# 1 Day Close Only"
   ]
  },
  {
   "cell_type": "code",
   "execution_count": 13,
   "id": "cdfe7c2c",
   "metadata": {
    "ExecuteTime": {
     "end_time": "2022-03-10T04:48:33.589699Z",
     "start_time": "2022-03-10T04:48:33.557062Z"
    }
   },
   "outputs": [],
   "source": [
    "tesla = pd.read_csv('~/cpt1/bdcc/final_project/GDELTS/facebook_completed.csv')\n",
    "tesla['Date'] = pd.date_range(tesla['Date'][0], periods=tesla.shape[0], freq='D')\n",
    "tesla.set_index('Date', inplace=True)"
   ]
  },
  {
   "cell_type": "code",
   "execution_count": 14,
   "id": "be16ef6b",
   "metadata": {
    "ExecuteTime": {
     "end_time": "2022-03-10T04:48:34.045617Z",
     "start_time": "2022-03-10T04:48:34.036710Z"
    }
   },
   "outputs": [],
   "source": [
    "tesla_mv = tesla[['Close']]"
   ]
  },
  {
   "cell_type": "code",
   "execution_count": 15,
   "id": "8a5a3070",
   "metadata": {
    "ExecuteTime": {
     "end_time": "2022-03-10T04:48:34.564114Z",
     "start_time": "2022-03-10T04:48:34.541993Z"
    }
   },
   "outputs": [
    {
     "data": {
      "text/html": [
       "<div>\n",
       "<style scoped>\n",
       "    .dataframe tbody tr th:only-of-type {\n",
       "        vertical-align: middle;\n",
       "    }\n",
       "\n",
       "    .dataframe tbody tr th {\n",
       "        vertical-align: top;\n",
       "    }\n",
       "\n",
       "    .dataframe thead th {\n",
       "        text-align: right;\n",
       "    }\n",
       "</style>\n",
       "<table border=\"1\" class=\"dataframe\">\n",
       "  <thead>\n",
       "    <tr style=\"text-align: right;\">\n",
       "      <th></th>\n",
       "      <th>Close</th>\n",
       "    </tr>\n",
       "    <tr>\n",
       "      <th>Date</th>\n",
       "      <th></th>\n",
       "    </tr>\n",
       "  </thead>\n",
       "  <tbody>\n",
       "    <tr>\n",
       "      <th>2015-02-18</th>\n",
       "      <td>76.709999</td>\n",
       "    </tr>\n",
       "    <tr>\n",
       "      <th>2015-02-19</th>\n",
       "      <td>79.419998</td>\n",
       "    </tr>\n",
       "    <tr>\n",
       "      <th>2015-02-20</th>\n",
       "      <td>79.900002</td>\n",
       "    </tr>\n",
       "    <tr>\n",
       "      <th>2015-02-21</th>\n",
       "      <td>78.839996</td>\n",
       "    </tr>\n",
       "    <tr>\n",
       "      <th>2015-02-22</th>\n",
       "      <td>78.449997</td>\n",
       "    </tr>\n",
       "    <tr>\n",
       "      <th>...</th>\n",
       "      <td>...</td>\n",
       "    </tr>\n",
       "    <tr>\n",
       "      <th>2017-12-27</th>\n",
       "      <td>177.820007</td>\n",
       "    </tr>\n",
       "    <tr>\n",
       "      <th>2017-12-28</th>\n",
       "      <td>177.509995</td>\n",
       "    </tr>\n",
       "    <tr>\n",
       "      <th>2017-12-29</th>\n",
       "      <td>179.100006</td>\n",
       "    </tr>\n",
       "    <tr>\n",
       "      <th>2017-12-30</th>\n",
       "      <td>179.649994</td>\n",
       "    </tr>\n",
       "    <tr>\n",
       "      <th>2017-12-31</th>\n",
       "      <td>178.869995</td>\n",
       "    </tr>\n",
       "  </tbody>\n",
       "</table>\n",
       "<p>1048 rows × 1 columns</p>\n",
       "</div>"
      ],
      "text/plain": [
       "                 Close\n",
       "Date                  \n",
       "2015-02-18   76.709999\n",
       "2015-02-19   79.419998\n",
       "2015-02-20   79.900002\n",
       "2015-02-21   78.839996\n",
       "2015-02-22   78.449997\n",
       "...                ...\n",
       "2017-12-27  177.820007\n",
       "2017-12-28  177.509995\n",
       "2017-12-29  179.100006\n",
       "2017-12-30  179.649994\n",
       "2017-12-31  178.869995\n",
       "\n",
       "[1048 rows x 1 columns]"
      ]
     },
     "execution_count": 15,
     "metadata": {},
     "output_type": "execute_result"
    }
   ],
   "source": [
    "tesla_mv"
   ]
  },
  {
   "cell_type": "code",
   "execution_count": 16,
   "id": "36339058",
   "metadata": {
    "ExecuteTime": {
     "end_time": "2022-03-10T04:48:37.139256Z",
     "start_time": "2022-03-10T04:48:37.119923Z"
    }
   },
   "outputs": [
    {
     "name": "stdout",
     "output_type": "stream",
     "text": [
      "838 points in train split, 210 points in test split.\n",
      "Time series is 1-dimensional\n"
     ]
    }
   ],
   "source": [
    "test_size = 210\n",
    "train_data = TimeSeries.from_pd(tesla_mv[:-test_size])\n",
    "test_data  = TimeSeries.from_pd(tesla_mv[-test_size:])\n",
    "print(f\"{len(train_data)} points in train split, \"\n",
    "      f\"{len(test_data)} points in test split.\")\n",
    "print(f\"Time series is {train_data.dim}-dimensional\")"
   ]
  },
  {
   "cell_type": "code",
   "execution_count": 17,
   "id": "2902ef7e",
   "metadata": {
    "ExecuteTime": {
     "end_time": "2022-03-10T04:48:54.965520Z",
     "start_time": "2022-03-10T04:48:38.573655Z"
    }
   },
   "outputs": [
    {
     "name": "stdout",
     "output_type": "stream",
     "text": [
      "DefaultForecaster Sliding Window Evaluation\n"
     ]
    },
    {
     "name": "stderr",
     "output_type": "stream",
     "text": [
      "ForecastEvaluator: 100%|██████████| 18057600/18057600 [00:09<00:00, 1883372.40it/s]\n"
     ]
    },
    {
     "name": "stdout",
     "output_type": "stream",
     "text": [
      "RMSE:  7.8516\n",
      "sMAPE: 3.1905\n",
      "MAE:   5.1970\n",
      "\n",
      "Arima Sliding Window Evaluation\n"
     ]
    },
    {
     "name": "stderr",
     "output_type": "stream",
     "text": [
      "ForecastEvaluator: 100%|██████████| 18057600/18057600 [00:06<00:00, 2995525.95it/s]\n"
     ]
    },
    {
     "name": "stdout",
     "output_type": "stream",
     "text": [
      "RMSE:  5.9331\n",
      "sMAPE: 2.2593\n",
      "MAE:   3.6666\n",
      "\n"
     ]
    }
   ],
   "source": [
    "from merlion.evaluate.forecast import ForecastEvaluator, ForecastEvaluatorConfig\n",
    "\n",
    "target_seq_index = 0\n",
    "max_forecast_steps = 210\n",
    "kwargs = dict(target_seq_index=target_seq_index, max_forecast_steps=max_forecast_steps)\n",
    "\n",
    "model1 = ModelFactory.create(\"DefaultForecaster\", **kwargs)\n",
    "model2 = ModelFactory.create(\"Arima\", **kwargs)\n",
    "\n",
    "for model in [model1, model2]:\n",
    "    print(f\"{type(model).__name__} Sliding Window Evaluation\")\n",
    "    evaluator = ForecastEvaluator(model=model, config=ForecastEvaluatorConfig(\n",
    "        horizon=\"1d\", cadence=\"1d\", retrain_freq=None))\n",
    "    train_result, test_pred = evaluator.get_predict(train_vals=train_data, test_vals=test_data)\n",
    "    rmse = evaluator.evaluate(ground_truth=test_data, predict=test_pred, metric=ForecastMetric.RMSE)\n",
    "    smape = evaluator.evaluate(ground_truth=test_data, predict=test_pred, metric=ForecastMetric.sMAPE)\n",
    "    mae = evaluator.evaluate(ground_truth=test_data, predict=test_pred, metric=ForecastMetric.MAE)\n",
    "    print(f\"RMSE:  {rmse:.4f}\")\n",
    "    print(f\"sMAPE: {smape:.4f}\")\n",
    "    print(f\"MAE:   {mae:.4f}\")\n",
    "    print()"
   ]
  },
  {
   "cell_type": "markdown",
   "id": "eb747aff",
   "metadata": {},
   "source": [
    "# 3 day close and tone"
   ]
  },
  {
   "cell_type": "code",
   "execution_count": 18,
   "id": "cde916d5",
   "metadata": {
    "ExecuteTime": {
     "end_time": "2022-03-10T04:51:05.491507Z",
     "start_time": "2022-03-10T04:49:11.429687Z"
    }
   },
   "outputs": [
    {
     "name": "stdout",
     "output_type": "stream",
     "text": [
      "838 points in train split, 210 points in test split.\n",
      "Time series is 2-dimensional\n",
      "DefaultForecaster Sliding Window Evaluation\n"
     ]
    },
    {
     "name": "stderr",
     "output_type": "stream",
     "text": [
      "ForecastEvaluator: 100%|██████████| 18057600/18057600 [01:04<00:00, 278519.06it/s]\n"
     ]
    },
    {
     "name": "stdout",
     "output_type": "stream",
     "text": [
      "RMSE:  5.7315\n",
      "sMAPE: 3.2136\n",
      "MAE:   5.3544\n",
      "\n",
      "Arima Sliding Window Evaluation\n"
     ]
    },
    {
     "name": "stderr",
     "output_type": "stream",
     "text": [
      "ForecastEvaluator: 100%|██████████| 18057600/18057600 [00:07<00:00, 2370070.45it/s]\n"
     ]
    },
    {
     "name": "stdout",
     "output_type": "stream",
     "text": [
      "RMSE:  4.0409\n",
      "sMAPE: 2.2332\n",
      "MAE:   3.6291\n",
      "\n"
     ]
    }
   ],
   "source": [
    "tesla = pd.read_csv('~/cpt1/bdcc/final_project/GDELTS/facebook_completed.csv')\n",
    "tesla['Date'] = pd.date_range(tesla['Date'][0], periods=tesla.shape[0], freq='D')\n",
    "tesla.set_index('Date', inplace=True)\n",
    "\n",
    "tesla_mv = tesla[['Close', 'Daily Average Tone']]\n",
    "\n",
    "tesla_mv\n",
    "\n",
    "test_size = 210\n",
    "train_data = TimeSeries.from_pd(tesla_mv[:-test_size])\n",
    "test_data  = TimeSeries.from_pd(tesla_mv[-test_size:])\n",
    "print(f\"{len(train_data)} points in train split, \"\n",
    "      f\"{len(test_data)} points in test split.\")\n",
    "print(f\"Time series is {train_data.dim}-dimensional\")\n",
    "\n",
    "from merlion.evaluate.forecast import ForecastEvaluator, ForecastEvaluatorConfig\n",
    "\n",
    "target_seq_index = 0\n",
    "max_forecast_steps = 70\n",
    "kwargs = dict(target_seq_index=target_seq_index, max_forecast_steps=max_forecast_steps)\n",
    "\n",
    "model1 = ModelFactory.create(\"DefaultForecaster\", **kwargs)\n",
    "model2 = ModelFactory.create(\"Arima\", **kwargs)\n",
    "\n",
    "for model in [model1, model2]:\n",
    "    print(f\"{type(model).__name__} Sliding Window Evaluation\")\n",
    "    evaluator = ForecastEvaluator(model=model, config=ForecastEvaluatorConfig(\n",
    "        horizon=\"3d\", cadence=\"1d\", retrain_freq=None))\n",
    "    train_result, test_pred = evaluator.get_predict(train_vals=train_data, test_vals=test_data)\n",
    "    rmse = evaluator.evaluate(ground_truth=test_data, predict=test_pred, metric=ForecastMetric.RMSE)\n",
    "    smape = evaluator.evaluate(ground_truth=test_data, predict=test_pred, metric=ForecastMetric.sMAPE)\n",
    "    mae = evaluator.evaluate(ground_truth=test_data, predict=test_pred, metric=ForecastMetric.MAE)\n",
    "    print(f\"RMSE:  {rmse:.4f}\")\n",
    "    print(f\"sMAPE: {smape:.4f}\")\n",
    "    print(f\"MAE:   {mae:.4f}\")\n",
    "    print()"
   ]
  },
  {
   "cell_type": "markdown",
   "id": "79ed3499",
   "metadata": {},
   "source": [
    "# 3 day close only"
   ]
  },
  {
   "cell_type": "code",
   "execution_count": 19,
   "id": "9a5d1e37",
   "metadata": {
    "ExecuteTime": {
     "end_time": "2022-03-10T04:51:24.174511Z",
     "start_time": "2022-03-10T04:51:07.918573Z"
    }
   },
   "outputs": [
    {
     "name": "stdout",
     "output_type": "stream",
     "text": [
      "838 points in train split, 210 points in test split.\n",
      "Time series is 1-dimensional\n",
      "DefaultForecaster Sliding Window Evaluation\n"
     ]
    },
    {
     "name": "stderr",
     "output_type": "stream",
     "text": [
      "ForecastEvaluator: 100%|██████████| 18057600/18057600 [00:09<00:00, 1923368.44it/s]\n"
     ]
    },
    {
     "name": "stdout",
     "output_type": "stream",
     "text": [
      "RMSE:  7.8516\n",
      "sMAPE: 3.1905\n",
      "MAE:   5.1970\n",
      "\n",
      "Arima Sliding Window Evaluation\n"
     ]
    },
    {
     "name": "stderr",
     "output_type": "stream",
     "text": [
      "ForecastEvaluator: 100%|██████████| 18057600/18057600 [00:06<00:00, 2988235.38it/s]\n"
     ]
    },
    {
     "name": "stdout",
     "output_type": "stream",
     "text": [
      "RMSE:  5.9331\n",
      "sMAPE: 2.2593\n",
      "MAE:   3.6666\n",
      "\n"
     ]
    }
   ],
   "source": [
    "tesla = pd.read_csv('~/cpt1/bdcc/final_project/GDELTS/facebook_completed.csv')\n",
    "tesla['Date'] = pd.date_range(tesla['Date'][0], periods=tesla.shape[0], freq='D')\n",
    "tesla.set_index('Date', inplace=True)\n",
    "\n",
    "tesla_mv = tesla[['Close']]\n",
    "\n",
    "test_size = 210\n",
    "train_data = TimeSeries.from_pd(tesla_mv[:-test_size])\n",
    "test_data  = TimeSeries.from_pd(tesla_mv[-test_size:])\n",
    "print(f\"{len(train_data)} points in train split, \"\n",
    "      f\"{len(test_data)} points in test split.\")\n",
    "print(f\"Time series is {train_data.dim}-dimensional\")\n",
    "\n",
    "from merlion.evaluate.forecast import ForecastEvaluator, ForecastEvaluatorConfig\n",
    "\n",
    "target_seq_index = 0\n",
    "max_forecast_steps = 210\n",
    "kwargs = dict(target_seq_index=target_seq_index, max_forecast_steps=max_forecast_steps)\n",
    "\n",
    "model1 = ModelFactory.create(\"DefaultForecaster\", **kwargs)\n",
    "model2 = ModelFactory.create(\"Arima\", **kwargs)\n",
    "\n",
    "for model in [model1, model2]:\n",
    "    print(f\"{type(model).__name__} Sliding Window Evaluation\")\n",
    "    evaluator = ForecastEvaluator(model=model, config=ForecastEvaluatorConfig(\n",
    "        horizon=\"1d\", cadence=\"1d\", retrain_freq=None))\n",
    "    train_result, test_pred = evaluator.get_predict(train_vals=train_data, test_vals=test_data)\n",
    "    rmse = evaluator.evaluate(ground_truth=test_data, predict=test_pred, metric=ForecastMetric.RMSE)\n",
    "    smape = evaluator.evaluate(ground_truth=test_data, predict=test_pred, metric=ForecastMetric.sMAPE)\n",
    "    mae = evaluator.evaluate(ground_truth=test_data, predict=test_pred, metric=ForecastMetric.MAE)\n",
    "    print(f\"RMSE:  {rmse:.4f}\")\n",
    "    print(f\"sMAPE: {smape:.4f}\")\n",
    "    print(f\"MAE:   {mae:.4f}\")\n",
    "    print()"
   ]
  },
  {
   "cell_type": "markdown",
   "id": "c672574a",
   "metadata": {},
   "source": [
    "# 5 day close and tone"
   ]
  },
  {
   "cell_type": "code",
   "execution_count": 22,
   "id": "62c25bdd",
   "metadata": {
    "ExecuteTime": {
     "end_time": "2022-03-10T04:54:24.743237Z",
     "start_time": "2022-03-10T04:52:23.101809Z"
    },
    "scrolled": true
   },
   "outputs": [
    {
     "name": "stdout",
     "output_type": "stream",
     "text": [
      "838 points in train split, 210 points in test split.\n",
      "Time series is 2-dimensional\n",
      "DefaultForecaster Sliding Window Evaluation\n"
     ]
    },
    {
     "name": "stderr",
     "output_type": "stream",
     "text": [
      "ForecastEvaluator: 100%|██████████| 18057600/18057600 [01:19<00:00, 228295.99it/s]\n"
     ]
    },
    {
     "name": "stdout",
     "output_type": "stream",
     "text": [
      "RMSE:  6.7331\n",
      "sMAPE: 3.7117\n",
      "MAE:   6.1568\n",
      "\n",
      "Arima Sliding Window Evaluation\n"
     ]
    },
    {
     "name": "stderr",
     "output_type": "stream",
     "text": [
      "ForecastEvaluator: 100%|██████████| 18057600/18057600 [00:07<00:00, 2436339.91it/s]\n"
     ]
    },
    {
     "name": "stdout",
     "output_type": "stream",
     "text": [
      "RMSE:  5.1371\n",
      "sMAPE: 2.7643\n",
      "MAE:   4.5122\n",
      "\n"
     ]
    }
   ],
   "source": [
    "tesla = pd.read_csv('~/cpt1/bdcc/final_project/GDELTS/facebook_completed.csv')\n",
    "tesla['Date'] = pd.date_range(tesla['Date'][0], periods=tesla.shape[0], freq='D')\n",
    "tesla.set_index('Date', inplace=True)\n",
    "\n",
    "tesla_mv = tesla[['Close', 'Daily Average Tone']]\n",
    "\n",
    "tesla_mv\n",
    "\n",
    "test_size = 210\n",
    "train_data = TimeSeries.from_pd(tesla_mv[:-test_size])\n",
    "test_data  = TimeSeries.from_pd(tesla_mv[-test_size:])\n",
    "print(f\"{len(train_data)} points in train split, \"\n",
    "      f\"{len(test_data)} points in test split.\")\n",
    "print(f\"Time series is {train_data.dim}-dimensional\")\n",
    "\n",
    "from merlion.evaluate.forecast import ForecastEvaluator, ForecastEvaluatorConfig\n",
    "\n",
    "target_seq_index = 0\n",
    "max_forecast_steps = 42\n",
    "kwargs = dict(target_seq_index=target_seq_index, max_forecast_steps=max_forecast_steps)\n",
    "\n",
    "model1 = ModelFactory.create(\"DefaultForecaster\", **kwargs)\n",
    "model2 = ModelFactory.create(\"Arima\", **kwargs)\n",
    "\n",
    "for model in [model1, model2]:\n",
    "    print(f\"{type(model).__name__} Sliding Window Evaluation\")\n",
    "    evaluator = ForecastEvaluator(model=model, config=ForecastEvaluatorConfig(\n",
    "        horizon=\"5d\", cadence=\"1d\", retrain_freq=None))\n",
    "    train_result, test_pred = evaluator.get_predict(train_vals=train_data, test_vals=test_data)\n",
    "    rmse = evaluator.evaluate(ground_truth=test_data, predict=test_pred, metric=ForecastMetric.RMSE)\n",
    "    smape = evaluator.evaluate(ground_truth=test_data, predict=test_pred, metric=ForecastMetric.sMAPE)\n",
    "    mae = evaluator.evaluate(ground_truth=test_data, predict=test_pred, metric=ForecastMetric.MAE)\n",
    "    print(f\"RMSE:  {rmse:.4f}\")\n",
    "    print(f\"sMAPE: {smape:.4f}\")\n",
    "    print(f\"MAE:   {mae:.4f}\")\n",
    "    print()"
   ]
  },
  {
   "cell_type": "markdown",
   "id": "ffbfdbb2",
   "metadata": {},
   "source": [
    "# 5 day close only"
   ]
  },
  {
   "cell_type": "code",
   "execution_count": 23,
   "id": "65ff7640",
   "metadata": {
    "ExecuteTime": {
     "end_time": "2022-03-10T04:55:12.885274Z",
     "start_time": "2022-03-10T04:54:46.812116Z"
    }
   },
   "outputs": [
    {
     "name": "stdout",
     "output_type": "stream",
     "text": [
      "838 points in train split, 210 points in test split.\n",
      "Time series is 1-dimensional\n",
      "DefaultForecaster Sliding Window Evaluation\n"
     ]
    },
    {
     "name": "stderr",
     "output_type": "stream",
     "text": [
      "ForecastEvaluator: 100%|██████████| 18057600/18057600 [00:10<00:00, 1788011.37it/s]\n"
     ]
    },
    {
     "name": "stdout",
     "output_type": "stream",
     "text": [
      "RMSE:  7.1031\n",
      "sMAPE: 3.9162\n",
      "MAE:   6.3890\n",
      "\n",
      "Arima Sliding Window Evaluation\n"
     ]
    },
    {
     "name": "stderr",
     "output_type": "stream",
     "text": [
      "ForecastEvaluator: 100%|██████████| 18057600/18057600 [00:06<00:00, 2872280.82it/s]\n"
     ]
    },
    {
     "name": "stdout",
     "output_type": "stream",
     "text": [
      "RMSE:  5.1371\n",
      "sMAPE: 2.7643\n",
      "MAE:   4.5122\n",
      "\n"
     ]
    }
   ],
   "source": [
    "tesla = pd.read_csv('~/cpt1/bdcc/final_project/GDELTS/facebook_completed.csv')\n",
    "tesla['Date'] = pd.date_range(tesla['Date'][0], periods=tesla.shape[0], freq='D')\n",
    "tesla.set_index('Date', inplace=True)\n",
    "\n",
    "tesla_mv = tesla[['Close']]\n",
    "\n",
    "test_size = 210\n",
    "train_data = TimeSeries.from_pd(tesla_mv[:-test_size])\n",
    "test_data  = TimeSeries.from_pd(tesla_mv[-test_size:])\n",
    "print(f\"{len(train_data)} points in train split, \"\n",
    "      f\"{len(test_data)} points in test split.\")\n",
    "print(f\"Time series is {train_data.dim}-dimensional\")\n",
    "\n",
    "from merlion.evaluate.forecast import ForecastEvaluator, ForecastEvaluatorConfig\n",
    "\n",
    "target_seq_index = 0\n",
    "max_forecast_steps = 42\n",
    "kwargs = dict(target_seq_index=target_seq_index, max_forecast_steps=max_forecast_steps)\n",
    "\n",
    "model1 = ModelFactory.create(\"DefaultForecaster\", **kwargs)\n",
    "model2 = ModelFactory.create(\"Arima\", **kwargs)\n",
    "\n",
    "for model in [model1, model2]:\n",
    "    print(f\"{type(model).__name__} Sliding Window Evaluation\")\n",
    "    evaluator = ForecastEvaluator(model=model, config=ForecastEvaluatorConfig(\n",
    "        horizon=\"5d\", cadence=\"1d\", retrain_freq=None))\n",
    "    train_result, test_pred = evaluator.get_predict(train_vals=train_data, test_vals=test_data)\n",
    "    rmse = evaluator.evaluate(ground_truth=test_data, predict=test_pred, metric=ForecastMetric.RMSE)\n",
    "    smape = evaluator.evaluate(ground_truth=test_data, predict=test_pred, metric=ForecastMetric.sMAPE)\n",
    "    mae = evaluator.evaluate(ground_truth=test_data, predict=test_pred, metric=ForecastMetric.MAE)\n",
    "    print(f\"RMSE:  {rmse:.4f}\")\n",
    "    print(f\"sMAPE: {smape:.4f}\")\n",
    "    print(f\"MAE:   {mae:.4f}\")\n",
    "    print()"
   ]
  },
  {
   "cell_type": "code",
   "execution_count": null,
   "id": "629fc43e",
   "metadata": {},
   "outputs": [],
   "source": []
  },
  {
   "cell_type": "code",
   "execution_count": null,
   "id": "4f058687",
   "metadata": {},
   "outputs": [],
   "source": []
  }
 ],
 "metadata": {
  "kernelspec": {
   "display_name": "Python [conda env:.conda-v-env]",
   "language": "python",
   "name": "conda-env-.conda-v-env-py"
  },
  "language_info": {
   "codemirror_mode": {
    "name": "ipython",
    "version": 3
   },
   "file_extension": ".py",
   "mimetype": "text/x-python",
   "name": "python",
   "nbconvert_exporter": "python",
   "pygments_lexer": "ipython3",
   "version": "3.8.12"
  },
  "toc": {
   "base_numbering": 1,
   "nav_menu": {},
   "number_sections": true,
   "sideBar": true,
   "skip_h1_title": false,
   "title_cell": "Table of Contents",
   "title_sidebar": "Contents",
   "toc_cell": false,
   "toc_position": {},
   "toc_section_display": true,
   "toc_window_display": false
  }
 },
 "nbformat": 4,
 "nbformat_minor": 5
}
